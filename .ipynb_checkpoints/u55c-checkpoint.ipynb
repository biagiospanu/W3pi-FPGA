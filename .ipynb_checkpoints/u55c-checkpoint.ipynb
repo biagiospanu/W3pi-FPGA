{
 "cells": [
  {
   "cell_type": "markdown",
   "id": "78369675-e3af-41d9-88e8-2a26ccf1eed6",
   "metadata": {},
   "source": [
    "## Alveo U55c"
   ]
  },
  {
   "cell_type": "code",
   "execution_count": 15,
   "id": "c355a614-08d7-462a-a10d-dd1e7d710adb",
   "metadata": {},
   "outputs": [],
   "source": [
    "# INFN-MIB Cloud Environment Paths\n",
    "import os\n",
    "import sys\n",
    "import sysconfig\n",
    "import pybind11\n",
    "\n",
    "# Add Viavado bin\n",
    "os.environ['PATH'] = '/opt/tools/Xilinx/Vivado/2023.2/bin:' + os.environ['PATH']\n",
    "\n",
    "# Pynq-Z2 files\n",
    "os.environ[\"BOARD_REPO_PATHS\"] = \"/opt/tools/Xilinx/Vivado/2023.2/data/boards/board_files/pynq-z2\"\n",
    "\n",
    "# Add HLS bin\n",
    "os.environ['PATH'] = '/opt/tools/Xilinx/Vitis_HLS/2023.2/bin:' + os.environ['PATH']\n",
    "os.environ['XILINX_HLS'] = '/opt/tools/Xilinx/Vitis_HLS/2023.2/'\n",
    "\n",
    "# Use system compilers\n",
    "os.environ['CC'] = '/usr/bin/gcc'\n",
    "os.environ['CXX'] = '/usr/bin/g++'\n",
    "os.environ['LD'] = '/usr/bin/ld'\n",
    "\n",
    "## Python bindings\n",
    "# Force shell subprocesses to use the right python\n",
    "env_path = os.environ['PATH']\n",
    "correct_python_dir = os.path.dirname(sys.executable)\n",
    "os.environ['PATH'] = f\"{correct_python_dir}:{env_path}\"\n",
    "\n",
    "# Tell the compiler where to find the Python and pybind11 headers\n",
    "python_include = sysconfig.get_paths()['include']\n",
    "pybind11_include = pybind11.get_include()\n",
    "os.environ['CXXFLAGS'] = f\"-I{python_include} -I{pybind11_include}\"\n",
    "\n",
    "# Optional: help downstream tools pick the right interpreter\n",
    "os.environ['PYTHON_EXECUTABLE'] = sys.executable\n",
    "\n",
    "# Now Vitis\n",
    "os.environ[\"XILINX_VITIS\"] = \"/opt/tools/Xilinx/Vitis/2023.2/\"\n",
    "os.environ[\"XILINX_XRT\"] = \"/opt/xilinx/xrt/\"\n",
    "os.environ[\"XILINX_PLATFORM\"] = \"/opt/xilinx/platforms/xilinx_u55c_gen3x16_xdma_3_202210_1/xilinx_u55c_gen3x16_xdma_3_202210_1.xpfm\"\n",
    "\n",
    "os.environ[\"PATH\"] = (\n",
    "    f\"{os.environ['XILINX_VITIS']}/bin:\"\n",
    "    f\"{os.environ['XILINX_XRT']}/bin:\"\n",
    "    + os.environ[\"PATH\"]\n",
    ")\n",
    "\n",
    "os.environ[\"LD_LIBRARY_PATH\"] = (\n",
    "    f\"{os.environ['XILINX_VITIS']}/lib/lnx64.o:\"\n",
    "    f\"{os.environ['XILINX_XRT']}/lib:\"\n",
    "    + os.environ.get(\"LD_LIBRARY_PATH\", \"\")\n",
    ")\n",
    "\n",
    "# General Imports\n",
    "from sklearn.datasets import make_moons\n",
    "from sklearn.inspection import DecisionBoundaryDisplay\n",
    "import xgboost as xgb\n",
    "import matplotlib.pyplot as plt\n",
    "import numpy as np\n",
    "from scipy.special import expit\n",
    "import conifer\n",
    "import json\n",
    "\n",
    "# enable more output from conifer\n",
    "import logging\n",
    "logging.basicConfig(stream=sys.stdout, level=logging.WARNING)\n",
    "logger = logging.getLogger('conifer')\n",
    "logger.setLevel('INFO')\n",
    "\n",
    "seed = int('fpga_tutorial'.encode('utf-8').hex(), 16) % 2**31"
   ]
  },
  {
   "cell_type": "code",
   "execution_count": 16,
   "id": "c0eb01a0-3f26-439e-9b08-12781b30a9d5",
   "metadata": {},
   "outputs": [],
   "source": [
    "#print(f'Supported boards: {conifer.backends.boards.get_available_boards()}')"
   ]
  },
  {
   "cell_type": "code",
   "execution_count": 17,
   "id": "9c6bdc26-c8b4-43f7-9156-69830c3f6f9a",
   "metadata": {},
   "outputs": [
    {
     "name": "stdout",
     "output_type": "stream",
     "text": [
      "ERROR:conifer.backends.boards:board configuration with name \"xilinx_u55c_gen3x16_xdma_3_202210_1\" is already registered\n",
      "U55c Configuration\n",
      "--------------------------------------------------\n",
      "{\n",
      "  \"Backend\": \"xilinxhls\",\n",
      "  \"ProjectName\": \"my_prj\",\n",
      "  \"OutputDir\": \"prj_conifer_part_1_u55c\",\n",
      "  \"XilinxPart\": \"xcvu9p-flgb2104-2L-e\",\n",
      "  \"ClockPeriod\": \"5\",\n",
      "  \"Unroll\": true,\n",
      "  \"AcceleratorConfig\": {\n",
      "    \"Board\": \"xilinx_u55c_gen3x16_xdma_3_202210_1\",\n",
      "    \"InterfaceType\": \"float\"\n",
      "  },\n",
      "  \"Precision\": \"ap_fixed<18,8>\"\n",
      "}\n",
      "--------------------------------------------------\n"
     ]
    }
   ],
   "source": [
    "# Define and register Alveo U55c\n",
    "u55c = conifer.backends.boards.AlveoConfig.default_config()\n",
    "u55c['xilinx_part'] = 'xcu55c-fsvh2892-2L-e' # board part\n",
    "#u55c['xilinx_part'] = 'xcvu47p-fsvh2892-2L-e' # chip part - DO NOT USE\n",
    "u55c['platform'] = 'xilinx_u55c_gen3x16_xdma_3_202210_1'\n",
    "u55c['name'] = 'xilinx_u55c_gen3x16_xdma_3_202210_1'\n",
    "#print(json.dumps(u55c, indent=2))\n",
    "\n",
    "u55c = conifer.backends.boards.AlveoConfig(u55c)\n",
    "conifer.backends.boards.register_board_config(u55c.name, u55c)\n",
    "conifer.backends.boards.get_available_boards()\n",
    "\n",
    "# Now conifer config\n",
    "u55c_model_cfg = conifer.backends.xilinxhls.auto_config()\n",
    "u55c_model_cfg['OutputDir'] = 'prj_conifer_part_1_u55c'          # choose a new project directory\n",
    "u55c_model_cfg['AcceleratorConfig'] = {'Board' : 'xilinx_u55c_gen3x16_xdma_3_202210_1',\n",
    "                                       'InterfaceType' : 'float'\n",
    "                                      }\n",
    "\n",
    "# print the config\n",
    "print('U55c Configuration\\n' + '-' * 50)\n",
    "print(json.dumps(u55c_model_cfg, indent=2))\n",
    "print('-' * 50)"
   ]
  },
  {
   "cell_type": "code",
   "execution_count": 18,
   "id": "2f44636a-ac42-4d52-b2b8-091cb11f99f4",
   "metadata": {},
   "outputs": [
    {
     "name": "stdout",
     "output_type": "stream",
     "text": [
      "WARNING:conifer.backends.boards.boards:Project and Board config xilinx_parts do not match (xcvu9p-flgb2104-2L-e, xcu55c-fsvh2892-2L-e), setting to xcu55c-fsvh2892-2L-e\n",
      "INFO:conifer.backends.xilinxhls.writer:Writing project to /home/bspanu/hackathon/prj_conifer_part_1_u55c\n"
     ]
    }
   ],
   "source": [
    "model = xgb.XGBClassifier()\n",
    "model.load_model('best_model.json')\n",
    "#u55c_model = conifer.model.load_model('best_model.json', new_config=u55c_model_cfg)\n",
    "u55c_model = conifer.converters.convert_from_xgboost(model, u55c_model_cfg)\n",
    "u55c_model.write()"
   ]
  },
  {
   "cell_type": "code",
   "execution_count": 19,
   "id": "ed4a4dbc-a1e3-47b0-b736-cf0c3f68235e",
   "metadata": {},
   "outputs": [
    {
     "name": "stdout",
     "output_type": "stream",
     "text": [
      "Thu Sep  4 12:10:55 UTC 2025\n"
     ]
    }
   ],
   "source": [
    "!date"
   ]
  },
  {
   "cell_type": "code",
   "execution_count": null,
   "id": "4683399f-9df5-415f-be14-c8149b0c20b0",
   "metadata": {},
   "outputs": [
    {
     "name": "stdout",
     "output_type": "stream",
     "text": [
      "INFO:conifer.backends.xilinxhls.writer:build starting 18:04:04\n"
     ]
    }
   ],
   "source": [
    "u55c_model.build(synth=True, bitfile=True)"
   ]
  },
  {
   "cell_type": "code",
   "execution_count": null,
   "id": "c2fae7a8-7c25-484e-9afb-0167c0707a16",
   "metadata": {},
   "outputs": [],
   "source": [
    "!date"
   ]
  },
  {
   "cell_type": "markdown",
   "id": "740c7333-ab70-4c29-abcd-34f365a17779",
   "metadata": {},
   "source": [
    "### Run on Alveo"
   ]
  },
  {
   "cell_type": "code",
   "execution_count": 25,
   "id": "23a1ea7d-56b6-44ef-9731-59884d075ea4",
   "metadata": {},
   "outputs": [],
   "source": [
    "u55c_model = conifer.backends.xilinxhls.runtime.AlveoDriver('prj_conifer_part_1_u55c/my_prj.xclbin', ip_name='my_prj_accelerator_1', batch_size=1)\n",
    "#model_py = conifer.model.load_model('best_model.json', new_config={'backend':'py','output_dir':'dummy','project_name':'dummy'})\n",
    "model_py = xgb.XGBClassifier()\n",
    "model_py.load_model('best_model.json')"
   ]
  },
  {
   "cell_type": "code",
   "execution_count": 28,
   "id": "a187dca3-caaa-4833-940e-c61150a8122e",
   "metadata": {},
   "outputs": [],
   "source": [
    "import pandas as pd\n",
    "data = pd.read_hdf('data.h5')\n",
    "test_data = data[data['is_train']==False]\n",
    "most_important = np.array([3, 2, 37, 49, 24, 56, 1, 51, 58, 47])\n",
    "X_test = test_data.iloc[:, most_important+3]\n",
    "y_test = test_data['class']"
   ]
  },
  {
   "cell_type": "code",
   "execution_count": 29,
   "id": "4d1e9f0b-70c4-452b-9354-67ca8714ee10",
   "metadata": {},
   "outputs": [],
   "source": [
    "u55c_model._init_buffers(batch_size=X_test.shape[0])"
   ]
  },
  {
   "cell_type": "code",
   "execution_count": 39,
   "id": "5da27ee8-2460-44ad-abb7-f6fe33658984",
   "metadata": {},
   "outputs": [],
   "source": [
    "y_u55c = u55c_model.decision_function(X_test.to_numpy())[:, 0]\n",
    "y_py = model_py.predict(X_test.to_numpy(), output_margin=True)"
   ]
  },
  {
   "cell_type": "code",
   "execution_count": 45,
   "id": "b379d5d6-3347-4463-839b-fcc7b7971e8b",
   "metadata": {},
   "outputs": [
    {
     "name": "stdout",
     "output_type": "stream",
     "text": [
      "11.6 ms ± 29.6 μs per loop (mean ± std. dev. of 7 runs, 100 loops each)\n"
     ]
    }
   ],
   "source": [
    "%timeit u55c_model.decision_function(X_test.to_numpy()) "
   ]
  },
  {
   "cell_type": "code",
   "execution_count": 47,
   "id": "4222c2eb-70ea-4781-86d4-6a5d2254ada1",
   "metadata": {},
   "outputs": [
    {
     "name": "stdout",
     "output_type": "stream",
     "text": [
      "21.9 ms ± 805 μs per loop (mean ± std. dev. of 7 runs, 10 loops each)\n"
     ]
    }
   ],
   "source": [
    "%timeit model_py.predict(X_test.to_numpy(), output_margin=True)"
   ]
  },
  {
   "cell_type": "code",
   "execution_count": 40,
   "id": "f243b38b-3705-4a94-9de2-a7faf25a6ff7",
   "metadata": {},
   "outputs": [
    {
     "name": "stdout",
     "output_type": "stream",
     "text": [
      "[ -8.411133 -10.246094  -6.354492 ...  -5.100586  -8.720703  -5.921875]\n",
      "[ -8.40197  -10.237205  -6.345311 ...  -5.09098   -8.711355  -5.911623]\n"
     ]
    }
   ],
   "source": [
    "print(y_u55c[3:])\n",
    "print(y_py[3:])"
   ]
  },
  {
   "cell_type": "code",
   "execution_count": 42,
   "id": "41cc31b9-5768-4828-ae58-3e86b1a16412",
   "metadata": {},
   "outputs": [],
   "source": [
    "from scipy.special import expit\n",
    "different = (expit(y_u55c)>0.5) ^ (expit(y_py)>0.5)"
   ]
  },
  {
   "cell_type": "code",
   "execution_count": 44,
   "id": "4dd4cc0c-dd73-4b4e-95e8-bb3ec9bc5cab",
   "metadata": {},
   "outputs": [
    {
     "data": {
      "text/plain": [
       "PynqBuffer(0.00083299)"
      ]
     },
     "execution_count": 44,
     "metadata": {},
     "output_type": "execute_result"
    }
   ],
   "source": [
    "np.sum(different)/different.size"
   ]
  },
  {
   "cell_type": "markdown",
   "id": "c326d534-f08f-47c2-a735-ecb1623fbbd7",
   "metadata": {},
   "source": [
    "# Confronto tempi"
   ]
  },
  {
   "cell_type": "code",
   "execution_count": 50,
   "id": "917eb3d9-3b11-46fb-b0bd-81152d00bf4c",
   "metadata": {},
   "outputs": [
    {
     "data": {
      "text/plain": [
       "106.08"
      ]
     },
     "execution_count": 50,
     "metadata": {},
     "output_type": "execute_result"
    }
   ],
   "source": [
    "import time\n",
    "dts = []\n",
    "for _ in range(1000):\n",
    "    time1 = time.time_ns()\n",
    "    time2 = time.time_ns()\n",
    "    dts.append(time2-time1)\n",
    "dt = np.mean(dts)\n",
    "dt"
   ]
  },
  {
   "cell_type": "code",
   "execution_count": 72,
   "id": "55c7d784-85c4-435d-8df6-0f5d7248c4b8",
   "metadata": {},
   "outputs": [],
   "source": [
    "n_samples, n_features = X_test.shape\n",
    "dtimes_py = []\n",
    "xs = np.linspace(1, 100000, 1000, dtype=int)\n",
    "for butch_size in xs:\n",
    "    x = np.zeros((butch_size, n_features), dtype=np.float32)\n",
    "    time1 = time.time_ns()\n",
    "    raw = model_py.predict(x, output_margin=True)\n",
    "    time2 = time.time_ns()\n",
    "    dtimes_py.append(time2 - time1 - dt)"
   ]
  },
  {
   "cell_type": "code",
   "execution_count": 73,
   "id": "5a673e05-8978-402d-9aeb-84c1f8cec58f",
   "metadata": {},
   "outputs": [],
   "source": [
    "dtimes_u55c = []\n",
    "for butch_size in xs:\n",
    "    x = np.zeros((butch_size, n_features), dtype=np.float32)\n",
    "    u55c_model._init_buffers(batch_size=butch_size)\n",
    "    time1 = time.time_ns()\n",
    "    u55c_model.decision_function(x)\n",
    "    time2 = time.time_ns()\n",
    "    dtimes_u55c.append(time2 - time1 - dt)"
   ]
  },
  {
   "cell_type": "code",
   "execution_count": 75,
   "id": "6b06f954-a0c4-430a-8137-a3dc518f2453",
   "metadata": {},
   "outputs": [
    {
     "data": {
      "image/png": "[encoded data removed]",
      "text/plain": [
       "<Figure size 640x480 with 1 Axes>"
      ]
     },
     "metadata": {},
     "output_type": "display_data"
    }
   ],
   "source": [
    "plt.plot(xs, dtimes_u55c, label='u55c')\n",
    "plt.plot(xs, dtimes_py, label='cpu')\n",
    "plt.legend()\n",
    "#plt.yscale('log')\n",
    "plt.xscale('log')"
   ]
  },
  {
   "cell_type": "code",
   "execution_count": null,
   "id": "18dca906-0c94-49d2-9b43-edea99ca1b4d",
   "metadata": {},
   "outputs": [],
   "source": []
  }
 ],
 "metadata": {
  "kernelspec": {
   "display_name": "Python 3.10 (fpga-ml)",
   "language": "python",
   "name": "fpga-ml"
  },
  "language_info": {
   "codemirror_mode": {
    "name": "ipython",
    "version": 3
   },
   "file_extension": ".py",
   "mimetype": "text/x-python",
   "name": "python",
   "nbconvert_exporter": "python",
   "pygments_lexer": "ipython3",
   "version": "3.10.18"
  }
 },
 "nbformat": 4,
 "nbformat_minor": 5
}
