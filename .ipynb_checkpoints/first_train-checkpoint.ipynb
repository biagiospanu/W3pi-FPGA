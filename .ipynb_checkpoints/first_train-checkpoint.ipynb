{
 "cells": [
  {
   "cell_type": "markdown",
   "id": "c11350db-aaff-4892-a97e-4d03f214e3c7",
   "metadata": {},
   "source": [
    "# libraries"
   ]
  },
  {
   "cell_type": "code",
   "execution_count": 188,
   "id": "99c3e034-2db2-4438-8a7c-2f4a8a90b1a9",
   "metadata": {},
   "outputs": [],
   "source": [
    "import pandas as pd\n",
    "import xgboost as xgb\n",
    "from sklearn.inspection import DecisionBoundaryDisplay\n",
    "from sklearn import metrics\n",
    "import matplotlib.pyplot as plt\n",
    "import numpy as np\n",
    "from sklearn.model_selection import GridSearchCV"
   ]
  },
  {
   "cell_type": "markdown",
   "id": "5a628d0c-5b81-43e4-a8da-fee6761c9711",
   "metadata": {},
   "source": [
    "# Import data"
   ]
  },
  {
   "cell_type": "code",
   "execution_count": 189,
   "id": "897085db-7e29-4641-af88-57bcc5548fa9",
   "metadata": {},
   "outputs": [],
   "source": [
    "data = pd.read_hdf('data.h5')\n",
    "\n",
    "train_data=data[data['is_train']]\n",
    "test_data = data[data['is_train']==False]\n",
    "\n",
    "train_signal_data = train_data[train_data['class']==1]\n",
    "#train_signal_data = train_signal_data.to_numpy().T\n",
    "train_base_data = train_data[train_data['class']==0]\n",
    "#train_base_data = train_base_data.to_numpy().T"
   ]
  },
  {
   "cell_type": "markdown",
   "id": "c345c6a6-0bd6-41b1-a968-03e9ce45abf2",
   "metadata": {},
   "source": [
    "# Train with every feature"
   ]
  },
  {
   "cell_type": "code",
   "execution_count": 3,
   "id": "cb69acaa-b103-49bc-97e3-a6bb73d4cf90",
   "metadata": {},
   "outputs": [],
   "source": [
    "X_train = train_data.iloc[:, 3:63]\n",
    "y_train = train_data['class']\n",
    "\n",
    "X_test = test_data.iloc[:, 3:63]\n",
    "y_test = test_data['class']"
   ]
  },
  {
   "cell_type": "code",
   "execution_count": 4,
   "id": "e2ac11e0-0d63-49ec-af81-d05d4f1db419",
   "metadata": {},
   "outputs": [
    {
     "data": {
      "text/html": [
       "<div>\n",
       "<style scoped>\n",
       "    .dataframe tbody tr th:only-of-type {\n",
       "        vertical-align: middle;\n",
       "    }\n",
       "\n",
       "    .dataframe tbody tr th {\n",
       "        vertical-align: top;\n",
       "    }\n",
       "\n",
       "    .dataframe thead th {\n",
       "        text-align: right;\n",
       "    }\n",
       "</style>\n",
       "<table border=\"1\" class=\"dataframe\">\n",
       "  <thead>\n",
       "    <tr style=\"text-align: right;\">\n",
       "      <th></th>\n",
       "      <th>nL1Puppi</th>\n",
       "      <th>pi0_pt</th>\n",
       "      <th>pi1_pt</th>\n",
       "      <th>pi2_pt</th>\n",
       "      <th>pi0_eta</th>\n",
       "      <th>pi1_eta</th>\n",
       "      <th>pi2_eta</th>\n",
       "      <th>pi0_phi</th>\n",
       "      <th>pi1_phi</th>\n",
       "      <th>pi2_phi</th>\n",
       "      <th>...</th>\n",
       "      <th>triplet_pt</th>\n",
       "      <th>triplet_charge</th>\n",
       "      <th>triplet_maxdEta</th>\n",
       "      <th>triplet_mindEta</th>\n",
       "      <th>triplet_maxdPhi</th>\n",
       "      <th>triplet_mindPhi</th>\n",
       "      <th>triplet_maxdR</th>\n",
       "      <th>triplet_mindR</th>\n",
       "      <th>triplet_maxdVz</th>\n",
       "      <th>triplet_mindVz</th>\n",
       "    </tr>\n",
       "  </thead>\n",
       "  <tbody>\n",
       "    <tr>\n",
       "      <th>0</th>\n",
       "      <td>16</td>\n",
       "      <td>26.50</td>\n",
       "      <td>9.75</td>\n",
       "      <td>3.50</td>\n",
       "      <td>0.323242</td>\n",
       "      <td>-1.367188</td>\n",
       "      <td>-0.845703</td>\n",
       "      <td>2.445312</td>\n",
       "      <td>-1.507812</td>\n",
       "      <td>1.992188</td>\n",
       "      <td>...</td>\n",
       "      <td>23.594595</td>\n",
       "      <td>-1.0</td>\n",
       "      <td>1.690430</td>\n",
       "      <td>-0.521484</td>\n",
       "      <td>3.953125</td>\n",
       "      <td>-3.500000</td>\n",
       "      <td>2.878669</td>\n",
       "      <td>1.253697</td>\n",
       "      <td>0.062500</td>\n",
       "      <td>-0.062500</td>\n",
       "    </tr>\n",
       "    <tr>\n",
       "      <th>1</th>\n",
       "      <td>43</td>\n",
       "      <td>4.25</td>\n",
       "      <td>3.25</td>\n",
       "      <td>3.00</td>\n",
       "      <td>1.429688</td>\n",
       "      <td>0.767578</td>\n",
       "      <td>0.323242</td>\n",
       "      <td>0.392578</td>\n",
       "      <td>2.882812</td>\n",
       "      <td>1.203125</td>\n",
       "      <td>...</td>\n",
       "      <td>5.577529</td>\n",
       "      <td>1.0</td>\n",
       "      <td>1.106445</td>\n",
       "      <td>0.444336</td>\n",
       "      <td>1.679688</td>\n",
       "      <td>-2.490234</td>\n",
       "      <td>2.576753</td>\n",
       "      <td>1.371571</td>\n",
       "      <td>0.250000</td>\n",
       "      <td>-0.100098</td>\n",
       "    </tr>\n",
       "    <tr>\n",
       "      <th>2</th>\n",
       "      <td>38</td>\n",
       "      <td>6.00</td>\n",
       "      <td>5.25</td>\n",
       "      <td>4.00</td>\n",
       "      <td>0.388672</td>\n",
       "      <td>-1.574219</td>\n",
       "      <td>-2.101562</td>\n",
       "      <td>-0.218262</td>\n",
       "      <td>0.445312</td>\n",
       "      <td>1.097656</td>\n",
       "      <td>...</td>\n",
       "      <td>13.216339</td>\n",
       "      <td>-1.0</td>\n",
       "      <td>2.490234</td>\n",
       "      <td>0.527344</td>\n",
       "      <td>-0.652344</td>\n",
       "      <td>-1.315918</td>\n",
       "      <td>2.816542</td>\n",
       "      <td>0.838835</td>\n",
       "      <td>0.390625</td>\n",
       "      <td>-1.000000</td>\n",
       "    </tr>\n",
       "    <tr>\n",
       "      <th>3</th>\n",
       "      <td>45</td>\n",
       "      <td>33.50</td>\n",
       "      <td>18.50</td>\n",
       "      <td>4.00</td>\n",
       "      <td>2.015625</td>\n",
       "      <td>1.789062</td>\n",
       "      <td>-0.335938</td>\n",
       "      <td>-2.539062</td>\n",
       "      <td>-0.619141</td>\n",
       "      <td>2.679688</td>\n",
       "      <td>...</td>\n",
       "      <td>32.253708</td>\n",
       "      <td>-1.0</td>\n",
       "      <td>2.351562</td>\n",
       "      <td>0.226562</td>\n",
       "      <td>-1.919922</td>\n",
       "      <td>-5.218750</td>\n",
       "      <td>3.663607</td>\n",
       "      <td>1.933244</td>\n",
       "      <td>0.101562</td>\n",
       "      <td>-0.050781</td>\n",
       "    </tr>\n",
       "    <tr>\n",
       "      <th>4</th>\n",
       "      <td>30</td>\n",
       "      <td>6.00</td>\n",
       "      <td>4.50</td>\n",
       "      <td>4.00</td>\n",
       "      <td>0.117920</td>\n",
       "      <td>2.304688</td>\n",
       "      <td>2.140625</td>\n",
       "      <td>-0.257812</td>\n",
       "      <td>-1.148438</td>\n",
       "      <td>-2.054688</td>\n",
       "      <td>...</td>\n",
       "      <td>10.846830</td>\n",
       "      <td>1.0</td>\n",
       "      <td>0.164062</td>\n",
       "      <td>-2.186768</td>\n",
       "      <td>1.796875</td>\n",
       "      <td>0.890625</td>\n",
       "      <td>2.705568</td>\n",
       "      <td>0.920981</td>\n",
       "      <td>0.449219</td>\n",
       "      <td>0.199219</td>\n",
       "    </tr>\n",
       "    <tr>\n",
       "      <th>...</th>\n",
       "      <td>...</td>\n",
       "      <td>...</td>\n",
       "      <td>...</td>\n",
       "      <td>...</td>\n",
       "      <td>...</td>\n",
       "      <td>...</td>\n",
       "      <td>...</td>\n",
       "      <td>...</td>\n",
       "      <td>...</td>\n",
       "      <td>...</td>\n",
       "      <td>...</td>\n",
       "      <td>...</td>\n",
       "      <td>...</td>\n",
       "      <td>...</td>\n",
       "      <td>...</td>\n",
       "      <td>...</td>\n",
       "      <td>...</td>\n",
       "      <td>...</td>\n",
       "      <td>...</td>\n",
       "      <td>...</td>\n",
       "      <td>...</td>\n",
       "    </tr>\n",
       "    <tr>\n",
       "      <th>44814</th>\n",
       "      <td>55</td>\n",
       "      <td>20.50</td>\n",
       "      <td>18.00</td>\n",
       "      <td>12.25</td>\n",
       "      <td>-0.410156</td>\n",
       "      <td>-1.246094</td>\n",
       "      <td>-1.898438</td>\n",
       "      <td>2.625000</td>\n",
       "      <td>-0.798828</td>\n",
       "      <td>-0.300781</td>\n",
       "      <td>...</td>\n",
       "      <td>9.074035</td>\n",
       "      <td>-1.0</td>\n",
       "      <td>1.488281</td>\n",
       "      <td>0.652344</td>\n",
       "      <td>3.423828</td>\n",
       "      <td>-0.498047</td>\n",
       "      <td>3.282557</td>\n",
       "      <td>0.820733</td>\n",
       "      <td>1.402344</td>\n",
       "      <td>0.351562</td>\n",
       "    </tr>\n",
       "    <tr>\n",
       "      <th>44815</th>\n",
       "      <td>31</td>\n",
       "      <td>4.00</td>\n",
       "      <td>3.50</td>\n",
       "      <td>3.00</td>\n",
       "      <td>2.335938</td>\n",
       "      <td>0.720703</td>\n",
       "      <td>1.046875</td>\n",
       "      <td>2.765625</td>\n",
       "      <td>0.925781</td>\n",
       "      <td>-1.851562</td>\n",
       "      <td>...</td>\n",
       "      <td>2.811338</td>\n",
       "      <td>-3.0</td>\n",
       "      <td>1.615234</td>\n",
       "      <td>-0.326172</td>\n",
       "      <td>4.617188</td>\n",
       "      <td>1.839844</td>\n",
       "      <td>2.796431</td>\n",
       "      <td>2.106473</td>\n",
       "      <td>0.343750</td>\n",
       "      <td>-0.046875</td>\n",
       "    </tr>\n",
       "    <tr>\n",
       "      <th>44816</th>\n",
       "      <td>33</td>\n",
       "      <td>8.00</td>\n",
       "      <td>5.50</td>\n",
       "      <td>4.25</td>\n",
       "      <td>-2.187500</td>\n",
       "      <td>-1.898438</td>\n",
       "      <td>1.292969</td>\n",
       "      <td>-3.101562</td>\n",
       "      <td>0.056763</td>\n",
       "      <td>0.270508</td>\n",
       "      <td>...</td>\n",
       "      <td>1.951677</td>\n",
       "      <td>-1.0</td>\n",
       "      <td>-0.289062</td>\n",
       "      <td>-3.480469</td>\n",
       "      <td>-0.213745</td>\n",
       "      <td>-3.372070</td>\n",
       "      <td>4.537428</td>\n",
       "      <td>3.138201</td>\n",
       "      <td>0.093750</td>\n",
       "      <td>-0.546875</td>\n",
       "    </tr>\n",
       "    <tr>\n",
       "      <th>44817</th>\n",
       "      <td>27</td>\n",
       "      <td>4.50</td>\n",
       "      <td>4.25</td>\n",
       "      <td>3.75</td>\n",
       "      <td>0.785156</td>\n",
       "      <td>0.955078</td>\n",
       "      <td>0.252930</td>\n",
       "      <td>0.065430</td>\n",
       "      <td>-1.789062</td>\n",
       "      <td>-1.996094</td>\n",
       "      <td>...</td>\n",
       "      <td>7.547030</td>\n",
       "      <td>-3.0</td>\n",
       "      <td>0.702148</td>\n",
       "      <td>-0.169922</td>\n",
       "      <td>2.061523</td>\n",
       "      <td>0.207031</td>\n",
       "      <td>2.129118</td>\n",
       "      <td>0.732034</td>\n",
       "      <td>0.201172</td>\n",
       "      <td>-0.351562</td>\n",
       "    </tr>\n",
       "    <tr>\n",
       "      <th>44818</th>\n",
       "      <td>42</td>\n",
       "      <td>8.75</td>\n",
       "      <td>6.50</td>\n",
       "      <td>4.00</td>\n",
       "      <td>-0.537109</td>\n",
       "      <td>-0.562500</td>\n",
       "      <td>2.320312</td>\n",
       "      <td>2.960938</td>\n",
       "      <td>2.945312</td>\n",
       "      <td>0.548828</td>\n",
       "      <td>...</td>\n",
       "      <td>12.575434</td>\n",
       "      <td>-1.0</td>\n",
       "      <td>0.025391</td>\n",
       "      <td>-2.882812</td>\n",
       "      <td>2.412109</td>\n",
       "      <td>0.015625</td>\n",
       "      <td>3.748832</td>\n",
       "      <td>0.029813</td>\n",
       "      <td>-0.101562</td>\n",
       "      <td>-0.500000</td>\n",
       "    </tr>\n",
       "  </tbody>\n",
       "</table>\n",
       "<p>44819 rows × 60 columns</p>\n",
       "</div>"
      ],
      "text/plain": [
       "       nL1Puppi  pi0_pt  pi1_pt  pi2_pt   pi0_eta   pi1_eta   pi2_eta  \\\n",
       "0            16   26.50    9.75    3.50  0.323242 -1.367188 -0.845703   \n",
       "1            43    4.25    3.25    3.00  1.429688  0.767578  0.323242   \n",
       "2            38    6.00    5.25    4.00  0.388672 -1.574219 -2.101562   \n",
       "3            45   33.50   18.50    4.00  2.015625  1.789062 -0.335938   \n",
       "4            30    6.00    4.50    4.00  0.117920  2.304688  2.140625   \n",
       "...         ...     ...     ...     ...       ...       ...       ...   \n",
       "44814        55   20.50   18.00   12.25 -0.410156 -1.246094 -1.898438   \n",
       "44815        31    4.00    3.50    3.00  2.335938  0.720703  1.046875   \n",
       "44816        33    8.00    5.50    4.25 -2.187500 -1.898438  1.292969   \n",
       "44817        27    4.50    4.25    3.75  0.785156  0.955078  0.252930   \n",
       "44818        42    8.75    6.50    4.00 -0.537109 -0.562500  2.320312   \n",
       "\n",
       "        pi0_phi   pi1_phi   pi2_phi  ...  triplet_pt  triplet_charge  \\\n",
       "0      2.445312 -1.507812  1.992188  ...   23.594595            -1.0   \n",
       "1      0.392578  2.882812  1.203125  ...    5.577529             1.0   \n",
       "2     -0.218262  0.445312  1.097656  ...   13.216339            -1.0   \n",
       "3     -2.539062 -0.619141  2.679688  ...   32.253708            -1.0   \n",
       "4     -0.257812 -1.148438 -2.054688  ...   10.846830             1.0   \n",
       "...         ...       ...       ...  ...         ...             ...   \n",
       "44814  2.625000 -0.798828 -0.300781  ...    9.074035            -1.0   \n",
       "44815  2.765625  0.925781 -1.851562  ...    2.811338            -3.0   \n",
       "44816 -3.101562  0.056763  0.270508  ...    1.951677            -1.0   \n",
       "44817  0.065430 -1.789062 -1.996094  ...    7.547030            -3.0   \n",
       "44818  2.960938  2.945312  0.548828  ...   12.575434            -1.0   \n",
       "\n",
       "       triplet_maxdEta  triplet_mindEta  triplet_maxdPhi  triplet_mindPhi  \\\n",
       "0             1.690430        -0.521484         3.953125        -3.500000   \n",
       "1             1.106445         0.444336         1.679688        -2.490234   \n",
       "2             2.490234         0.527344        -0.652344        -1.315918   \n",
       "3             2.351562         0.226562        -1.919922        -5.218750   \n",
       "4             0.164062        -2.186768         1.796875         0.890625   \n",
       "...                ...              ...              ...              ...   \n",
       "44814         1.488281         0.652344         3.423828        -0.498047   \n",
       "44815         1.615234        -0.326172         4.617188         1.839844   \n",
       "44816        -0.289062        -3.480469        -0.213745        -3.372070   \n",
       "44817         0.702148        -0.169922         2.061523         0.207031   \n",
       "44818         0.025391        -2.882812         2.412109         0.015625   \n",
       "\n",
       "       triplet_maxdR  triplet_mindR  triplet_maxdVz  triplet_mindVz  \n",
       "0           2.878669       1.253697        0.062500       -0.062500  \n",
       "1           2.576753       1.371571        0.250000       -0.100098  \n",
       "2           2.816542       0.838835        0.390625       -1.000000  \n",
       "3           3.663607       1.933244        0.101562       -0.050781  \n",
       "4           2.705568       0.920981        0.449219        0.199219  \n",
       "...              ...            ...             ...             ...  \n",
       "44814       3.282557       0.820733        1.402344        0.351562  \n",
       "44815       2.796431       2.106473        0.343750       -0.046875  \n",
       "44816       4.537428       3.138201        0.093750       -0.546875  \n",
       "44817       2.129118       0.732034        0.201172       -0.351562  \n",
       "44818       3.748832       0.029813       -0.101562       -0.500000  \n",
       "\n",
       "[44819 rows x 60 columns]"
      ]
     },
     "execution_count": 4,
     "metadata": {},
     "output_type": "execute_result"
    }
   ],
   "source": [
    "X_train"
   ]
  },
  {
   "cell_type": "code",
   "execution_count": 5,
   "id": "b6036388-f505-4a0a-acf7-a04daef7f99f",
   "metadata": {},
   "outputs": [],
   "source": [
    "clf = xgb.XGBClassifier(n_estimators=20, max_depth=3, learning_rate=1.0).fit(X_train, y_train)"
   ]
  },
  {
   "cell_type": "code",
   "execution_count": 6,
   "id": "ab0fc889-10bf-405a-95b4-11bc7477dff9",
   "metadata": {},
   "outputs": [],
   "source": [
    "y_pred = clf.predict(X_test)\n",
    "y_test = y_test.to_numpy()"
   ]
  },
  {
   "cell_type": "markdown",
   "id": "da3da480-2366-47a9-bda4-545b47388165",
   "metadata": {},
   "source": [
    "## Test the model"
   ]
  },
  {
   "cell_type": "code",
   "execution_count": 7,
   "id": "d2ff0648-1ec0-4bb6-bd0b-204f58722d51",
   "metadata": {},
   "outputs": [
    {
     "name": "stdout",
     "output_type": "stream",
     "text": [
      "0.022802998750520616\n"
     ]
    }
   ],
   "source": [
    "control = (y_pred ^ y_test)\n",
    "print(sum(control)/len(control))"
   ]
  },
  {
   "cell_type": "markdown",
   "id": "45c60f68-0b35-48ec-b079-f27b6382c38a",
   "metadata": {},
   "source": [
    "### Falsi negativi"
   ]
  },
  {
   "cell_type": "code",
   "execution_count": 8,
   "id": "5f81545e-daca-45ff-b1f6-c3de7f1712a7",
   "metadata": {},
   "outputs": [
    {
     "name": "stdout",
     "output_type": "stream",
     "text": [
      "0.08240049751243782\n"
     ]
    }
   ],
   "source": [
    "signal_indexes = np.where(y_test==1)\n",
    "control = (y_pred[signal_indexes] ^ y_test[signal_indexes])\n",
    "print(sum(control)/len(control))"
   ]
  },
  {
   "cell_type": "markdown",
   "id": "41018359-a2fd-4545-9f5d-2a8380ab446f",
   "metadata": {},
   "source": [
    "### Falsi positivi:"
   ]
  },
  {
   "cell_type": "code",
   "execution_count": 9,
   "id": "cd151ee1-19f6-4913-acaf-de80a17398d3",
   "metadata": {},
   "outputs": [
    {
     "name": "stdout",
     "output_type": "stream",
     "text": [
      "0.05537772087067862\n"
     ]
    }
   ],
   "source": [
    "signal_indexes = np.where(y_pred==1)\n",
    "control = y_pred[signal_indexes] ^ y_test[signal_indexes]\n",
    "print(sum(control)/len(control))"
   ]
  },
  {
   "cell_type": "markdown",
   "id": "71c17435-fc49-4c70-a9c3-956cadfddf28",
   "metadata": {},
   "source": [
    "### ROC curve"
   ]
  },
  {
   "cell_type": "code",
   "execution_count": 10,
   "id": "334a0697-46c4-4db5-b32e-33b76c492144",
   "metadata": {},
   "outputs": [
    {
     "data": {
      "text/plain": [
       "[<matplotlib.lines.Line2D at 0x7ff1726488e0>]"
      ]
     },
     "execution_count": 10,
     "metadata": {},
     "output_type": "execute_result"
    },
    {
     "data": {
      "image/png": "[encoded data removed]",
      "text/plain": [
       "<Figure size 640x480 with 1 Axes>"
      ]
     },
     "metadata": {},
     "output_type": "display_data"
    }
   ],
   "source": [
    "y_prob = clf.predict_proba(X_test)[:, 1]\n",
    "fpr_all, tpr_all, _ = metrics.roc_curve(y_test, y_prob)\n",
    "plt.plot(fpr_all, tpr_all)"
   ]
  },
  {
   "cell_type": "markdown",
   "id": "4876faf1-a511-43bd-b6e8-9de05acceb83",
   "metadata": {},
   "source": [
    "# Rate Importance"
   ]
  },
  {
   "cell_type": "code",
   "execution_count": 11,
   "id": "7b9a2edb-e0e7-4bfd-aa65-557b35dc3923",
   "metadata": {},
   "outputs": [
    {
     "data": {
      "text/html": [
       "<div>\n",
       "<style scoped>\n",
       "    .dataframe tbody tr th:only-of-type {\n",
       "        vertical-align: middle;\n",
       "    }\n",
       "\n",
       "    .dataframe tbody tr th {\n",
       "        vertical-align: top;\n",
       "    }\n",
       "\n",
       "    .dataframe thead th {\n",
       "        text-align: right;\n",
       "    }\n",
       "</style>\n",
       "<table border=\"1\" class=\"dataframe\">\n",
       "  <thead>\n",
       "    <tr style=\"text-align: right;\">\n",
       "      <th></th>\n",
       "      <th>feature</th>\n",
       "      <th>importance</th>\n",
       "    </tr>\n",
       "  </thead>\n",
       "  <tbody>\n",
       "    <tr>\n",
       "      <th>3</th>\n",
       "      <td>pi2_pt</td>\n",
       "      <td>0.409793</td>\n",
       "    </tr>\n",
       "    <tr>\n",
       "      <th>2</th>\n",
       "      <td>pi1_pt</td>\n",
       "      <td>0.134833</td>\n",
       "    </tr>\n",
       "    <tr>\n",
       "      <th>37</th>\n",
       "      <td>m_01</td>\n",
       "      <td>0.096706</td>\n",
       "    </tr>\n",
       "    <tr>\n",
       "      <th>49</th>\n",
       "      <td>triplet_mass</td>\n",
       "      <td>0.070258</td>\n",
       "    </tr>\n",
       "    <tr>\n",
       "      <th>24</th>\n",
       "      <td>pi2_iso</td>\n",
       "      <td>0.049538</td>\n",
       "    </tr>\n",
       "    <tr>\n",
       "      <th>56</th>\n",
       "      <td>triplet_maxdR</td>\n",
       "      <td>0.032455</td>\n",
       "    </tr>\n",
       "    <tr>\n",
       "      <th>1</th>\n",
       "      <td>pi0_pt</td>\n",
       "      <td>0.027191</td>\n",
       "    </tr>\n",
       "    <tr>\n",
       "      <th>51</th>\n",
       "      <td>triplet_charge</td>\n",
       "      <td>0.025303</td>\n",
       "    </tr>\n",
       "    <tr>\n",
       "      <th>58</th>\n",
       "      <td>triplet_maxdVz</td>\n",
       "      <td>0.021057</td>\n",
       "    </tr>\n",
       "    <tr>\n",
       "      <th>47</th>\n",
       "      <td>dVz_02</td>\n",
       "      <td>0.017496</td>\n",
       "    </tr>\n",
       "    <tr>\n",
       "      <th>50</th>\n",
       "      <td>triplet_pt</td>\n",
       "      <td>0.013552</td>\n",
       "    </tr>\n",
       "    <tr>\n",
       "      <th>23</th>\n",
       "      <td>pi1_iso</td>\n",
       "      <td>0.012217</td>\n",
       "    </tr>\n",
       "    <tr>\n",
       "      <th>22</th>\n",
       "      <td>pi0_iso</td>\n",
       "      <td>0.007446</td>\n",
       "    </tr>\n",
       "    <tr>\n",
       "      <th>33</th>\n",
       "      <td>dR_12</td>\n",
       "      <td>0.006272</td>\n",
       "    </tr>\n",
       "    <tr>\n",
       "      <th>5</th>\n",
       "      <td>pi1_eta</td>\n",
       "      <td>0.006230</td>\n",
       "    </tr>\n",
       "    <tr>\n",
       "      <th>57</th>\n",
       "      <td>triplet_mindR</td>\n",
       "      <td>0.006061</td>\n",
       "    </tr>\n",
       "    <tr>\n",
       "      <th>30</th>\n",
       "      <td>dPhi_12</td>\n",
       "      <td>0.005829</td>\n",
       "    </tr>\n",
       "    <tr>\n",
       "      <th>14</th>\n",
       "      <td>pi1_vz</td>\n",
       "      <td>0.005373</td>\n",
       "    </tr>\n",
       "    <tr>\n",
       "      <th>43</th>\n",
       "      <td>pt_01</td>\n",
       "      <td>0.005200</td>\n",
       "    </tr>\n",
       "    <tr>\n",
       "      <th>31</th>\n",
       "      <td>dR_01</td>\n",
       "      <td>0.005033</td>\n",
       "    </tr>\n",
       "    <tr>\n",
       "      <th>26</th>\n",
       "      <td>dEta_02</td>\n",
       "      <td>0.004914</td>\n",
       "    </tr>\n",
       "    <tr>\n",
       "      <th>44</th>\n",
       "      <td>pt_02</td>\n",
       "      <td>0.004676</td>\n",
       "    </tr>\n",
       "    <tr>\n",
       "      <th>8</th>\n",
       "      <td>pi1_phi</td>\n",
       "      <td>0.003999</td>\n",
       "    </tr>\n",
       "    <tr>\n",
       "      <th>52</th>\n",
       "      <td>triplet_maxdEta</td>\n",
       "      <td>0.003913</td>\n",
       "    </tr>\n",
       "    <tr>\n",
       "      <th>0</th>\n",
       "      <td>nL1Puppi</td>\n",
       "      <td>0.003809</td>\n",
       "    </tr>\n",
       "    <tr>\n",
       "      <th>48</th>\n",
       "      <td>dVz_12</td>\n",
       "      <td>0.003675</td>\n",
       "    </tr>\n",
       "    <tr>\n",
       "      <th>59</th>\n",
       "      <td>triplet_mindVz</td>\n",
       "      <td>0.003343</td>\n",
       "    </tr>\n",
       "    <tr>\n",
       "      <th>38</th>\n",
       "      <td>m_02</td>\n",
       "      <td>0.002987</td>\n",
       "    </tr>\n",
       "    <tr>\n",
       "      <th>28</th>\n",
       "      <td>dPhi_01</td>\n",
       "      <td>0.002519</td>\n",
       "    </tr>\n",
       "    <tr>\n",
       "      <th>54</th>\n",
       "      <td>triplet_maxdPhi</td>\n",
       "      <td>0.002181</td>\n",
       "    </tr>\n",
       "    <tr>\n",
       "      <th>53</th>\n",
       "      <td>triplet_mindEta</td>\n",
       "      <td>0.001397</td>\n",
       "    </tr>\n",
       "    <tr>\n",
       "      <th>46</th>\n",
       "      <td>dVz_01</td>\n",
       "      <td>0.001383</td>\n",
       "    </tr>\n",
       "    <tr>\n",
       "      <th>55</th>\n",
       "      <td>triplet_mindPhi</td>\n",
       "      <td>0.001286</td>\n",
       "    </tr>\n",
       "    <tr>\n",
       "      <th>6</th>\n",
       "      <td>pi2_eta</td>\n",
       "      <td>0.001107</td>\n",
       "    </tr>\n",
       "    <tr>\n",
       "      <th>13</th>\n",
       "      <td>pi0_vz</td>\n",
       "      <td>0.000971</td>\n",
       "    </tr>\n",
       "    <tr>\n",
       "      <th>18</th>\n",
       "      <td>pi2_charge</td>\n",
       "      <td>0.000000</td>\n",
       "    </tr>\n",
       "    <tr>\n",
       "      <th>15</th>\n",
       "      <td>pi2_vz</td>\n",
       "      <td>0.000000</td>\n",
       "    </tr>\n",
       "    <tr>\n",
       "      <th>12</th>\n",
       "      <td>pi2_mass</td>\n",
       "      <td>0.000000</td>\n",
       "    </tr>\n",
       "    <tr>\n",
       "      <th>10</th>\n",
       "      <td>pi0_mass</td>\n",
       "      <td>0.000000</td>\n",
       "    </tr>\n",
       "    <tr>\n",
       "      <th>4</th>\n",
       "      <td>pi0_eta</td>\n",
       "      <td>0.000000</td>\n",
       "    </tr>\n",
       "    <tr>\n",
       "      <th>7</th>\n",
       "      <td>pi0_phi</td>\n",
       "      <td>0.000000</td>\n",
       "    </tr>\n",
       "    <tr>\n",
       "      <th>9</th>\n",
       "      <td>pi2_phi</td>\n",
       "      <td>0.000000</td>\n",
       "    </tr>\n",
       "    <tr>\n",
       "      <th>11</th>\n",
       "      <td>pi1_mass</td>\n",
       "      <td>0.000000</td>\n",
       "    </tr>\n",
       "    <tr>\n",
       "      <th>19</th>\n",
       "      <td>pi0_pdgId</td>\n",
       "      <td>0.000000</td>\n",
       "    </tr>\n",
       "    <tr>\n",
       "      <th>27</th>\n",
       "      <td>dEta_12</td>\n",
       "      <td>0.000000</td>\n",
       "    </tr>\n",
       "    <tr>\n",
       "      <th>25</th>\n",
       "      <td>dEta_01</td>\n",
       "      <td>0.000000</td>\n",
       "    </tr>\n",
       "    <tr>\n",
       "      <th>21</th>\n",
       "      <td>pi2_pdgId</td>\n",
       "      <td>0.000000</td>\n",
       "    </tr>\n",
       "    <tr>\n",
       "      <th>20</th>\n",
       "      <td>pi1_pdgId</td>\n",
       "      <td>0.000000</td>\n",
       "    </tr>\n",
       "    <tr>\n",
       "      <th>16</th>\n",
       "      <td>pi0_charge</td>\n",
       "      <td>0.000000</td>\n",
       "    </tr>\n",
       "    <tr>\n",
       "      <th>17</th>\n",
       "      <td>pi1_charge</td>\n",
       "      <td>0.000000</td>\n",
       "    </tr>\n",
       "    <tr>\n",
       "      <th>42</th>\n",
       "      <td>m2_12</td>\n",
       "      <td>0.000000</td>\n",
       "    </tr>\n",
       "    <tr>\n",
       "      <th>35</th>\n",
       "      <td>dR2_02</td>\n",
       "      <td>0.000000</td>\n",
       "    </tr>\n",
       "    <tr>\n",
       "      <th>29</th>\n",
       "      <td>dPhi_02</td>\n",
       "      <td>0.000000</td>\n",
       "    </tr>\n",
       "    <tr>\n",
       "      <th>41</th>\n",
       "      <td>m2_02</td>\n",
       "      <td>0.000000</td>\n",
       "    </tr>\n",
       "    <tr>\n",
       "      <th>40</th>\n",
       "      <td>m2_01</td>\n",
       "      <td>0.000000</td>\n",
       "    </tr>\n",
       "    <tr>\n",
       "      <th>39</th>\n",
       "      <td>m_12</td>\n",
       "      <td>0.000000</td>\n",
       "    </tr>\n",
       "    <tr>\n",
       "      <th>36</th>\n",
       "      <td>dR2_12</td>\n",
       "      <td>0.000000</td>\n",
       "    </tr>\n",
       "    <tr>\n",
       "      <th>32</th>\n",
       "      <td>dR_02</td>\n",
       "      <td>0.000000</td>\n",
       "    </tr>\n",
       "    <tr>\n",
       "      <th>34</th>\n",
       "      <td>dR2_01</td>\n",
       "      <td>0.000000</td>\n",
       "    </tr>\n",
       "    <tr>\n",
       "      <th>45</th>\n",
       "      <td>pt_12</td>\n",
       "      <td>0.000000</td>\n",
       "    </tr>\n",
       "  </tbody>\n",
       "</table>\n",
       "</div>"
      ],
      "text/plain": [
       "            feature  importance\n",
       "3            pi2_pt    0.409793\n",
       "2            pi1_pt    0.134833\n",
       "37             m_01    0.096706\n",
       "49     triplet_mass    0.070258\n",
       "24          pi2_iso    0.049538\n",
       "56    triplet_maxdR    0.032455\n",
       "1            pi0_pt    0.027191\n",
       "51   triplet_charge    0.025303\n",
       "58   triplet_maxdVz    0.021057\n",
       "47           dVz_02    0.017496\n",
       "50       triplet_pt    0.013552\n",
       "23          pi1_iso    0.012217\n",
       "22          pi0_iso    0.007446\n",
       "33            dR_12    0.006272\n",
       "5           pi1_eta    0.006230\n",
       "57    triplet_mindR    0.006061\n",
       "30          dPhi_12    0.005829\n",
       "14           pi1_vz    0.005373\n",
       "43            pt_01    0.005200\n",
       "31            dR_01    0.005033\n",
       "26          dEta_02    0.004914\n",
       "44            pt_02    0.004676\n",
       "8           pi1_phi    0.003999\n",
       "52  triplet_maxdEta    0.003913\n",
       "0          nL1Puppi    0.003809\n",
       "48           dVz_12    0.003675\n",
       "59   triplet_mindVz    0.003343\n",
       "38             m_02    0.002987\n",
       "28          dPhi_01    0.002519\n",
       "54  triplet_maxdPhi    0.002181\n",
       "53  triplet_mindEta    0.001397\n",
       "46           dVz_01    0.001383\n",
       "55  triplet_mindPhi    0.001286\n",
       "6           pi2_eta    0.001107\n",
       "13           pi0_vz    0.000971\n",
       "18       pi2_charge    0.000000\n",
       "15           pi2_vz    0.000000\n",
       "12         pi2_mass    0.000000\n",
       "10         pi0_mass    0.000000\n",
       "4           pi0_eta    0.000000\n",
       "7           pi0_phi    0.000000\n",
       "9           pi2_phi    0.000000\n",
       "11         pi1_mass    0.000000\n",
       "19        pi0_pdgId    0.000000\n",
       "27          dEta_12    0.000000\n",
       "25          dEta_01    0.000000\n",
       "21        pi2_pdgId    0.000000\n",
       "20        pi1_pdgId    0.000000\n",
       "16       pi0_charge    0.000000\n",
       "17       pi1_charge    0.000000\n",
       "42            m2_12    0.000000\n",
       "35           dR2_02    0.000000\n",
       "29          dPhi_02    0.000000\n",
       "41            m2_02    0.000000\n",
       "40            m2_01    0.000000\n",
       "39             m_12    0.000000\n",
       "36           dR2_12    0.000000\n",
       "32            dR_02    0.000000\n",
       "34           dR2_01    0.000000\n",
       "45            pt_12    0.000000"
      ]
     },
     "execution_count": 11,
     "metadata": {},
     "output_type": "execute_result"
    }
   ],
   "source": [
    "# 3. Ottieni e stampa la feature importance\n",
    "feature_importances = clf.feature_importances_\n",
    "feature_names = X_train.columns\n",
    "\n",
    "# Crea un DataFrame per una visualizzazione più chiara\n",
    "importance_df = pd.DataFrame({'feature': feature_names, 'importance': feature_importances})\n",
    "importance_df = importance_df.sort_values(by='importance', ascending=False)\n",
    "\n",
    "importance_df"
   ]
  },
  {
   "cell_type": "code",
   "execution_count": 12,
   "id": "eb3615a1-32c3-4828-be71-e9171e89dd8d",
   "metadata": {},
   "outputs": [],
   "source": [
    "importance_df = importance_df.sort_values(by='importance', ascending=False)\n",
    "most_important=[]\n",
    "for i in range(10):\n",
    "    most_important.append(importance_df.iloc[i].name)\n",
    "most_important = np.array(most_important)"
   ]
  },
  {
   "cell_type": "code",
   "execution_count": 13,
   "id": "07f76d57-ef03-4700-badf-3f5f93c9d254",
   "metadata": {},
   "outputs": [
    {
     "name": "stdout",
     "output_type": "stream",
     "text": [
      "[ 3  2 37 49 24 56  1 51 58 47]\n"
     ]
    }
   ],
   "source": [
    "print(most_important)"
   ]
  },
  {
   "cell_type": "markdown",
   "id": "4bb52927-800b-4e25-a008-081db8dfce12",
   "metadata": {},
   "source": [
    "# Train with most important features"
   ]
  },
  {
   "cell_type": "code",
   "execution_count": 14,
   "id": "bb888fd0-5ae8-46ac-ab7f-52d0181fbc45",
   "metadata": {},
   "outputs": [],
   "source": [
    "X_train = train_data.iloc[:, most_important+3]\n",
    "y_train = train_data['class']\n",
    "\n",
    "X_test = test_data.iloc[:, most_important+3]\n",
    "y_test = test_data['class']"
   ]
  },
  {
   "cell_type": "code",
   "execution_count": 15,
   "id": "15b8b5c8-bd13-4be1-b0c6-ccb5152ac42e",
   "metadata": {},
   "outputs": [],
   "source": [
    "clf = xgb.XGBClassifier(n_estimators=20, max_depth=3, learning_rate=1.0).fit(X_train, y_train)"
   ]
  },
  {
   "cell_type": "code",
   "execution_count": 16,
   "id": "adafcc75-88c3-4c5c-9b42-e6bc50a5987c",
   "metadata": {},
   "outputs": [],
   "source": [
    "y_pred = clf.predict(X_test)\n",
    "y_test = y_test.to_numpy()"
   ]
  },
  {
   "cell_type": "markdown",
   "id": "1e2d3481-02cb-49ee-a1a6-3dce9a0c9859",
   "metadata": {},
   "source": [
    "## test the model"
   ]
  },
  {
   "cell_type": "code",
   "execution_count": 17,
   "id": "58ba49b4-0220-4c98-807c-bc07f5e9b893",
   "metadata": {},
   "outputs": [
    {
     "name": "stdout",
     "output_type": "stream",
     "text": [
      "0.023635985006247397\n"
     ]
    }
   ],
   "source": [
    "control = (y_pred ^ y_test)\n",
    "print(sum(control)/len(control))"
   ]
  },
  {
   "cell_type": "markdown",
   "id": "9dafb345-4562-4549-9dc3-aee2e1fe0adf",
   "metadata": {},
   "source": [
    "### Falsi negativi"
   ]
  },
  {
   "cell_type": "code",
   "execution_count": 18,
   "id": "fd95f00e-feec-4b7e-b20e-684e86dd0d89",
   "metadata": {},
   "outputs": [
    {
     "name": "stdout",
     "output_type": "stream",
     "text": [
      "0.08271144278606965\n"
     ]
    }
   ],
   "source": [
    "signal_indexes = np.where(y_test==1)\n",
    "control = (y_pred[signal_indexes] ^ y_test[signal_indexes])\n",
    "print(sum(control)/len(control))"
   ]
  },
  {
   "cell_type": "markdown",
   "id": "89c5bf69-c389-4c71-9a76-45a10a4a1a47",
   "metadata": {},
   "source": [
    "### Falsi positivi:"
   ]
  },
  {
   "cell_type": "code",
   "execution_count": 19,
   "id": "66e7e3ec-c2f8-4ce0-85d0-a1d5717703c0",
   "metadata": {},
   "outputs": [
    {
     "name": "stdout",
     "output_type": "stream",
     "text": [
      "0.05991077119184194\n"
     ]
    }
   ],
   "source": [
    "signal_indexes = np.where(y_pred==1)\n",
    "control = y_pred[signal_indexes] ^ y_test[signal_indexes]\n",
    "print(sum(control)/len(control))"
   ]
  },
  {
   "cell_type": "markdown",
   "id": "90a9fd3f-958c-4d83-9da3-7d6ced2f3a53",
   "metadata": {},
   "source": [
    "### ROC curve"
   ]
  },
  {
   "cell_type": "code",
   "execution_count": 20,
   "id": "78c7b349-7d83-40f2-a155-462f351bcd28",
   "metadata": {},
   "outputs": [
    {
     "data": {
      "text/plain": [
       "[<matplotlib.lines.Line2D at 0x7ff172544c70>]"
      ]
     },
     "execution_count": 20,
     "metadata": {},
     "output_type": "execute_result"
    },
    {
     "data": {
      "image/png": "[encoded data removed]",
      "text/plain": [
       "<Figure size 640x480 with 1 Axes>"
      ]
     },
     "metadata": {},
     "output_type": "display_data"
    }
   ],
   "source": [
    "y_prob = clf.predict_proba(X_test)[:, 1]\n",
    "fpr, tpr, _ = metrics.roc_curve(y_test, y_prob)\n",
    "plt.plot(fpr, tpr)"
   ]
  },
  {
   "cell_type": "markdown",
   "id": "dad6edc6-52a3-4db4-8b2f-9568497fd51d",
   "metadata": {},
   "source": [
    "# Train with least important features"
   ]
  },
  {
   "cell_type": "code",
   "execution_count": 21,
   "id": "43d42a01-ca1c-47e8-90b3-cb503b56e950",
   "metadata": {},
   "outputs": [
    {
     "name": "stdout",
     "output_type": "stream",
     "text": [
      "[16 17 42 20 19]\n"
     ]
    }
   ],
   "source": [
    "importance_df = importance_df.sort_values(by='importance', ascending=True)\n",
    "most_important=[]\n",
    "for i in range(5):\n",
    "    most_important.append(importance_df.iloc[i].name)\n",
    "most_important = np.array(most_important)\n",
    "print(most_important)"
   ]
  },
  {
   "cell_type": "code",
   "execution_count": 22,
   "id": "220b757d-375a-4295-879d-d644088e367c",
   "metadata": {},
   "outputs": [],
   "source": [
    "X_train = train_data.iloc[:, most_important+3]\n",
    "y_train = train_data['class']\n",
    "\n",
    "X_test = test_data.iloc[:, most_important+3]\n",
    "y_test = test_data['class']"
   ]
  },
  {
   "cell_type": "code",
   "execution_count": 23,
   "id": "99424f0e-2206-49ae-a3a9-e926d24d166e",
   "metadata": {},
   "outputs": [],
   "source": [
    "clf = xgb.XGBClassifier(n_estimators=20, max_depth=3, learning_rate=1.0).fit(X_train, y_train)"
   ]
  },
  {
   "cell_type": "code",
   "execution_count": 24,
   "id": "2336388a-1b15-41f4-a2aa-e1d42f17680d",
   "metadata": {},
   "outputs": [],
   "source": [
    "y_pred = clf.predict(X_test)\n",
    "y_test = y_test.to_numpy()"
   ]
  },
  {
   "cell_type": "markdown",
   "id": "a0fe9bb9-c7a3-43cc-b52b-e0a7f4665552",
   "metadata": {},
   "source": [
    "## test the model"
   ]
  },
  {
   "cell_type": "code",
   "execution_count": 25,
   "id": "12bf9c71-3d89-48aa-b0ee-e08f97a62044",
   "metadata": {},
   "outputs": [
    {
     "name": "stdout",
     "output_type": "stream",
     "text": [
      "0.15358184089962515\n"
     ]
    }
   ],
   "source": [
    "control = (y_pred ^ y_test)\n",
    "print(sum(control)/len(control))"
   ]
  },
  {
   "cell_type": "markdown",
   "id": "00e900d3-af72-40f6-a349-3be7b20b4fcd",
   "metadata": {},
   "source": [
    "### Falsi negativi"
   ]
  },
  {
   "cell_type": "code",
   "execution_count": 26,
   "id": "7801001e-97ac-4b9f-aa8e-2efe922b5197",
   "metadata": {},
   "outputs": [
    {
     "name": "stdout",
     "output_type": "stream",
     "text": [
      "0.7319651741293532\n"
     ]
    }
   ],
   "source": [
    "signal_indexes = np.where(y_test==1)\n",
    "control = (y_pred[signal_indexes] ^ y_test[signal_indexes])\n",
    "print(sum(control)/len(control))"
   ]
  },
  {
   "cell_type": "markdown",
   "id": "03737d17-3111-4c9b-9de4-a3303cd23ffb",
   "metadata": {},
   "source": [
    "### Falsi positivi:"
   ]
  },
  {
   "cell_type": "code",
   "execution_count": 27,
   "id": "56f474c7-8b20-465e-a777-ee4243e8dce7",
   "metadata": {},
   "outputs": [
    {
     "name": "stdout",
     "output_type": "stream",
     "text": [
      "0.40877914951989025\n"
     ]
    }
   ],
   "source": [
    "signal_indexes = np.where(y_pred==1)\n",
    "control = y_pred[signal_indexes] ^ y_test[signal_indexes]\n",
    "print(sum(control)/len(control))"
   ]
  },
  {
   "cell_type": "markdown",
   "id": "bacbbb22-06e9-4c9b-953f-09b94a27c6a1",
   "metadata": {},
   "source": [
    "### ROC curve"
   ]
  },
  {
   "cell_type": "code",
   "execution_count": 40,
   "id": "272b154e-3e6e-4c6c-b67d-2cb6d2443f9f",
   "metadata": {},
   "outputs": [
    {
     "data": {
      "text/plain": [
       "<matplotlib.legend.Legend at 0x7ff171df9e10>"
      ]
     },
     "execution_count": 40,
     "metadata": {},
     "output_type": "execute_result"
    },
    {
     "data": {
      "image/png": "[encoded data removed]",
      "text/plain": [
       "<Figure size 640x480 with 1 Axes>"
      ]
     },
     "metadata": {},
     "output_type": "display_data"
    }
   ],
   "source": [
    "y_prob = clf.predict_proba(X_test)[:, 1]\n",
    "fpr2, tpr2, _ = metrics.roc_curve(y_test, y_prob)\n",
    "plt.clf()\n",
    "plt.fill_between(fpr2, 0, tpr2, label='5 Worst Features', color='dimgray')\n",
    "plt.fill_between(fpr, 0, tpr, label='10 Best Features', hatch='///', facecolor='None')\n",
    "plt.plot(fpr_all, tpr_all, label='All Features', color='red')\n",
    "plt.xlabel('fpr')\n",
    "plt.ylabel('tpr')\n",
    "plt.legend()"
   ]
  },
  {
   "cell_type": "code",
   "execution_count": 42,
   "id": "eeb5e220-ec3f-4bc4-acfe-3ef95d4c4af5",
   "metadata": {},
   "outputs": [
    {
     "name": "stdout",
     "output_type": "stream",
     "text": [
      "Best Features: 0.9940852539142706\n",
      "Worst Features: 0.8233781944610364\n",
      "All Features: 0.9945936023826589\n"
     ]
    }
   ],
   "source": [
    "print(f'Best Features: {metrics.auc(fpr, tpr)}\\nWorst Features: {metrics.auc(fpr2, tpr2)}')\n",
    "print(f'All Features: {metrics.auc(fpr_all, tpr_all)}')"
   ]
  },
  {
   "cell_type": "code",
   "execution_count": 44,
   "id": "838337a5-b30a-45c7-93af-a333f3a61fce",
   "metadata": {},
   "outputs": [
    {
     "name": "stdout",
     "output_type": "stream",
     "text": [
      "[0.10091271 0.09291255 0.02695232 ... 0.34411153 0.19349314 0.12682232]\n"
     ]
    }
   ],
   "source": [
    "print(y_prob)"
   ]
  },
  {
   "cell_type": "markdown",
   "id": "130b48e4-1fe3-437e-b80e-4a9461384328",
   "metadata": {},
   "source": [
    "# Ottimizziamo gli iperparametri"
   ]
  },
  {
   "cell_type": "code",
   "execution_count": 74,
   "id": "dcbd486b-6e7b-47df-8403-fd78a86b3c18",
   "metadata": {},
   "outputs": [
    {
     "name": "stdout",
     "output_type": "stream",
     "text": [
      "[ 3  2 37 49 24 56  1 51 58 47]\n"
     ]
    }
   ],
   "source": [
    "importance_df = importance_df.sort_values(by='importance', ascending=False)\n",
    "most_important=[]\n",
    "for i in range(10):\n",
    "    most_important.append(importance_df.iloc[i].name)\n",
    "most_important = np.array(most_important)\n",
    "print(most_important)"
   ]
  },
  {
   "cell_type": "code",
   "execution_count": 75,
   "id": "8a618b6a-8f30-41ea-a773-3dfe726fadad",
   "metadata": {},
   "outputs": [],
   "source": [
    "X_train = train_data.iloc[:, most_important+3]\n",
    "y_train = train_data['class']\n",
    "\n",
    "X_test = test_data.iloc[:, most_important+3]\n",
    "y_test = test_data['class']"
   ]
  },
  {
   "cell_type": "code",
   "execution_count": 87,
   "id": "da3ff9b8-596b-4000-923d-da588199d793",
   "metadata": {},
   "outputs": [],
   "source": [
    "performances=[]\n",
    "xs=[]\n",
    "ys=[]\n",
    "fprs=[]\n",
    "tprs=[]\n",
    "for n_estimators in range(1, 50):\n",
    "    for max_depth in range(1, 10):\n",
    "        clf = xgb.XGBClassifier(n_estimators=n_estimators, max_depth=max_depth, learning_rate=1.0).fit(X_train, y_train)\n",
    "        y_prob = clf.predict(X_test)\n",
    "        y_prob = clf.predict_proba(X_test)[:, 1]\n",
    "        fpr, tpr, _ = metrics.roc_curve(y_test, y_prob)\n",
    "        fprs.append(fpr)\n",
    "        tprs.append(tpr)\n",
    "        performance=metrics.auc(fpr, tpr)\n",
    "        performances.append(performance)\n",
    "        xs.append(n_estimators)\n",
    "        ys.append(max_depth)"
   ]
  },
  {
   "cell_type": "code",
   "execution_count": 91,
   "id": "5eca1391-d9af-47e2-b417-85152b0fad05",
   "metadata": {},
   "outputs": [
    {
     "data": {
      "image/png": "[encoded data removed]",
      "text/plain": [
       "<Figure size 640x480 with 1 Axes>"
      ]
     },
     "metadata": {},
     "output_type": "display_data"
    }
   ],
   "source": [
    "for i in range(len(fprs)):\n",
    "    plt.plot(fprs[i], tprs[i], alpha=0.5)"
   ]
  },
  {
   "cell_type": "code",
   "execution_count": 88,
   "id": "bec2451d-62ef-4a39-aa40-415fdcb42bbd",
   "metadata": {},
   "outputs": [
    {
     "data": {
      "image/png": "[encoded data removed]",
      "text/plain": [
       "<Figure size 640x480 with 2 Axes>"
      ]
     },
     "metadata": {},
     "output_type": "display_data"
    }
   ],
   "source": [
    "fig, ax = plt.subplots()\n",
    "scat = ax.scatter(xs, ys, c=performances, s=200, marker='o')\n",
    "fig.colorbar(scat)\n",
    "\n",
    "plt.show()"
   ]
  },
  {
   "cell_type": "code",
   "execution_count": 90,
   "id": "39003071-d683-465b-a4f2-def4bff4a807",
   "metadata": {},
   "outputs": [
    {
     "name": "stdout",
     "output_type": "stream",
     "text": [
      "334\n"
     ]
    },
    {
     "data": {
      "image/png": "[encoded data removed]",
      "text/plain": [
       "<Figure size 640x480 with 1 Axes>"
      ]
     },
     "metadata": {},
     "output_type": "display_data"
    }
   ],
   "source": [
    "print(np.argmax(performances))\n",
    "for i in range(1, 5):\n",
    "    plt.plot(performances[i::9], label=f'{i+1}')\n",
    "plt.legend()\n",
    "plt.show()"
   ]
  },
  {
   "cell_type": "code",
   "execution_count": 93,
   "id": "c4785081-2d6e-4724-91d9-f2fd67c8ee3c",
   "metadata": {},
   "outputs": [
    {
     "name": "stdout",
     "output_type": "stream",
     "text": [
      "10\n"
     ]
    }
   ],
   "source": [
    "print(np.argmax(performances[4::9])+1)"
   ]
  },
  {
   "cell_type": "markdown",
   "id": "3260e1e9-06ff-4b55-be4b-007af4d98280",
   "metadata": {},
   "source": [
    "# Train with best parameters"
   ]
  },
  {
   "cell_type": "code",
   "execution_count": 94,
   "id": "7db6d454-e67e-4713-b07f-de67045105bf",
   "metadata": {},
   "outputs": [],
   "source": [
    "X_train = train_data.iloc[:, most_important+3]\n",
    "y_train = train_data['class']\n",
    "\n",
    "X_test = test_data.iloc[:, most_important+3]\n",
    "y_test = test_data['class']"
   ]
  },
  {
   "cell_type": "code",
   "execution_count": 95,
   "id": "a99a17c4-cbc0-4835-aa1a-d9dad66f6e7e",
   "metadata": {},
   "outputs": [],
   "source": [
    "clf = xgb.XGBClassifier(n_estimators=10, max_depth=4, learning_rate=1.0).fit(X_train, y_train)"
   ]
  },
  {
   "cell_type": "code",
   "execution_count": 96,
   "id": "1ebaa064-2126-4be6-90a0-9adc19f8618b",
   "metadata": {},
   "outputs": [],
   "source": [
    "y_pred = clf.predict(X_test)\n",
    "y_test = y_test.to_numpy()"
   ]
  },
  {
   "cell_type": "markdown",
   "id": "90d14f5b-40b4-416c-9f93-fd07586f4a6b",
   "metadata": {},
   "source": [
    "## test the model"
   ]
  },
  {
   "cell_type": "code",
   "execution_count": 97,
   "id": "ff5e2e13-7c8c-448d-9515-2b618953b3f2",
   "metadata": {},
   "outputs": [
    {
     "name": "stdout",
     "output_type": "stream",
     "text": [
      "0.024312786339025404\n"
     ]
    }
   ],
   "source": [
    "control = (y_pred ^ y_test)\n",
    "print(sum(control)/len(control))"
   ]
  },
  {
   "cell_type": "markdown",
   "id": "011e2e4f-66b0-4288-8cf6-8098041eff0a",
   "metadata": {},
   "source": [
    "### Falsi negativi"
   ]
  },
  {
   "cell_type": "code",
   "execution_count": 98,
   "id": "9d5a32d9-a3c2-4a1a-8b3d-a77faf2149a5",
   "metadata": {},
   "outputs": [
    {
     "name": "stdout",
     "output_type": "stream",
     "text": [
      "0.08146766169154229\n"
     ]
    }
   ],
   "source": [
    "signal_indexes = np.where(y_test==1)\n",
    "control = (y_pred[signal_indexes] ^ y_test[signal_indexes])\n",
    "print(sum(control)/len(control))"
   ]
  },
  {
   "cell_type": "markdown",
   "id": "f4b9ec29-224b-4c89-aad6-10dd06909a70",
   "metadata": {},
   "source": [
    "### Falsi positivi:"
   ]
  },
  {
   "cell_type": "code",
   "execution_count": 99,
   "id": "7df264f0-9794-498a-a009-a83c045ed690",
   "metadata": {},
   "outputs": [
    {
     "name": "stdout",
     "output_type": "stream",
     "text": [
      "0.06489395378284267\n"
     ]
    }
   ],
   "source": [
    "signal_indexes = np.where(y_pred==1)\n",
    "control = y_pred[signal_indexes] ^ y_test[signal_indexes]\n",
    "print(sum(control)/len(control))"
   ]
  },
  {
   "cell_type": "markdown",
   "id": "7842e887-e9dd-4a26-9675-781d4b04807f",
   "metadata": {},
   "source": [
    "### ROC curve"
   ]
  },
  {
   "cell_type": "code",
   "execution_count": 100,
   "id": "ab5030cf-3a04-4d36-96c5-5cef49640021",
   "metadata": {},
   "outputs": [
    {
     "name": "stdout",
     "output_type": "stream",
     "text": [
      "0.9937875498694622\n"
     ]
    },
    {
     "data": {
      "image/png": "[encoded data removed]",
      "text/plain": [
       "<Figure size 640x480 with 1 Axes>"
      ]
     },
     "metadata": {},
     "output_type": "display_data"
    }
   ],
   "source": [
    "y_prob = clf.predict_proba(X_test)[:, 1]\n",
    "fpr, tpr, _ = metrics.roc_curve(y_test, y_prob)\n",
    "plt.plot(fpr, tpr)\n",
    "print(metrics.auc(fpr, tpr))"
   ]
  },
  {
   "cell_type": "markdown",
   "id": "994f4a68-de47-4e70-89cd-5ebf76e93cf7",
   "metadata": {},
   "source": [
    "## Metodo 2"
   ]
  },
  {
   "cell_type": "code",
   "execution_count": 111,
   "id": "b29c4a2a-7e82-48f8-b43f-1085cd5ae016",
   "metadata": {},
   "outputs": [],
   "source": [
    "parameters = {\n",
    "    'n_estimators': range(1, 20),\n",
    "    'max_depth': range(1, 7),\n",
    "    'learning_rate': np.linspace(0.01, 1, 10),\n",
    "    'grow_policy': ['depthwise', 'lossguide'],\n",
    "    'subsample': [0.8, 1.0],\n",
    "    'colsample_bytree': [0.8, 1.0]\n",
    "}"
   ]
  },
  {
   "cell_type": "code",
   "execution_count": 112,
   "id": "4b2adab7-4d72-49d9-b9e5-043ffa96b79e",
   "metadata": {},
   "outputs": [],
   "source": [
    "clf = GridSearchCV(xgb.XGBClassifier(), parameters)"
   ]
  },
  {
   "cell_type": "code",
   "execution_count": 113,
   "id": "4d216da9-d817-4c57-bded-4efebe5b5d6d",
   "metadata": {},
   "outputs": [
    {
     "data": {
      "text/html": [
       "<style>#sk-container-id-2 {\n",
       "  /* Definition of color scheme common for light and dark mode */\n",
       "  --sklearn-color-text: black;\n",
       "  --sklearn-color-line: gray;\n",
       "  /* Definition of color scheme for unfitted estimators */\n",
       "  --sklearn-color-unfitted-level-0: #fff5e6;\n",
       "  --sklearn-color-unfitted-level-1: #f6e4d2;\n",
       "  --sklearn-color-unfitted-level-2: #ffe0b3;\n",
       "  --sklearn-color-unfitted-level-3: chocolate;\n",
       "  /* Definition of color scheme for fitted estimators */\n",
       "  --sklearn-color-fitted-level-0: #f0f8ff;\n",
       "  --sklearn-color-fitted-level-1: #d4ebff;\n",
       "  --sklearn-color-fitted-level-2: #b3dbfd;\n",
       "  --sklearn-color-fitted-level-3: cornflowerblue;\n",
       "\n",
       "  /* Specific color for light theme */\n",
       "  --sklearn-color-text-on-default-background: var(--sg-text-color, var(--theme-code-foreground, var(--jp-content-font-color1, black)));\n",
       "  --sklearn-color-background: var(--sg-background-color, var(--theme-background, var(--jp-layout-color0, white)));\n",
       "  --sklearn-color-border-box: var(--sg-text-color, var(--theme-code-foreground, var(--jp-content-font-color1, black)));\n",
       "  --sklearn-color-icon: #696969;\n",
       "\n",
       "  @media (prefers-color-scheme: dark) {\n",
       "    /* Redefinition of color scheme for dark theme */\n",
       "    --sklearn-color-text-on-default-background: var(--sg-text-color, var(--theme-code-foreground, var(--jp-content-font-color1, white)));\n",
       "    --sklearn-color-background: var(--sg-background-color, var(--theme-background, var(--jp-layout-color0, #111)));\n",
       "    --sklearn-color-border-box: var(--sg-text-color, var(--theme-code-foreground, var(--jp-content-font-color1, white)));\n",
       "    --sklearn-color-icon: #878787;\n",
       "  }\n",
       "}\n",
       "\n",
       "#sk-container-id-2 {\n",
       "  color: var(--sklearn-color-text);\n",
       "}\n",
       "\n",
       "#sk-container-id-2 pre {\n",
       "  padding: 0;\n",
       "}\n",
       "\n",
       "#sk-container-id-2 input.sk-hidden--visually {\n",
       "  border: 0;\n",
       "  clip: rect(1px 1px 1px 1px);\n",
       "  clip: rect(1px, 1px, 1px, 1px);\n",
       "  height: 1px;\n",
       "  margin: -1px;\n",
       "  overflow: hidden;\n",
       "  padding: 0;\n",
       "  position: absolute;\n",
       "  width: 1px;\n",
       "}\n",
       "\n",
       "#sk-container-id-2 div.sk-dashed-wrapped {\n",
       "  border: 1px dashed var(--sklearn-color-line);\n",
       "  margin: 0 0.4em 0.5em 0.4em;\n",
       "  box-sizing: border-box;\n",
       "  padding-bottom: 0.4em;\n",
       "  background-color: var(--sklearn-color-background);\n",
       "}\n",
       "\n",
       "#sk-container-id-2 div.sk-container {\n",
       "  /* jupyter's `normalize.less` sets `[hidden] { display: none; }`\n",
       "     but bootstrap.min.css set `[hidden] { display: none !important; }`\n",
       "     so we also need the `!important` here to be able to override the\n",
       "     default hidden behavior on the sphinx rendered scikit-learn.org.\n",
       "     See: https://github.com/scikit-learn/scikit-learn/issues/21755 */\n",
       "  display: inline-block !important;\n",
       "  position: relative;\n",
       "}\n",
       "\n",
       "#sk-container-id-2 div.sk-text-repr-fallback {\n",
       "  display: none;\n",
       "}\n",
       "\n",
       "div.sk-parallel-item,\n",
       "div.sk-serial,\n",
       "div.sk-item {\n",
       "  /* draw centered vertical line to link estimators */\n",
       "  background-image: linear-gradient(var(--sklearn-color-text-on-default-background), var(--sklearn-color-text-on-default-background));\n",
       "  background-size: 2px 100%;\n",
       "  background-repeat: no-repeat;\n",
       "  background-position: center center;\n",
       "}\n",
       "\n",
       "/* Parallel-specific style estimator block */\n",
       "\n",
       "#sk-container-id-2 div.sk-parallel-item::after {\n",
       "  content: \"\";\n",
       "  width: 100%;\n",
       "  border-bottom: 2px solid var(--sklearn-color-text-on-default-background);\n",
       "  flex-grow: 1;\n",
       "}\n",
       "\n",
       "#sk-container-id-2 div.sk-parallel {\n",
       "  display: flex;\n",
       "  align-items: stretch;\n",
       "  justify-content: center;\n",
       "  background-color: var(--sklearn-color-background);\n",
       "  position: relative;\n",
       "}\n",
       "\n",
       "#sk-container-id-2 div.sk-parallel-item {\n",
       "  display: flex;\n",
       "  flex-direction: column;\n",
       "}\n",
       "\n",
       "#sk-container-id-2 div.sk-parallel-item:first-child::after {\n",
       "  align-self: flex-end;\n",
       "  width: 50%;\n",
       "}\n",
       "\n",
       "#sk-container-id-2 div.sk-parallel-item:last-child::after {\n",
       "  align-self: flex-start;\n",
       "  width: 50%;\n",
       "}\n",
       "\n",
       "#sk-container-id-2 div.sk-parallel-item:only-child::after {\n",
       "  width: 0;\n",
       "}\n",
       "\n",
       "/* Serial-specific style estimator block */\n",
       "\n",
       "#sk-container-id-2 div.sk-serial {\n",
       "  display: flex;\n",
       "  flex-direction: column;\n",
       "  align-items: center;\n",
       "  background-color: var(--sklearn-color-background);\n",
       "  padding-right: 1em;\n",
       "  padding-left: 1em;\n",
       "}\n",
       "\n",
       "\n",
       "/* Toggleable style: style used for estimator/Pipeline/ColumnTransformer box that is\n",
       "clickable and can be expanded/collapsed.\n",
       "- Pipeline and ColumnTransformer use this feature and define the default style\n",
       "- Estimators will overwrite some part of the style using the `sk-estimator` class\n",
       "*/\n",
       "\n",
       "/* Pipeline and ColumnTransformer style (default) */\n",
       "\n",
       "#sk-container-id-2 div.sk-toggleable {\n",
       "  /* Default theme specific background. It is overwritten whether we have a\n",
       "  specific estimator or a Pipeline/ColumnTransformer */\n",
       "  background-color: var(--sklearn-color-background);\n",
       "}\n",
       "\n",
       "/* Toggleable label */\n",
       "#sk-container-id-2 label.sk-toggleable__label {\n",
       "  cursor: pointer;\n",
       "  display: block;\n",
       "  width: 100%;\n",
       "  margin-bottom: 0;\n",
       "  padding: 0.5em;\n",
       "  box-sizing: border-box;\n",
       "  text-align: center;\n",
       "}\n",
       "\n",
       "#sk-container-id-2 label.sk-toggleable__label-arrow:before {\n",
       "  /* Arrow on the left of the label */\n",
       "  content: \"▸\";\n",
       "  float: left;\n",
       "  margin-right: 0.25em;\n",
       "  color: var(--sklearn-color-icon);\n",
       "}\n",
       "\n",
       "#sk-container-id-2 label.sk-toggleable__label-arrow:hover:before {\n",
       "  color: var(--sklearn-color-text);\n",
       "}\n",
       "\n",
       "/* Toggleable content - dropdown */\n",
       "\n",
       "#sk-container-id-2 div.sk-toggleable__content {\n",
       "  max-height: 0;\n",
       "  max-width: 0;\n",
       "  overflow: hidden;\n",
       "  text-align: left;\n",
       "  /* unfitted */\n",
       "  background-color: var(--sklearn-color-unfitted-level-0);\n",
       "}\n",
       "\n",
       "#sk-container-id-2 div.sk-toggleable__content.fitted {\n",
       "  /* fitted */\n",
       "  background-color: var(--sklearn-color-fitted-level-0);\n",
       "}\n",
       "\n",
       "#sk-container-id-2 div.sk-toggleable__content pre {\n",
       "  margin: 0.2em;\n",
       "  border-radius: 0.25em;\n",
       "  color: var(--sklearn-color-text);\n",
       "  /* unfitted */\n",
       "  background-color: var(--sklearn-color-unfitted-level-0);\n",
       "}\n",
       "\n",
       "#sk-container-id-2 div.sk-toggleable__content.fitted pre {\n",
       "  /* unfitted */\n",
       "  background-color: var(--sklearn-color-fitted-level-0);\n",
       "}\n",
       "\n",
       "#sk-container-id-2 input.sk-toggleable__control:checked~div.sk-toggleable__content {\n",
       "  /* Expand drop-down */\n",
       "  max-height: 200px;\n",
       "  max-width: 100%;\n",
       "  overflow: auto;\n",
       "}\n",
       "\n",
       "#sk-container-id-2 input.sk-toggleable__control:checked~label.sk-toggleable__label-arrow:before {\n",
       "  content: \"▾\";\n",
       "}\n",
       "\n",
       "/* Pipeline/ColumnTransformer-specific style */\n",
       "\n",
       "#sk-container-id-2 div.sk-label input.sk-toggleable__control:checked~label.sk-toggleable__label {\n",
       "  color: var(--sklearn-color-text);\n",
       "  background-color: var(--sklearn-color-unfitted-level-2);\n",
       "}\n",
       "\n",
       "#sk-container-id-2 div.sk-label.fitted input.sk-toggleable__control:checked~label.sk-toggleable__label {\n",
       "  background-color: var(--sklearn-color-fitted-level-2);\n",
       "}\n",
       "\n",
       "/* Estimator-specific style */\n",
       "\n",
       "/* Colorize estimator box */\n",
       "#sk-container-id-2 div.sk-estimator input.sk-toggleable__control:checked~label.sk-toggleable__label {\n",
       "  /* unfitted */\n",
       "  background-color: var(--sklearn-color-unfitted-level-2);\n",
       "}\n",
       "\n",
       "#sk-container-id-2 div.sk-estimator.fitted input.sk-toggleable__control:checked~label.sk-toggleable__label {\n",
       "  /* fitted */\n",
       "  background-color: var(--sklearn-color-fitted-level-2);\n",
       "}\n",
       "\n",
       "#sk-container-id-2 div.sk-label label.sk-toggleable__label,\n",
       "#sk-container-id-2 div.sk-label label {\n",
       "  /* The background is the default theme color */\n",
       "  color: var(--sklearn-color-text-on-default-background);\n",
       "}\n",
       "\n",
       "/* On hover, darken the color of the background */\n",
       "#sk-container-id-2 div.sk-label:hover label.sk-toggleable__label {\n",
       "  color: var(--sklearn-color-text);\n",
       "  background-color: var(--sklearn-color-unfitted-level-2);\n",
       "}\n",
       "\n",
       "/* Label box, darken color on hover, fitted */\n",
       "#sk-container-id-2 div.sk-label.fitted:hover label.sk-toggleable__label.fitted {\n",
       "  color: var(--sklearn-color-text);\n",
       "  background-color: var(--sklearn-color-fitted-level-2);\n",
       "}\n",
       "\n",
       "/* Estimator label */\n",
       "\n",
       "#sk-container-id-2 div.sk-label label {\n",
       "  font-family: monospace;\n",
       "  font-weight: bold;\n",
       "  display: inline-block;\n",
       "  line-height: 1.2em;\n",
       "}\n",
       "\n",
       "#sk-container-id-2 div.sk-label-container {\n",
       "  text-align: center;\n",
       "}\n",
       "\n",
       "/* Estimator-specific */\n",
       "#sk-container-id-2 div.sk-estimator {\n",
       "  font-family: monospace;\n",
       "  border: 1px dotted var(--sklearn-color-border-box);\n",
       "  border-radius: 0.25em;\n",
       "  box-sizing: border-box;\n",
       "  margin-bottom: 0.5em;\n",
       "  /* unfitted */\n",
       "  background-color: var(--sklearn-color-unfitted-level-0);\n",
       "}\n",
       "\n",
       "#sk-container-id-2 div.sk-estimator.fitted {\n",
       "  /* fitted */\n",
       "  background-color: var(--sklearn-color-fitted-level-0);\n",
       "}\n",
       "\n",
       "/* on hover */\n",
       "#sk-container-id-2 div.sk-estimator:hover {\n",
       "  /* unfitted */\n",
       "  background-color: var(--sklearn-color-unfitted-level-2);\n",
       "}\n",
       "\n",
       "#sk-container-id-2 div.sk-estimator.fitted:hover {\n",
       "  /* fitted */\n",
       "  background-color: var(--sklearn-color-fitted-level-2);\n",
       "}\n",
       "\n",
       "/* Specification for estimator info (e.g. \"i\" and \"?\") */\n",
       "\n",
       "/* Common style for \"i\" and \"?\" */\n",
       "\n",
       ".sk-estimator-doc-link,\n",
       "a:link.sk-estimator-doc-link,\n",
       "a:visited.sk-estimator-doc-link {\n",
       "  float: right;\n",
       "  font-size: smaller;\n",
       "  line-height: 1em;\n",
       "  font-family: monospace;\n",
       "  background-color: var(--sklearn-color-background);\n",
       "  border-radius: 1em;\n",
       "  height: 1em;\n",
       "  width: 1em;\n",
       "  text-decoration: none !important;\n",
       "  margin-left: 1ex;\n",
       "  /* unfitted */\n",
       "  border: var(--sklearn-color-unfitted-level-1) 1pt solid;\n",
       "  color: var(--sklearn-color-unfitted-level-1);\n",
       "}\n",
       "\n",
       ".sk-estimator-doc-link.fitted,\n",
       "a:link.sk-estimator-doc-link.fitted,\n",
       "a:visited.sk-estimator-doc-link.fitted {\n",
       "  /* fitted */\n",
       "  border: var(--sklearn-color-fitted-level-1) 1pt solid;\n",
       "  color: var(--sklearn-color-fitted-level-1);\n",
       "}\n",
       "\n",
       "/* On hover */\n",
       "div.sk-estimator:hover .sk-estimator-doc-link:hover,\n",
       ".sk-estimator-doc-link:hover,\n",
       "div.sk-label-container:hover .sk-estimator-doc-link:hover,\n",
       ".sk-estimator-doc-link:hover {\n",
       "  /* unfitted */\n",
       "  background-color: var(--sklearn-color-unfitted-level-3);\n",
       "  color: var(--sklearn-color-background);\n",
       "  text-decoration: none;\n",
       "}\n",
       "\n",
       "div.sk-estimator.fitted:hover .sk-estimator-doc-link.fitted:hover,\n",
       ".sk-estimator-doc-link.fitted:hover,\n",
       "div.sk-label-container:hover .sk-estimator-doc-link.fitted:hover,\n",
       ".sk-estimator-doc-link.fitted:hover {\n",
       "  /* fitted */\n",
       "  background-color: var(--sklearn-color-fitted-level-3);\n",
       "  color: var(--sklearn-color-background);\n",
       "  text-decoration: none;\n",
       "}\n",
       "\n",
       "/* Span, style for the box shown on hovering the info icon */\n",
       ".sk-estimator-doc-link span {\n",
       "  display: none;\n",
       "  z-index: 9999;\n",
       "  position: relative;\n",
       "  font-weight: normal;\n",
       "  right: .2ex;\n",
       "  padding: .5ex;\n",
       "  margin: .5ex;\n",
       "  width: min-content;\n",
       "  min-width: 20ex;\n",
       "  max-width: 50ex;\n",
       "  color: var(--sklearn-color-text);\n",
       "  box-shadow: 2pt 2pt 4pt #999;\n",
       "  /* unfitted */\n",
       "  background: var(--sklearn-color-unfitted-level-0);\n",
       "  border: .5pt solid var(--sklearn-color-unfitted-level-3);\n",
       "}\n",
       "\n",
       ".sk-estimator-doc-link.fitted span {\n",
       "  /* fitted */\n",
       "  background: var(--sklearn-color-fitted-level-0);\n",
       "  border: var(--sklearn-color-fitted-level-3);\n",
       "}\n",
       "\n",
       ".sk-estimator-doc-link:hover span {\n",
       "  display: block;\n",
       "}\n",
       "\n",
       "/* \"?\"-specific style due to the `<a>` HTML tag */\n",
       "\n",
       "#sk-container-id-2 a.estimator_doc_link {\n",
       "  float: right;\n",
       "  font-size: 1rem;\n",
       "  line-height: 1em;\n",
       "  font-family: monospace;\n",
       "  background-color: var(--sklearn-color-background);\n",
       "  border-radius: 1rem;\n",
       "  height: 1rem;\n",
       "  width: 1rem;\n",
       "  text-decoration: none;\n",
       "  /* unfitted */\n",
       "  color: var(--sklearn-color-unfitted-level-1);\n",
       "  border: var(--sklearn-color-unfitted-level-1) 1pt solid;\n",
       "}\n",
       "\n",
       "#sk-container-id-2 a.estimator_doc_link.fitted {\n",
       "  /* fitted */\n",
       "  border: var(--sklearn-color-fitted-level-1) 1pt solid;\n",
       "  color: var(--sklearn-color-fitted-level-1);\n",
       "}\n",
       "\n",
       "/* On hover */\n",
       "#sk-container-id-2 a.estimator_doc_link:hover {\n",
       "  /* unfitted */\n",
       "  background-color: var(--sklearn-color-unfitted-level-3);\n",
       "  color: var(--sklearn-color-background);\n",
       "  text-decoration: none;\n",
       "}\n",
       "\n",
       "#sk-container-id-2 a.estimator_doc_link.fitted:hover {\n",
       "  /* fitted */\n",
       "  background-color: var(--sklearn-color-fitted-level-3);\n",
       "}\n",
       "</style><div id=\"sk-container-id-2\" class=\"sk-top-container\"><div class=\"sk-text-repr-fallback\"><pre>GridSearchCV(estimator=XGBClassifier(base_score=None, booster=None,\n",
       "                                     callbacks=None, colsample_bylevel=None,\n",
       "                                     colsample_bynode=None,\n",
       "                                     colsample_bytree=None,\n",
       "                                     early_stopping_rounds=None,\n",
       "                                     enable_categorical=False, eval_metric=None,\n",
       "                                     feature_types=None, gamma=None,\n",
       "                                     gpu_id=None, grow_policy=None,\n",
       "                                     importance_type=None,\n",
       "                                     interaction_constraints=None,\n",
       "                                     learning_rate=None, max_b...\n",
       "                                     missing=nan, monotone_constraints=None,\n",
       "                                     n_estimators=100, n_jobs=None,\n",
       "                                     num_parallel_tree=None, predictor=None,\n",
       "                                     random_state=None, ...),\n",
       "             param_grid={&#x27;colsample_bytree&#x27;: [0.8, 1.0],\n",
       "                         &#x27;grow_policy&#x27;: [&#x27;depthwise&#x27;, &#x27;lossguide&#x27;],\n",
       "                         &#x27;learning_rate&#x27;: array([0.01, 0.12, 0.23, 0.34, 0.45, 0.56, 0.67, 0.78, 0.89, 1.  ]),\n",
       "                         &#x27;max_depth&#x27;: range(1, 7), &#x27;n_estimators&#x27;: range(1, 20),\n",
       "                         &#x27;subsample&#x27;: [0.8, 1.0]})</pre><b>In a Jupyter environment, please rerun this cell to show the HTML representation or trust the notebook. <br />On GitHub, the HTML representation is unable to render, please try loading this page with nbviewer.org.</b></div><div class=\"sk-container\" hidden><div class=\"sk-item sk-dashed-wrapped\"><div class=\"sk-label-container\"><div class=\"sk-label fitted sk-toggleable\"><input class=\"sk-toggleable__control sk-hidden--visually\" id=\"sk-estimator-id-4\" type=\"checkbox\" ><label for=\"sk-estimator-id-4\" class=\"sk-toggleable__label fitted sk-toggleable__label-arrow fitted\">&nbsp;&nbsp;GridSearchCV<a class=\"sk-estimator-doc-link fitted\" rel=\"noreferrer\" target=\"_blank\" href=\"https://scikit-learn.org/1.5/modules/generated/sklearn.model_selection.GridSearchCV.html\">?<span>Documentation for GridSearchCV</span></a><span class=\"sk-estimator-doc-link fitted\">i<span>Fitted</span></span></label><div class=\"sk-toggleable__content fitted\"><pre>GridSearchCV(estimator=XGBClassifier(base_score=None, booster=None,\n",
       "                                     callbacks=None, colsample_bylevel=None,\n",
       "                                     colsample_bynode=None,\n",
       "                                     colsample_bytree=None,\n",
       "                                     early_stopping_rounds=None,\n",
       "                                     enable_categorical=False, eval_metric=None,\n",
       "                                     feature_types=None, gamma=None,\n",
       "                                     gpu_id=None, grow_policy=None,\n",
       "                                     importance_type=None,\n",
       "                                     interaction_constraints=None,\n",
       "                                     learning_rate=None, max_b...\n",
       "                                     missing=nan, monotone_constraints=None,\n",
       "                                     n_estimators=100, n_jobs=None,\n",
       "                                     num_parallel_tree=None, predictor=None,\n",
       "                                     random_state=None, ...),\n",
       "             param_grid={&#x27;colsample_bytree&#x27;: [0.8, 1.0],\n",
       "                         &#x27;grow_policy&#x27;: [&#x27;depthwise&#x27;, &#x27;lossguide&#x27;],\n",
       "                         &#x27;learning_rate&#x27;: array([0.01, 0.12, 0.23, 0.34, 0.45, 0.56, 0.67, 0.78, 0.89, 1.  ]),\n",
       "                         &#x27;max_depth&#x27;: range(1, 7), &#x27;n_estimators&#x27;: range(1, 20),\n",
       "                         &#x27;subsample&#x27;: [0.8, 1.0]})</pre></div> </div></div><div class=\"sk-parallel\"><div class=\"sk-parallel-item\"><div class=\"sk-item\"><div class=\"sk-label-container\"><div class=\"sk-label fitted sk-toggleable\"><input class=\"sk-toggleable__control sk-hidden--visually\" id=\"sk-estimator-id-5\" type=\"checkbox\" ><label for=\"sk-estimator-id-5\" class=\"sk-toggleable__label fitted sk-toggleable__label-arrow fitted\">best_estimator_: XGBClassifier</label><div class=\"sk-toggleable__content fitted\"><pre>XGBClassifier(base_score=None, booster=None, callbacks=None,\n",
       "              colsample_bylevel=None, colsample_bynode=None,\n",
       "              colsample_bytree=1.0, early_stopping_rounds=None,\n",
       "              enable_categorical=False, eval_metric=None, feature_types=None,\n",
       "              gamma=None, gpu_id=None, grow_policy=&#x27;depthwise&#x27;,\n",
       "              importance_type=None, interaction_constraints=None,\n",
       "              learning_rate=0.56, max_bin=None, max_cat_threshold=None,\n",
       "              max_cat_to_onehot=None, max_delta_step=None, max_depth=4,\n",
       "              max_leaves=None, min_child_weight=None, missing=nan,\n",
       "              monotone_constraints=None, n_estimators=19, n_jobs=None,\n",
       "              num_parallel_tree=None, predictor=None, random_state=None, ...)</pre></div> </div></div><div class=\"sk-serial\"><div class=\"sk-item\"><div class=\"sk-estimator fitted sk-toggleable\"><input class=\"sk-toggleable__control sk-hidden--visually\" id=\"sk-estimator-id-6\" type=\"checkbox\" ><label for=\"sk-estimator-id-6\" class=\"sk-toggleable__label fitted sk-toggleable__label-arrow fitted\">XGBClassifier</label><div class=\"sk-toggleable__content fitted\"><pre>XGBClassifier(base_score=None, booster=None, callbacks=None,\n",
       "              colsample_bylevel=None, colsample_bynode=None,\n",
       "              colsample_bytree=1.0, early_stopping_rounds=None,\n",
       "              enable_categorical=False, eval_metric=None, feature_types=None,\n",
       "              gamma=None, gpu_id=None, grow_policy=&#x27;depthwise&#x27;,\n",
       "              importance_type=None, interaction_constraints=None,\n",
       "              learning_rate=0.56, max_bin=None, max_cat_threshold=None,\n",
       "              max_cat_to_onehot=None, max_delta_step=None, max_depth=4,\n",
       "              max_leaves=None, min_child_weight=None, missing=nan,\n",
       "              monotone_constraints=None, n_estimators=19, n_jobs=None,\n",
       "              num_parallel_tree=None, predictor=None, random_state=None, ...)</pre></div> </div></div></div></div></div></div></div></div></div>"
      ],
      "text/plain": [
       "GridSearchCV(estimator=XGBClassifier(base_score=None, booster=None,\n",
       "                                     callbacks=None, colsample_bylevel=None,\n",
       "                                     colsample_bynode=None,\n",
       "                                     colsample_bytree=None,\n",
       "                                     early_stopping_rounds=None,\n",
       "                                     enable_categorical=False, eval_metric=None,\n",
       "                                     feature_types=None, gamma=None,\n",
       "                                     gpu_id=None, grow_policy=None,\n",
       "                                     importance_type=None,\n",
       "                                     interaction_constraints=None,\n",
       "                                     learning_rate=None, max_b...\n",
       "                                     missing=nan, monotone_constraints=None,\n",
       "                                     n_estimators=100, n_jobs=None,\n",
       "                                     num_parallel_tree=None, predictor=None,\n",
       "                                     random_state=None, ...),\n",
       "             param_grid={'colsample_bytree': [0.8, 1.0],\n",
       "                         'grow_policy': ['depthwise', 'lossguide'],\n",
       "                         'learning_rate': array([0.01, 0.12, 0.23, 0.34, 0.45, 0.56, 0.67, 0.78, 0.89, 1.  ]),\n",
       "                         'max_depth': range(1, 7), 'n_estimators': range(1, 20),\n",
       "                         'subsample': [0.8, 1.0]})"
      ]
     },
     "execution_count": 113,
     "metadata": {},
     "output_type": "execute_result"
    }
   ],
   "source": [
    "clf.fit(X_train, y_train)"
   ]
  },
  {
   "cell_type": "code",
   "execution_count": 115,
   "id": "9ca047a2-ad1f-48a1-b941-9cdc3ab59610",
   "metadata": {},
   "outputs": [
    {
     "name": "stdout",
     "output_type": "stream",
     "text": [
      "Migliori iperparametri: {'colsample_bytree': 1.0, 'grow_policy': 'depthwise', 'learning_rate': 0.56, 'max_depth': 4, 'n_estimators': 19, 'subsample': 1.0}\n",
      "Miglior punteggio di cross-validation: 0.9776880664089658\n"
     ]
    }
   ],
   "source": [
    "print(\"Migliori iperparametri:\", clf.best_params_)\n",
    "\n",
    "print(\"Miglior punteggio di cross-validation:\", clf.best_score_)"
   ]
  },
  {
   "cell_type": "code",
   "execution_count": 114,
   "id": "fc16cf05-02d4-47d0-a900-0afff05e66e7",
   "metadata": {},
   "outputs": [
    {
     "name": "stdout",
     "output_type": "stream",
     "text": [
      "0.994276833690477\n"
     ]
    },
    {
     "data": {
      "image/png": "[encoded data removed]",
      "text/plain": [
       "<Figure size 640x480 with 1 Axes>"
      ]
     },
     "metadata": {},
     "output_type": "display_data"
    }
   ],
   "source": [
    "model = clf.best_estimator_\n",
    "y_prob = model.predict_proba(X_test)[:, 1]\n",
    "fpr, tpr, _ = metrics.roc_curve(y_test, y_prob)\n",
    "plt.plot(fpr, tpr)\n",
    "print(metrics.auc(fpr, tpr))"
   ]
  },
  {
   "cell_type": "code",
   "execution_count": 116,
   "id": "7871f582-1ac3-469b-8f5e-65c5ff72e8ac",
   "metadata": {},
   "outputs": [],
   "source": [
    "model.save_model('best_model.json')"
   ]
  },
  {
   "cell_type": "markdown",
   "id": "5d9f545a-e8a2-4995-992d-67cec3b4a34e",
   "metadata": {},
   "source": [
    "# Confronto python e fpga"
   ]
  },
  {
   "cell_type": "markdown",
   "id": "ae014e20-70ae-4af6-9dbb-3301109170d7",
   "metadata": {},
   "source": [
    "## Confronto raw_scores"
   ]
  },
  {
   "cell_type": "code",
   "execution_count": 132,
   "id": "a84ec9e5-4e66-4636-948f-025f059ff2c7",
   "metadata": {},
   "outputs": [
    {
     "data": {
      "text/plain": [
       "19208.0"
      ]
     },
     "execution_count": 132,
     "metadata": {},
     "output_type": "execute_result"
    }
   ],
   "source": [
    "np.sum(model.predict_proba(X_test))"
   ]
  },
  {
   "cell_type": "code",
   "execution_count": 186,
   "id": "929a9f12-92be-4ebc-b7ce-35208c379329",
   "metadata": {},
   "outputs": [],
   "source": [
    "raw_scores_cpu = model.predict(X_test, output_margin=True)"
   ]
  },
  {
   "cell_type": "code",
   "execution_count": 187,
   "id": "bc26d127-40d0-4710-a999-3863ccc623f6",
   "metadata": {},
   "outputs": [],
   "source": [
    "file = open('raw_scores.txt', 'r')\n",
    "raw_scores_fpga = []\n",
    "raw_scores_fpga=np.float32(file.read().split())\n",
    "file.close()"
   ]
  },
  {
   "cell_type": "code",
   "execution_count": 193,
   "id": "b9a010d0-a7c3-4f4b-a4d5-95dff90f8a40",
   "metadata": {},
   "outputs": [],
   "source": [
    "from scipy.special import expit\n",
    "raw_scores_cpu = expit(raw_scores_cpu)\n",
    "raw_scores_fpga = expit(raw_scores_fpga)"
   ]
  },
  {
   "cell_type": "code",
   "execution_count": 194,
   "id": "ae38a416-5bdc-4981-8ef5-186aafa9a15d",
   "metadata": {},
   "outputs": [],
   "source": [
    "relative_error = (raw_scores_fpga-raw_scores_cpu[:-1])\n",
    "#relative_error /= raw_scores_cpu[:-1]"
   ]
  },
  {
   "cell_type": "code",
   "execution_count": 195,
   "id": "3c6eea22-7bf3-4818-985e-5156ecc0c523",
   "metadata": {},
   "outputs": [
    {
     "name": "stdout",
     "output_type": "stream",
     "text": [
      "0.5886346 -0.00025981382 0.019934615\n"
     ]
    }
   ],
   "source": [
    "print(max(relative_error), np.mean(relative_error), np.std(relative_error))"
   ]
  },
  {
   "cell_type": "code",
   "execution_count": 196,
   "id": "3a28895d-dd0e-4660-b850-ab3d201b15f0",
   "metadata": {},
   "outputs": [
    {
     "name": "stdout",
     "output_type": "stream",
     "text": [
      "-0.013711817\n"
     ]
    },
    {
     "data": {
      "image/png": "[encoded data removed]",
      "text/plain": [
       "<Figure size 640x480 with 1 Axes>"
      ]
     },
     "metadata": {},
     "output_type": "display_data"
    }
   ],
   "source": [
    "bin_edges = np.logspace(np.log10(min(np.abs(relative_error))), np.log10(max(np.abs(relative_error))), 30)\n",
    "print(np.log10(max(np.abs(relative_error))))\n",
    "plt.hist(np.abs(relative_error), bins=bin_edges)\n",
    "#plt.yscale('log')\n",
    "plt.xscale('log')"
   ]
  },
  {
   "cell_type": "code",
   "execution_count": 179,
   "id": "2f8c90cc-3cab-4cb6-9b44-a5a14e130fb4",
   "metadata": {},
   "outputs": [
    {
     "data": {
      "image/png": "[encoded data removed]",
      "text/plain": [
       "<Figure size 640x480 with 1 Axes>"
      ]
     },
     "metadata": {},
     "output_type": "display_data"
    }
   ],
   "source": [
    "plt.hist(np.abs(relative_error), bins=200)\n",
    "plt.yscale('log')\n",
    "#plt.xscale('log')"
   ]
  },
  {
   "cell_type": "code",
   "execution_count": 210,
   "id": "a4ab63e1-70f6-47e7-aee0-2d1d160d7244",
   "metadata": {},
   "outputs": [],
   "source": [
    "p = 0.5\n",
    "ps = np.linspace(0+1e-2, 1-1e-2, 100)\n",
    "relative_differences = []\n",
    "for p in ps:\n",
    "    signal_cpu = raw_scores_cpu[:-1] > p\n",
    "    signal_fpga = raw_scores_fpga > p\n",
    "    different = signal_cpu ^ signal_fpga\n",
    "    relative_differences.append(np.sum(different)/different.size)\n",
    "    #print(np.sum(different)/different.size)"
   ]
  },
  {
   "cell_type": "code",
   "execution_count": 215,
   "id": "2c55005c-3981-4b3a-9cd2-79742b0539b1",
   "metadata": {},
   "outputs": [
    {
     "data": {
      "text/plain": [
       "Text(0, 0.5, 'different prediction fraction')"
      ]
     },
     "execution_count": 215,
     "metadata": {},
     "output_type": "execute_result"
    },
    {
     "data": {
      "image/png": "[encoded data removed]",
      "text/plain": [
       "<Figure size 640x480 with 1 Axes>"
      ]
     },
     "metadata": {},
     "output_type": "display_data"
    }
   ],
   "source": [
    "plt.plot(ps, relative_differences, 'o')\n",
    "plt.xlabel('treshold probability')\n",
    "plt.ylabel('different prediction fraction')"
   ]
  },
  {
   "cell_type": "markdown",
   "id": "0ce5b8ad-2923-47b7-998f-521b10b8a7bc",
   "metadata": {},
   "source": [
    "## Confronto tempi"
   ]
  },
  {
   "cell_type": "code",
   "execution_count": 217,
   "id": "7cb71f76-5bab-46cf-8b76-f1822656ab74",
   "metadata": {},
   "outputs": [],
   "source": [
    "import time"
   ]
  },
  {
   "cell_type": "code",
   "execution_count": 227,
   "id": "945ef00e-9950-4070-9e6c-e1b64fbc785c",
   "metadata": {},
   "outputs": [
    {
     "data": {
      "text/plain": [
       "20210"
      ]
     },
     "execution_count": 227,
     "metadata": {},
     "output_type": "execute_result"
    }
   ],
   "source": [
    "time1 = time.time_ns()\n",
    "time2 = time.time_ns()\n",
    "dt=time2-time1\n",
    "dt"
   ]
  },
  {
   "cell_type": "code",
   "execution_count": 257,
   "id": "0e2d9e0c-7810-4e8b-b277-b74bdeedb16a",
   "metadata": {},
   "outputs": [],
   "source": [
    "dtimes = []\n",
    "for x in X_test.to_numpy():\n",
    "    x = np.array([x])\n",
    "    time1 = time.time_ns()\n",
    "    raw_scores_cpu = model.predict(x, output_margin=True)\n",
    "    time2 = time.time_ns()\n",
    "    dtimes.append(time2-time1)"
   ]
  },
  {
   "cell_type": "code",
   "execution_count": 258,
   "id": "6e11ba22-7e3f-40d3-86b1-038da284916a",
   "metadata": {},
   "outputs": [
    {
     "name": "stdout",
     "output_type": "stream",
     "text": [
      "382310.0472199084 920439.0600913937 2.4075722487145317\n"
     ]
    }
   ],
   "source": [
    "print(np.mean(dtimes),np.std(dtimes), np.std(dtimes)/np.mean(dtimes))"
   ]
  },
  {
   "cell_type": "code",
   "execution_count": 260,
   "id": "ca2185a1-5594-443f-8966-8018da7b7dfa",
   "metadata": {},
   "outputs": [
    {
     "data": {
      "image/png": "[encoded data removed]",
      "text/plain": [
       "<Figure size 640x480 with 1 Axes>"
      ]
     },
     "metadata": {},
     "output_type": "display_data"
    }
   ],
   "source": [
    "bin_edges = np.logspace(np.log10(min(dtimes)), np.log10(max(dtimes)), 30)\n",
    "plt.hist(dtimes, bins=bin_edges)\n",
    "plt.vlines(np.mean(dtimes), 0, 17500, color='red') \n",
    "plt.vlines(55978.143593481545, 0, 17500, color='green')\n",
    "#plt.yscale('log')\n",
    "plt.xscale('log')"
   ]
  },
  {
   "cell_type": "code",
   "execution_count": null,
   "id": "a535a63f-39cb-484a-9888-fdc2d2820e05",
   "metadata": {},
   "outputs": [],
   "source": []
  }
 ],
 "metadata": {
  "kernelspec": {
   "display_name": "Python 3.10 (fpga-ml)",
   "language": "python",
   "name": "fpga-ml"
  },
  "language_info": {
   "codemirror_mode": {
    "name": "ipython",
    "version": 3
   },
   "file_extension": ".py",
   "mimetype": "text/x-python",
   "name": "python",
   "nbconvert_exporter": "python",
   "pygments_lexer": "ipython3",
   "version": "3.10.18"
  }
 },
 "nbformat": 4,
 "nbformat_minor": 5
}
