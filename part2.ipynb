{
 "cells": [
  {
   "cell_type": "markdown",
   "id": "d85ed3b2",
   "metadata": {},
   "source": [
    "# Building the FPGA firmware"
   ]
  },
  {
   "cell_type": "markdown",
   "id": "79206622",
   "metadata": {},
   "source": [
    "Now that we have created our XGBoost model, we use another library, `Conifer`, to \"translate\" it to an FPGA firmware.  \n",
    "Conifer translate the model first in _HLS_ (C/C++) and then build the _HDL_ code (VHDL/Verilog) using a third backend software which is either `Vitis` or `Vivado`, which requires installation."
   ]
  },
  {
   "cell_type": "markdown",
   "id": "cab15ae3-3c76-4a9d-ad99-1163d227d14b",
   "metadata": {},
   "source": [
    "# Libraries"
   ]
  },
  {
   "cell_type": "markdown",
   "id": "460175c5",
   "metadata": {},
   "source": [
    "We include the libraries needed to run this part:"
   ]
  },
  {
   "cell_type": "code",
   "execution_count": 1,
   "id": "371db58c-4f75-41d1-8bcb-40de88f99bf8",
   "metadata": {},
   "outputs": [
    {
     "name": "stderr",
     "output_type": "stream",
     "text": [
      "Could not import conifer ydf converter\n",
      "/opt/conda/envs/fpga-env/lib/python3.10/site-packages/pynqutils/build_utils/xsa_parser.py:19: UserWarning: pkg_resources is deprecated as an API. See https://setuptools.pypa.io/en/latest/pkg_resources.html. The pkg_resources package is slated for removal as early as 2025-11-30. Refrain from using this package or pin to Setuptools<81.\n",
      "  import pkg_resources\n",
      "/opt/conda/envs/fpga-env/lib/python3.10/site-packages/pydantic/_internal/_config.py:373: UserWarning: Valid config keys have changed in V2:\n",
      "* 'underscore_attrs_are_private' has been removed\n",
      "  warnings.warn(message, UserWarning)\n"
     ]
    }
   ],
   "source": [
    "import conifer\n",
    "import xgboost as xgb\n",
    "import json\n",
    "import pandas as pd\n",
    "import numpy as np\n",
    "from scipy.special import expit\n",
    "import matplotlib.pyplot as plt\n",
    "from sklearn import metrics"
   ]
  },
  {
   "cell_type": "markdown",
   "id": "5812199a-ea37-452c-a614-bbe4540a0205",
   "metadata": {},
   "source": [
    "# Write the model in HLS"
   ]
  },
  {
   "cell_type": "markdown",
   "id": "2204e236",
   "metadata": {},
   "source": [
    "We load the model from part 1"
   ]
  },
  {
   "cell_type": "code",
   "execution_count": 2,
   "id": "b20f6a50-fabb-42a4-9080-4370bd8b8e41",
   "metadata": {},
   "outputs": [],
   "source": [
    "import os\n",
    "\n",
    "# Change the current working directory to where the file is located\n",
    "os.chdir('repo')"
   ]
  },
  {
   "cell_type": "code",
   "execution_count": 3,
   "id": "7b70b88b-5af5-4ff4-bc04-b7bf17a610e8",
   "metadata": {},
   "outputs": [],
   "source": [
    "model = xgb.XGBClassifier()\n",
    "model.load_model('best_model.json')"
   ]
  },
  {
   "cell_type": "markdown",
   "id": "86b08439",
   "metadata": {},
   "source": [
    "Since building the firmware specifically for our board (PYNQ-Z2) can be time-consuming, we first create a more generic firmware for debugging purposes.  \n",
    "This approach allows us to quickly test and validate the model conversion process before investing additional time in board-specific synthesis and packaging.  \n",
    "By debugging with a generic firmware, we can identify and resolve potential issues early, making the workflow more efficient."
   ]
  },
  {
   "cell_type": "code",
   "execution_count": 4,
   "id": "ba773427-f27b-48dd-b707-d586de506376",
   "metadata": {},
   "outputs": [],
   "source": [
    "# Load test data\n",
    "data = pd.read_hdf('data.h5')\n",
    "test_data = data[data['is_train']==False]"
   ]
  },
  {
   "cell_type": "markdown",
   "id": "267f9fc7",
   "metadata": {},
   "source": [
    "The next cell of code is needed to tell Conifer the paths where to find Vivado, Vitis, the C/C++ compilers and others important files. We put execute the cell after loading the model and the data because these next lines of code will change the working directory of the notebook.  \n",
    "Mind that, in another environment, paths might be different."
   ]
  },
  {
   "cell_type": "code",
   "execution_count": 5,
   "id": "d1bee4b9-3da9-4236-a886-65f637751509",
   "metadata": {},
   "outputs": [],
   "source": [
    "# INFN-MIB Cloud Environment Paths\n",
    "import os\n",
    "import sys\n",
    "import sysconfig\n",
    "import pybind11\n",
    "# Add Viavado bin\n",
    "os.environ['PATH'] = '/opt/tools/Xilinx/Vivado/2023.2/bin:' + os.environ['PATH']\n",
    "# Pynq-Z2 files\n",
    "os.environ[\"BOARD_REPO_PATHS\"] = \"/opt/tools/Xilinx/Vivado/2023.2/data/boards/board_files/pynq-z2\"\n",
    "# Add HLS bin\n",
    "os.environ['PATH'] = '/opt/tools/Xilinx/Vitis_HLS/2023.2/bin:' + os.environ['PATH']\n",
    "os.environ['XILINX_HLS'] = '/opt/tools/Xilinx/Vitis_HLS/2023.2/'\n",
    "# Use system compilers\n",
    "os.environ['CC'] = '/usr/bin/gcc'\n",
    "os.environ['CXX'] = '/usr/bin/g++'\n",
    "os.environ['LD'] = '/usr/bin/ld'\n",
    "## Python bindings\n",
    "# Force shell subprocesses to use the right python\n",
    "env_path = os.environ['PATH']\n",
    "correct_python_dir = os.path.dirname(sys.executable)\n",
    "os.environ['PATH'] = f\"{correct_python_dir}:{env_path}\"\n",
    "# Tell the compiler where to find the Python and pybind11 headers\n",
    "python_include = sysconfig.get_paths()['include']\n",
    "pybind11_include = pybind11.get_include()\n",
    "os.environ['CXXFLAGS'] = f\"-I{python_include} -I{pybind11_include}\"\n",
    "# Optional: help downstream tools pick the right interpreter\n",
    "os.environ['PYTHON_EXECUTABLE'] = sys.executable"
   ]
  },
  {
   "cell_type": "markdown",
   "id": "162f3869",
   "metadata": {},
   "source": [
    "The next cell creates a configuration dictionary (`cfg`) using Conifer's `auto_config()` function, which provides default settings for building the FPGA firmware.  \n",
    "It then prints the default configuration, modifies some key parameters (such as the output directory and target FPGA part), and prints the updated configuration.\n",
    "\n",
    "The configuration dictionary contains various options that control how Conifer generates and synthesizes the firmware, including:\n",
    "- `OutputDir`: Directory where the generated files will be stored.\n",
    "- `XilinxPart`: Specifies the target FPGA device.\n",
    "- Other options may include synthesis settings, project names, and tool-specific parameters.\n",
    "\n",
    "You can customize these options by updating the dictionary before passing it to Conifer's conversion functions."
   ]
  },
  {
   "cell_type": "code",
   "execution_count": 6,
   "id": "0751b9a6-cd06-4c67-9f3a-4d9ee45cd1ac",
   "metadata": {},
   "outputs": [
    {
     "name": "stdout",
     "output_type": "stream",
     "text": [
      "Default Configuration\n",
      "--------------------------------------------------\n",
      "{\n",
      "  \"Backend\": \"xilinxhls\",\n",
      "  \"ProjectName\": \"my_prj\",\n",
      "  \"OutputDir\": \"my-conifer-prj\",\n",
      "  \"XilinxPart\": \"xcvu9p-flgb2104-2L-e\",\n",
      "  \"ClockPeriod\": \"5\",\n",
      "  \"Unroll\": true,\n",
      "  \"AcceleratorConfig\": null,\n",
      "  \"Precision\": \"ap_fixed<18,8>\"\n",
      "}\n",
      "--------------------------------------------------\n",
      "Modified Configuration\n",
      "--------------------------------------------------\n",
      "{\n",
      "  \"Backend\": \"xilinxhls\",\n",
      "  \"ProjectName\": \"my_prj\",\n",
      "  \"OutputDir\": \"conifer\",\n",
      "  \"XilinxPart\": \"xc7z020clg400-1\",\n",
      "  \"ClockPeriod\": \"5\",\n",
      "  \"Unroll\": true,\n",
      "  \"AcceleratorConfig\": null,\n",
      "  \"Precision\": \"ap_fixed<18,8>\"\n",
      "}\n",
      "--------------------------------------------------\n"
     ]
    }
   ],
   "source": [
    "cfg = conifer.backends.xilinxhls.auto_config()\n",
    "\n",
    "# print the config\n",
    "print('Default Configuration\\n' + '-' * 50)\n",
    "print(json.dumps(cfg, indent=2))\n",
    "print('-' * 50)\n",
    "\n",
    "# modify the config\n",
    "cfg['OutputDir'] = 'conifer'\n",
    "cfg['XilinxPart'] = 'xc7z020clg400-1'\n",
    "\n",
    "\n",
    "# print the config again\n",
    "print('Modified Configuration\\n' + '-' * 50)\n",
    "print(json.dumps(cfg, indent=2))\n",
    "print('-' * 50)"
   ]
  },
  {
   "cell_type": "markdown",
   "id": "25862faf",
   "metadata": {},
   "source": [
    "We are now ready to build the model:"
   ]
  },
  {
   "cell_type": "code",
   "execution_count": 7,
   "id": "a57b6cd0-e6b4-4831-a963-42a6fc091b8e",
   "metadata": {},
   "outputs": [],
   "source": [
    "conifer_model = conifer.converters.convert_from_xgboost(model, cfg)"
   ]
  },
  {
   "cell_type": "code",
   "execution_count": 8,
   "id": "21bc4154-d662-4b58-bbfe-24cf3f678ba6",
   "metadata": {},
   "outputs": [
    {
     "data": {
      "text/plain": [
       "True"
      ]
     },
     "execution_count": 8,
     "metadata": {},
     "output_type": "execute_result"
    }
   ],
   "source": [
    "conifer_model.write()\n",
    "conifer_model.build(synth=True, vsynth=True)"
   ]
  },
  {
   "cell_type": "markdown",
   "id": "6760c98c-6211-4812-9431-a2a8dce6cd14",
   "metadata": {},
   "source": [
    "## Emulate the model in C on a CPU"
   ]
  },
  {
   "cell_type": "markdown",
   "id": "3e16f17d",
   "metadata": {},
   "source": [
    "We now check wheter the converted model performs well in comparison with the XGBoost one:"
   ]
  },
  {
   "cell_type": "code",
   "execution_count": 9,
   "id": "79337ada-07ed-4d8d-a137-f5cf5794ff23",
   "metadata": {},
   "outputs": [],
   "source": [
    "# we select only the features used by the model\n",
    "most_important = np.array([3, 2, 37, 49, 24, 56, 1, 51, 58, 47])\n",
    "X_test = test_data.iloc[:, most_important+3]\n",
    "y_test = test_data['class']"
   ]
  },
  {
   "cell_type": "code",
   "execution_count": 10,
   "id": "18dd477f-7ebe-4b56-ad8c-6f9416eed588",
   "metadata": {},
   "outputs": [],
   "source": [
    "conifer_model.compile() # compile the model"
   ]
  },
  {
   "cell_type": "markdown",
   "id": "a97d3b07-092a-4b79-ac1d-a77e6b50e88e",
   "metadata": {},
   "source": [
    "Conifer only returns raw scores, to convert it to probabilities we use the `scipy.special.expit` function"
   ]
  },
  {
   "cell_type": "code",
   "execution_count": 11,
   "id": "745ac3c8-6c4a-47eb-8707-50d26629035b",
   "metadata": {},
   "outputs": [],
   "source": [
    "raw_scores_hls = conifer_model.decision_function(X_test.to_numpy())\n",
    "y_hls = expit(raw_scores_hls)"
   ]
  },
  {
   "cell_type": "code",
   "execution_count": 12,
   "id": "b081b0f0-9fc0-40d0-87ef-f44b36f705fe",
   "metadata": {},
   "outputs": [
    {
     "data": {
      "image/png": "[encoded data removed]",
      "text/plain": [
       "<Figure size 640x480 with 1 Axes>"
      ]
     },
     "metadata": {},
     "output_type": "display_data"
    }
   ],
   "source": [
    "fpr, tpr, _ = metrics.roc_curve(y_test, y_hls)\n",
    "plt.plot(fpr, tpr)\n",
    "plt.xlabel('False Positive Rate')\n",
    "plt.ylabel('True Positive Rate')\n",
    "plt.title('ROC curve')\n",
    "plt.legend(['AUC = {:.2f}'.format(metrics.roc_auc_score(y_test, y_hls))])\n",
    "plt.show()"
   ]
  },
  {
   "cell_type": "markdown",
   "id": "a5078841-3da8-43fe-81e5-9135f1d2bc8f",
   "metadata": {},
   "source": [
    "# Build"
   ]
  },
  {
   "cell_type": "markdown",
   "id": "2517b7d6-a6e6-40f9-a352-bff7f2ee0110",
   "metadata": {},
   "source": [
    "Now we are ready to build the bitfile that will be deployed and executed directly on the PYNQ-Z2 FPGA board.  \n",
    "This process is similar to the previous steps used for building the generic \"debugging\" firmware, but with a few important differences:\n",
    "\n",
    "- We configure Conifer to target the specific PYNQ-Z2 board by setting the appropriate board and part number in the configuration dictionary.\n",
    "- We enable additional options such as `bitfile=True` and `package=True` to ensure that the output includes the FPGA bitstream and all necessary files for deployment.\n",
    "- The resulting bitfile can be loaded onto the PYNQ-Z2 board, allowing us to run inference on real hardware."
   ]
  },
  {
   "cell_type": "code",
   "execution_count": 13,
   "id": "82554dc5-d4fe-42ad-98a0-99d129397dbc",
   "metadata": {},
   "outputs": [],
   "source": [
    "pynq_model_cfg = conifer.backends.xilinxhls.auto_config()\n",
    "pynq_model_cfg['OutputDir'] = 'prj_conifer_pynq'          # choose a new project directory\n",
    "pynq_model_cfg['ProjectName'] = 'conifer_xgboost_moons'\n",
    "pynq_model_cfg['AcceleratorConfig'] = {'Board' : 'pynq-z2',      # choose a pynq-z2 board\n",
    "                                       'InterfaceType' : 'float' # floating point for the data I/O (this is default)\n",
    "                                      }\n",
    "pynq_model_cfg['vivado_config'] = {\n",
    "    'verbose': True  # Enable verbose output for the Vivado part of the build\n",
    "}\n",
    "\n",
    "pynq_model_cfg['hls_config'] = {\n",
    "    'verbose': True  # Enable verbose output for the HLS part of the build\n",
    "}\n",
    "pynq_model_cfg['XilinxPart'] = 'xc7z020clg400-1' # Pynq-Z2 part number"
   ]
  },
  {
   "cell_type": "code",
   "execution_count": 14,
   "id": "fc3981ad-9cc0-4ed0-b1e6-61952602e6ff",
   "metadata": {},
   "outputs": [],
   "source": [
    "pynq_model = conifer.model.load_model('conifer/my_prj.json', new_config=pynq_model_cfg)\n",
    "pynq_model.write()"
   ]
  },
  {
   "cell_type": "markdown",
   "id": "8248ea4e-efcd-4ae3-a5cf-6aef92182655",
   "metadata": {},
   "source": [
    "We now set `bitfile=True` because we want Conifer to generate the bitfile we will run on the board"
   ]
  },
  {
   "cell_type": "code",
   "execution_count": 15,
   "id": "3b7c73e1-83d6-46cc-abf8-c073b5ce8927",
   "metadata": {},
   "outputs": [
    {
     "data": {
      "text/plain": [
       "True"
      ]
     },
     "execution_count": 15,
     "metadata": {},
     "output_type": "execute_result"
    }
   ],
   "source": [
    "pynq_model.build(synth=True, bitfile=True, package=True)"
   ]
  }
 ],
 "metadata": {
  "kernelspec": {
   "display_name": "Python 3.10 (fpga-ml)",
   "language": "python",
   "name": "fpga-ml"
  },
  "language_info": {
   "codemirror_mode": {
    "name": "ipython",
    "version": 3
   },
   "file_extension": ".py",
   "mimetype": "text/x-python",
   "name": "python",
   "nbconvert_exporter": "python",
   "pygments_lexer": "ipython3",
   "version": "3.10.18"
  }
 },
 "nbformat": 4,
 "nbformat_minor": 5
}
