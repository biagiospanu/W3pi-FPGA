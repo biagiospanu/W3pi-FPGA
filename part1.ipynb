{
 "cells": [
  {
   "cell_type": "markdown",
   "id": "c11350db-aaff-4892-a97e-4d03f214e3c7",
   "metadata": {},
   "source": [
    "# Libraries"
   ]
  },
  {
   "cell_type": "markdown",
   "id": "4608dbc8",
   "metadata": {},
   "source": [
    "Let's import all the libraries we need"
   ]
  },
  {
   "cell_type": "code",
   "execution_count": 31,
   "id": "99c3e034-2db2-4438-8a7c-2f4a8a90b1a9",
   "metadata": {},
   "outputs": [],
   "source": [
    "import pandas as pd\n",
    "import xgboost as xgb\n",
    "from sklearn import metrics\n",
    "import matplotlib.pyplot as plt\n",
    "import numpy as np\n",
    "from sklearn.model_selection import GridSearchCV"
   ]
  },
  {
   "cell_type": "markdown",
   "id": "5a628d0c-5b81-43e4-a8da-fee6761c9711",
   "metadata": {},
   "source": [
    "# Import data"
   ]
  },
  {
   "cell_type": "markdown",
   "id": "4bacdb0b",
   "metadata": {},
   "source": [
    "We import the data simulated from the file 'data.h5'."
   ]
  },
  {
   "cell_type": "code",
   "execution_count": 32,
   "id": "0b9adbe2",
   "metadata": {},
   "outputs": [
    {
     "data": {
      "text/html": [
       "<div>\n",
       "<style scoped>\n",
       "    .dataframe tbody tr th:only-of-type {\n",
       "        vertical-align: middle;\n",
       "    }\n",
       "\n",
       "    .dataframe tbody tr th {\n",
       "        vertical-align: top;\n",
       "    }\n",
       "\n",
       "    .dataframe thead th {\n",
       "        text-align: right;\n",
       "    }\n",
       "</style>\n",
       "<table border=\"1\" class=\"dataframe\">\n",
       "  <thead>\n",
       "    <tr style=\"text-align: right;\">\n",
       "      <th></th>\n",
       "      <th>run</th>\n",
       "      <th>lumi</th>\n",
       "      <th>event</th>\n",
       "      <th>nL1Puppi</th>\n",
       "      <th>pi0_pt</th>\n",
       "      <th>pi1_pt</th>\n",
       "      <th>pi2_pt</th>\n",
       "      <th>pi0_eta</th>\n",
       "      <th>pi1_eta</th>\n",
       "      <th>pi2_eta</th>\n",
       "      <th>...</th>\n",
       "      <th>triplet_mindR</th>\n",
       "      <th>triplet_maxdVz</th>\n",
       "      <th>triplet_mindVz</th>\n",
       "      <th>is_train</th>\n",
       "      <th>is_valid</th>\n",
       "      <th>is_test</th>\n",
       "      <th>classS</th>\n",
       "      <th>classB</th>\n",
       "      <th>classF</th>\n",
       "      <th>class</th>\n",
       "    </tr>\n",
       "  </thead>\n",
       "  <tbody>\n",
       "    <tr>\n",
       "      <th>0</th>\n",
       "      <td>1</td>\n",
       "      <td>3012</td>\n",
       "      <td>105</td>\n",
       "      <td>16</td>\n",
       "      <td>26.50</td>\n",
       "      <td>9.75</td>\n",
       "      <td>3.50</td>\n",
       "      <td>0.323242</td>\n",
       "      <td>-1.367188</td>\n",
       "      <td>-0.845703</td>\n",
       "      <td>...</td>\n",
       "      <td>1.253697</td>\n",
       "      <td>0.062500</td>\n",
       "      <td>-0.062500</td>\n",
       "      <td>True</td>\n",
       "      <td>False</td>\n",
       "      <td>False</td>\n",
       "      <td>0</td>\n",
       "      <td>0</td>\n",
       "      <td>1</td>\n",
       "      <td>0</td>\n",
       "    </tr>\n",
       "    <tr>\n",
       "      <th>1</th>\n",
       "      <td>1</td>\n",
       "      <td>11710</td>\n",
       "      <td>1870293</td>\n",
       "      <td>43</td>\n",
       "      <td>4.25</td>\n",
       "      <td>3.25</td>\n",
       "      <td>3.00</td>\n",
       "      <td>1.429688</td>\n",
       "      <td>0.767578</td>\n",
       "      <td>0.323242</td>\n",
       "      <td>...</td>\n",
       "      <td>1.371571</td>\n",
       "      <td>0.250000</td>\n",
       "      <td>-0.100098</td>\n",
       "      <td>True</td>\n",
       "      <td>False</td>\n",
       "      <td>False</td>\n",
       "      <td>0</td>\n",
       "      <td>1</td>\n",
       "      <td>0</td>\n",
       "      <td>0</td>\n",
       "    </tr>\n",
       "    <tr>\n",
       "      <th>2</th>\n",
       "      <td>1</td>\n",
       "      <td>8864</td>\n",
       "      <td>1415797</td>\n",
       "      <td>38</td>\n",
       "      <td>6.00</td>\n",
       "      <td>5.25</td>\n",
       "      <td>4.00</td>\n",
       "      <td>0.388672</td>\n",
       "      <td>-1.574219</td>\n",
       "      <td>-2.101562</td>\n",
       "      <td>...</td>\n",
       "      <td>0.838835</td>\n",
       "      <td>0.390625</td>\n",
       "      <td>-1.000000</td>\n",
       "      <td>True</td>\n",
       "      <td>False</td>\n",
       "      <td>False</td>\n",
       "      <td>0</td>\n",
       "      <td>1</td>\n",
       "      <td>0</td>\n",
       "      <td>0</td>\n",
       "    </tr>\n",
       "    <tr>\n",
       "      <th>3</th>\n",
       "      <td>1</td>\n",
       "      <td>3035</td>\n",
       "      <td>34</td>\n",
       "      <td>45</td>\n",
       "      <td>33.50</td>\n",
       "      <td>18.50</td>\n",
       "      <td>4.00</td>\n",
       "      <td>2.015625</td>\n",
       "      <td>1.789062</td>\n",
       "      <td>-0.335938</td>\n",
       "      <td>...</td>\n",
       "      <td>1.933244</td>\n",
       "      <td>0.101562</td>\n",
       "      <td>-0.050781</td>\n",
       "      <td>True</td>\n",
       "      <td>False</td>\n",
       "      <td>False</td>\n",
       "      <td>0</td>\n",
       "      <td>0</td>\n",
       "      <td>1</td>\n",
       "      <td>0</td>\n",
       "    </tr>\n",
       "    <tr>\n",
       "      <th>4</th>\n",
       "      <td>1</td>\n",
       "      <td>3252</td>\n",
       "      <td>519289</td>\n",
       "      <td>30</td>\n",
       "      <td>6.00</td>\n",
       "      <td>4.50</td>\n",
       "      <td>4.00</td>\n",
       "      <td>0.117920</td>\n",
       "      <td>2.304688</td>\n",
       "      <td>2.140625</td>\n",
       "      <td>...</td>\n",
       "      <td>0.920981</td>\n",
       "      <td>0.449219</td>\n",
       "      <td>0.199219</td>\n",
       "      <td>True</td>\n",
       "      <td>False</td>\n",
       "      <td>False</td>\n",
       "      <td>0</td>\n",
       "      <td>1</td>\n",
       "      <td>0</td>\n",
       "      <td>0</td>\n",
       "    </tr>\n",
       "    <tr>\n",
       "      <th>...</th>\n",
       "      <td>...</td>\n",
       "      <td>...</td>\n",
       "      <td>...</td>\n",
       "      <td>...</td>\n",
       "      <td>...</td>\n",
       "      <td>...</td>\n",
       "      <td>...</td>\n",
       "      <td>...</td>\n",
       "      <td>...</td>\n",
       "      <td>...</td>\n",
       "      <td>...</td>\n",
       "      <td>...</td>\n",
       "      <td>...</td>\n",
       "      <td>...</td>\n",
       "      <td>...</td>\n",
       "      <td>...</td>\n",
       "      <td>...</td>\n",
       "      <td>...</td>\n",
       "      <td>...</td>\n",
       "      <td>...</td>\n",
       "      <td>...</td>\n",
       "    </tr>\n",
       "    <tr>\n",
       "      <th>64022</th>\n",
       "      <td>1</td>\n",
       "      <td>418</td>\n",
       "      <td>66696</td>\n",
       "      <td>47</td>\n",
       "      <td>13.75</td>\n",
       "      <td>4.75</td>\n",
       "      <td>3.75</td>\n",
       "      <td>-0.261719</td>\n",
       "      <td>-2.335938</td>\n",
       "      <td>-1.535156</td>\n",
       "      <td>...</td>\n",
       "      <td>1.042801</td>\n",
       "      <td>0.499512</td>\n",
       "      <td>-1.501465</td>\n",
       "      <td>False</td>\n",
       "      <td>False</td>\n",
       "      <td>True</td>\n",
       "      <td>0</td>\n",
       "      <td>1</td>\n",
       "      <td>0</td>\n",
       "      <td>0</td>\n",
       "    </tr>\n",
       "    <tr>\n",
       "      <th>64023</th>\n",
       "      <td>1</td>\n",
       "      <td>3870</td>\n",
       "      <td>618144</td>\n",
       "      <td>26</td>\n",
       "      <td>4.25</td>\n",
       "      <td>3.75</td>\n",
       "      <td>2.75</td>\n",
       "      <td>-1.015625</td>\n",
       "      <td>1.171875</td>\n",
       "      <td>1.582031</td>\n",
       "      <td>...</td>\n",
       "      <td>0.464844</td>\n",
       "      <td>-0.351562</td>\n",
       "      <td>-1.349609</td>\n",
       "      <td>False</td>\n",
       "      <td>False</td>\n",
       "      <td>True</td>\n",
       "      <td>0</td>\n",
       "      <td>1</td>\n",
       "      <td>0</td>\n",
       "      <td>0</td>\n",
       "    </tr>\n",
       "    <tr>\n",
       "      <th>64024</th>\n",
       "      <td>1</td>\n",
       "      <td>8066</td>\n",
       "      <td>1288288</td>\n",
       "      <td>32</td>\n",
       "      <td>8.50</td>\n",
       "      <td>5.50</td>\n",
       "      <td>4.00</td>\n",
       "      <td>-1.929688</td>\n",
       "      <td>2.085938</td>\n",
       "      <td>-1.167969</td>\n",
       "      <td>...</td>\n",
       "      <td>0.774591</td>\n",
       "      <td>0.148438</td>\n",
       "      <td>-0.453125</td>\n",
       "      <td>False</td>\n",
       "      <td>False</td>\n",
       "      <td>True</td>\n",
       "      <td>0</td>\n",
       "      <td>1</td>\n",
       "      <td>0</td>\n",
       "      <td>0</td>\n",
       "    </tr>\n",
       "    <tr>\n",
       "      <th>64025</th>\n",
       "      <td>1</td>\n",
       "      <td>562</td>\n",
       "      <td>89703</td>\n",
       "      <td>14</td>\n",
       "      <td>4.50</td>\n",
       "      <td>4.50</td>\n",
       "      <td>3.75</td>\n",
       "      <td>-0.841797</td>\n",
       "      <td>-0.841797</td>\n",
       "      <td>2.335938</td>\n",
       "      <td>...</td>\n",
       "      <td>0.000000</td>\n",
       "      <td>0.250000</td>\n",
       "      <td>0.000000</td>\n",
       "      <td>False</td>\n",
       "      <td>False</td>\n",
       "      <td>True</td>\n",
       "      <td>0</td>\n",
       "      <td>1</td>\n",
       "      <td>0</td>\n",
       "      <td>0</td>\n",
       "    </tr>\n",
       "    <tr>\n",
       "      <th>64026</th>\n",
       "      <td>1</td>\n",
       "      <td>3048</td>\n",
       "      <td>126</td>\n",
       "      <td>34</td>\n",
       "      <td>24.75</td>\n",
       "      <td>14.75</td>\n",
       "      <td>3.25</td>\n",
       "      <td>0.968750</td>\n",
       "      <td>0.100342</td>\n",
       "      <td>1.539062</td>\n",
       "      <td>...</td>\n",
       "      <td>1.948770</td>\n",
       "      <td>0.000000</td>\n",
       "      <td>-0.998047</td>\n",
       "      <td>False</td>\n",
       "      <td>False</td>\n",
       "      <td>True</td>\n",
       "      <td>0</td>\n",
       "      <td>0</td>\n",
       "      <td>1</td>\n",
       "      <td>0</td>\n",
       "    </tr>\n",
       "  </tbody>\n",
       "</table>\n",
       "<p>64027 rows × 70 columns</p>\n",
       "</div>"
      ],
      "text/plain": [
       "       run   lumi    event  nL1Puppi  pi0_pt  pi1_pt  pi2_pt   pi0_eta  \\\n",
       "0        1   3012      105        16   26.50    9.75    3.50  0.323242   \n",
       "1        1  11710  1870293        43    4.25    3.25    3.00  1.429688   \n",
       "2        1   8864  1415797        38    6.00    5.25    4.00  0.388672   \n",
       "3        1   3035       34        45   33.50   18.50    4.00  2.015625   \n",
       "4        1   3252   519289        30    6.00    4.50    4.00  0.117920   \n",
       "...    ...    ...      ...       ...     ...     ...     ...       ...   \n",
       "64022    1    418    66696        47   13.75    4.75    3.75 -0.261719   \n",
       "64023    1   3870   618144        26    4.25    3.75    2.75 -1.015625   \n",
       "64024    1   8066  1288288        32    8.50    5.50    4.00 -1.929688   \n",
       "64025    1    562    89703        14    4.50    4.50    3.75 -0.841797   \n",
       "64026    1   3048      126        34   24.75   14.75    3.25  0.968750   \n",
       "\n",
       "        pi1_eta   pi2_eta  ...  triplet_mindR  triplet_maxdVz  triplet_mindVz  \\\n",
       "0     -1.367188 -0.845703  ...       1.253697        0.062500       -0.062500   \n",
       "1      0.767578  0.323242  ...       1.371571        0.250000       -0.100098   \n",
       "2     -1.574219 -2.101562  ...       0.838835        0.390625       -1.000000   \n",
       "3      1.789062 -0.335938  ...       1.933244        0.101562       -0.050781   \n",
       "4      2.304688  2.140625  ...       0.920981        0.449219        0.199219   \n",
       "...         ...       ...  ...            ...             ...             ...   \n",
       "64022 -2.335938 -1.535156  ...       1.042801        0.499512       -1.501465   \n",
       "64023  1.171875  1.582031  ...       0.464844       -0.351562       -1.349609   \n",
       "64024  2.085938 -1.167969  ...       0.774591        0.148438       -0.453125   \n",
       "64025 -0.841797  2.335938  ...       0.000000        0.250000        0.000000   \n",
       "64026  0.100342  1.539062  ...       1.948770        0.000000       -0.998047   \n",
       "\n",
       "       is_train  is_valid  is_test  classS  classB  classF  class  \n",
       "0          True     False    False       0       0       1      0  \n",
       "1          True     False    False       0       1       0      0  \n",
       "2          True     False    False       0       1       0      0  \n",
       "3          True     False    False       0       0       1      0  \n",
       "4          True     False    False       0       1       0      0  \n",
       "...         ...       ...      ...     ...     ...     ...    ...  \n",
       "64022     False     False     True       0       1       0      0  \n",
       "64023     False     False     True       0       1       0      0  \n",
       "64024     False     False     True       0       1       0      0  \n",
       "64025     False     False     True       0       1       0      0  \n",
       "64026     False     False     True       0       0       1      0  \n",
       "\n",
       "[64027 rows x 70 columns]"
      ]
     },
     "execution_count": 32,
     "metadata": {},
     "output_type": "execute_result"
    }
   ],
   "source": [
    "data = pd.read_hdf('data.h5')\n",
    "data"
   ]
  },
  {
   "cell_type": "markdown",
   "id": "7bc2cfc3",
   "metadata": {},
   "source": [
    "Each row in our dataset represents an event, while each column corresponds to a specific **feature**:\n",
    "\n",
    "- The columns _run_, _lumi_, _event_, *is_valid*, *classS*, *classB*, and *classF* do not contain physics information and will not be used for model training.\n",
    "- The columns *is_train* and *is_test* are used to split the data into a **training set** and a **testing set**. The training set is used to fit the model, while the testing set is reserved for evaluating its performance on unseen data."
   ]
  },
  {
   "cell_type": "code",
   "execution_count": 33,
   "id": "897085db-7e29-4641-af88-57bcc5548fa9",
   "metadata": {},
   "outputs": [],
   "source": [
    "train_data=data[data['is_train']]\n",
    "test_data = data[data['is_test']]"
   ]
  },
  {
   "cell_type": "markdown",
   "id": "c345c6a6-0bd6-41b1-a968-03e9ce45abf2",
   "metadata": {},
   "source": [
    "# Train with every feature"
   ]
  },
  {
   "cell_type": "markdown",
   "id": "608b2f58",
   "metadata": {},
   "source": [
    "> **X** is a matrix where each row represents an event and each column corresponds to a selected physics feature.  \n",
    "> **y** is a vector containing the target class for each event: 0 if the event is not a W→3π decay, 1 if it is.\n"
   ]
  },
  {
   "cell_type": "code",
   "execution_count": 34,
   "id": "cb69acaa-b103-49bc-97e3-a6bb73d4cf90",
   "metadata": {},
   "outputs": [],
   "source": [
    "X_train = train_data.iloc[:, 3:63]\n",
    "y_train = train_data['class']\n",
    "\n",
    "X_test = test_data.iloc[:, 3:63]\n",
    "y_test = test_data['class']"
   ]
  },
  {
   "cell_type": "code",
   "execution_count": 35,
   "id": "e2ac11e0-0d63-49ec-af81-d05d4f1db419",
   "metadata": {},
   "outputs": [
    {
     "data": {
      "text/html": [
       "<div>\n",
       "<style scoped>\n",
       "    .dataframe tbody tr th:only-of-type {\n",
       "        vertical-align: middle;\n",
       "    }\n",
       "\n",
       "    .dataframe tbody tr th {\n",
       "        vertical-align: top;\n",
       "    }\n",
       "\n",
       "    .dataframe thead th {\n",
       "        text-align: right;\n",
       "    }\n",
       "</style>\n",
       "<table border=\"1\" class=\"dataframe\">\n",
       "  <thead>\n",
       "    <tr style=\"text-align: right;\">\n",
       "      <th></th>\n",
       "      <th>nL1Puppi</th>\n",
       "      <th>pi0_pt</th>\n",
       "      <th>pi1_pt</th>\n",
       "      <th>pi2_pt</th>\n",
       "      <th>pi0_eta</th>\n",
       "      <th>pi1_eta</th>\n",
       "      <th>pi2_eta</th>\n",
       "      <th>pi0_phi</th>\n",
       "      <th>pi1_phi</th>\n",
       "      <th>pi2_phi</th>\n",
       "      <th>...</th>\n",
       "      <th>triplet_pt</th>\n",
       "      <th>triplet_charge</th>\n",
       "      <th>triplet_maxdEta</th>\n",
       "      <th>triplet_mindEta</th>\n",
       "      <th>triplet_maxdPhi</th>\n",
       "      <th>triplet_mindPhi</th>\n",
       "      <th>triplet_maxdR</th>\n",
       "      <th>triplet_mindR</th>\n",
       "      <th>triplet_maxdVz</th>\n",
       "      <th>triplet_mindVz</th>\n",
       "    </tr>\n",
       "  </thead>\n",
       "  <tbody>\n",
       "    <tr>\n",
       "      <th>0</th>\n",
       "      <td>16</td>\n",
       "      <td>26.50</td>\n",
       "      <td>9.75</td>\n",
       "      <td>3.50</td>\n",
       "      <td>0.323242</td>\n",
       "      <td>-1.367188</td>\n",
       "      <td>-0.845703</td>\n",
       "      <td>2.445312</td>\n",
       "      <td>-1.507812</td>\n",
       "      <td>1.992188</td>\n",
       "      <td>...</td>\n",
       "      <td>23.594595</td>\n",
       "      <td>-1.0</td>\n",
       "      <td>1.690430</td>\n",
       "      <td>-0.521484</td>\n",
       "      <td>3.953125</td>\n",
       "      <td>-3.500000</td>\n",
       "      <td>2.878669</td>\n",
       "      <td>1.253697</td>\n",
       "      <td>0.062500</td>\n",
       "      <td>-0.062500</td>\n",
       "    </tr>\n",
       "    <tr>\n",
       "      <th>1</th>\n",
       "      <td>43</td>\n",
       "      <td>4.25</td>\n",
       "      <td>3.25</td>\n",
       "      <td>3.00</td>\n",
       "      <td>1.429688</td>\n",
       "      <td>0.767578</td>\n",
       "      <td>0.323242</td>\n",
       "      <td>0.392578</td>\n",
       "      <td>2.882812</td>\n",
       "      <td>1.203125</td>\n",
       "      <td>...</td>\n",
       "      <td>5.577529</td>\n",
       "      <td>1.0</td>\n",
       "      <td>1.106445</td>\n",
       "      <td>0.444336</td>\n",
       "      <td>1.679688</td>\n",
       "      <td>-2.490234</td>\n",
       "      <td>2.576753</td>\n",
       "      <td>1.371571</td>\n",
       "      <td>0.250000</td>\n",
       "      <td>-0.100098</td>\n",
       "    </tr>\n",
       "    <tr>\n",
       "      <th>2</th>\n",
       "      <td>38</td>\n",
       "      <td>6.00</td>\n",
       "      <td>5.25</td>\n",
       "      <td>4.00</td>\n",
       "      <td>0.388672</td>\n",
       "      <td>-1.574219</td>\n",
       "      <td>-2.101562</td>\n",
       "      <td>-0.218262</td>\n",
       "      <td>0.445312</td>\n",
       "      <td>1.097656</td>\n",
       "      <td>...</td>\n",
       "      <td>13.216339</td>\n",
       "      <td>-1.0</td>\n",
       "      <td>2.490234</td>\n",
       "      <td>0.527344</td>\n",
       "      <td>-0.652344</td>\n",
       "      <td>-1.315918</td>\n",
       "      <td>2.816542</td>\n",
       "      <td>0.838835</td>\n",
       "      <td>0.390625</td>\n",
       "      <td>-1.000000</td>\n",
       "    </tr>\n",
       "    <tr>\n",
       "      <th>3</th>\n",
       "      <td>45</td>\n",
       "      <td>33.50</td>\n",
       "      <td>18.50</td>\n",
       "      <td>4.00</td>\n",
       "      <td>2.015625</td>\n",
       "      <td>1.789062</td>\n",
       "      <td>-0.335938</td>\n",
       "      <td>-2.539062</td>\n",
       "      <td>-0.619141</td>\n",
       "      <td>2.679688</td>\n",
       "      <td>...</td>\n",
       "      <td>32.253708</td>\n",
       "      <td>-1.0</td>\n",
       "      <td>2.351562</td>\n",
       "      <td>0.226562</td>\n",
       "      <td>-1.919922</td>\n",
       "      <td>-5.218750</td>\n",
       "      <td>3.663607</td>\n",
       "      <td>1.933244</td>\n",
       "      <td>0.101562</td>\n",
       "      <td>-0.050781</td>\n",
       "    </tr>\n",
       "    <tr>\n",
       "      <th>4</th>\n",
       "      <td>30</td>\n",
       "      <td>6.00</td>\n",
       "      <td>4.50</td>\n",
       "      <td>4.00</td>\n",
       "      <td>0.117920</td>\n",
       "      <td>2.304688</td>\n",
       "      <td>2.140625</td>\n",
       "      <td>-0.257812</td>\n",
       "      <td>-1.148438</td>\n",
       "      <td>-2.054688</td>\n",
       "      <td>...</td>\n",
       "      <td>10.846830</td>\n",
       "      <td>1.0</td>\n",
       "      <td>0.164062</td>\n",
       "      <td>-2.186768</td>\n",
       "      <td>1.796875</td>\n",
       "      <td>0.890625</td>\n",
       "      <td>2.705568</td>\n",
       "      <td>0.920981</td>\n",
       "      <td>0.449219</td>\n",
       "      <td>0.199219</td>\n",
       "    </tr>\n",
       "    <tr>\n",
       "      <th>...</th>\n",
       "      <td>...</td>\n",
       "      <td>...</td>\n",
       "      <td>...</td>\n",
       "      <td>...</td>\n",
       "      <td>...</td>\n",
       "      <td>...</td>\n",
       "      <td>...</td>\n",
       "      <td>...</td>\n",
       "      <td>...</td>\n",
       "      <td>...</td>\n",
       "      <td>...</td>\n",
       "      <td>...</td>\n",
       "      <td>...</td>\n",
       "      <td>...</td>\n",
       "      <td>...</td>\n",
       "      <td>...</td>\n",
       "      <td>...</td>\n",
       "      <td>...</td>\n",
       "      <td>...</td>\n",
       "      <td>...</td>\n",
       "      <td>...</td>\n",
       "    </tr>\n",
       "    <tr>\n",
       "      <th>44814</th>\n",
       "      <td>55</td>\n",
       "      <td>20.50</td>\n",
       "      <td>18.00</td>\n",
       "      <td>12.25</td>\n",
       "      <td>-0.410156</td>\n",
       "      <td>-1.246094</td>\n",
       "      <td>-1.898438</td>\n",
       "      <td>2.625000</td>\n",
       "      <td>-0.798828</td>\n",
       "      <td>-0.300781</td>\n",
       "      <td>...</td>\n",
       "      <td>9.074035</td>\n",
       "      <td>-1.0</td>\n",
       "      <td>1.488281</td>\n",
       "      <td>0.652344</td>\n",
       "      <td>3.423828</td>\n",
       "      <td>-0.498047</td>\n",
       "      <td>3.282557</td>\n",
       "      <td>0.820733</td>\n",
       "      <td>1.402344</td>\n",
       "      <td>0.351562</td>\n",
       "    </tr>\n",
       "    <tr>\n",
       "      <th>44815</th>\n",
       "      <td>31</td>\n",
       "      <td>4.00</td>\n",
       "      <td>3.50</td>\n",
       "      <td>3.00</td>\n",
       "      <td>2.335938</td>\n",
       "      <td>0.720703</td>\n",
       "      <td>1.046875</td>\n",
       "      <td>2.765625</td>\n",
       "      <td>0.925781</td>\n",
       "      <td>-1.851562</td>\n",
       "      <td>...</td>\n",
       "      <td>2.811338</td>\n",
       "      <td>-3.0</td>\n",
       "      <td>1.615234</td>\n",
       "      <td>-0.326172</td>\n",
       "      <td>4.617188</td>\n",
       "      <td>1.839844</td>\n",
       "      <td>2.796431</td>\n",
       "      <td>2.106473</td>\n",
       "      <td>0.343750</td>\n",
       "      <td>-0.046875</td>\n",
       "    </tr>\n",
       "    <tr>\n",
       "      <th>44816</th>\n",
       "      <td>33</td>\n",
       "      <td>8.00</td>\n",
       "      <td>5.50</td>\n",
       "      <td>4.25</td>\n",
       "      <td>-2.187500</td>\n",
       "      <td>-1.898438</td>\n",
       "      <td>1.292969</td>\n",
       "      <td>-3.101562</td>\n",
       "      <td>0.056763</td>\n",
       "      <td>0.270508</td>\n",
       "      <td>...</td>\n",
       "      <td>1.951677</td>\n",
       "      <td>-1.0</td>\n",
       "      <td>-0.289062</td>\n",
       "      <td>-3.480469</td>\n",
       "      <td>-0.213745</td>\n",
       "      <td>-3.372070</td>\n",
       "      <td>4.537428</td>\n",
       "      <td>3.138201</td>\n",
       "      <td>0.093750</td>\n",
       "      <td>-0.546875</td>\n",
       "    </tr>\n",
       "    <tr>\n",
       "      <th>44817</th>\n",
       "      <td>27</td>\n",
       "      <td>4.50</td>\n",
       "      <td>4.25</td>\n",
       "      <td>3.75</td>\n",
       "      <td>0.785156</td>\n",
       "      <td>0.955078</td>\n",
       "      <td>0.252930</td>\n",
       "      <td>0.065430</td>\n",
       "      <td>-1.789062</td>\n",
       "      <td>-1.996094</td>\n",
       "      <td>...</td>\n",
       "      <td>7.547030</td>\n",
       "      <td>-3.0</td>\n",
       "      <td>0.702148</td>\n",
       "      <td>-0.169922</td>\n",
       "      <td>2.061523</td>\n",
       "      <td>0.207031</td>\n",
       "      <td>2.129118</td>\n",
       "      <td>0.732034</td>\n",
       "      <td>0.201172</td>\n",
       "      <td>-0.351562</td>\n",
       "    </tr>\n",
       "    <tr>\n",
       "      <th>44818</th>\n",
       "      <td>42</td>\n",
       "      <td>8.75</td>\n",
       "      <td>6.50</td>\n",
       "      <td>4.00</td>\n",
       "      <td>-0.537109</td>\n",
       "      <td>-0.562500</td>\n",
       "      <td>2.320312</td>\n",
       "      <td>2.960938</td>\n",
       "      <td>2.945312</td>\n",
       "      <td>0.548828</td>\n",
       "      <td>...</td>\n",
       "      <td>12.575434</td>\n",
       "      <td>-1.0</td>\n",
       "      <td>0.025391</td>\n",
       "      <td>-2.882812</td>\n",
       "      <td>2.412109</td>\n",
       "      <td>0.015625</td>\n",
       "      <td>3.748832</td>\n",
       "      <td>0.029813</td>\n",
       "      <td>-0.101562</td>\n",
       "      <td>-0.500000</td>\n",
       "    </tr>\n",
       "  </tbody>\n",
       "</table>\n",
       "<p>44819 rows × 60 columns</p>\n",
       "</div>"
      ],
      "text/plain": [
       "       nL1Puppi  pi0_pt  pi1_pt  pi2_pt   pi0_eta   pi1_eta   pi2_eta  \\\n",
       "0            16   26.50    9.75    3.50  0.323242 -1.367188 -0.845703   \n",
       "1            43    4.25    3.25    3.00  1.429688  0.767578  0.323242   \n",
       "2            38    6.00    5.25    4.00  0.388672 -1.574219 -2.101562   \n",
       "3            45   33.50   18.50    4.00  2.015625  1.789062 -0.335938   \n",
       "4            30    6.00    4.50    4.00  0.117920  2.304688  2.140625   \n",
       "...         ...     ...     ...     ...       ...       ...       ...   \n",
       "44814        55   20.50   18.00   12.25 -0.410156 -1.246094 -1.898438   \n",
       "44815        31    4.00    3.50    3.00  2.335938  0.720703  1.046875   \n",
       "44816        33    8.00    5.50    4.25 -2.187500 -1.898438  1.292969   \n",
       "44817        27    4.50    4.25    3.75  0.785156  0.955078  0.252930   \n",
       "44818        42    8.75    6.50    4.00 -0.537109 -0.562500  2.320312   \n",
       "\n",
       "        pi0_phi   pi1_phi   pi2_phi  ...  triplet_pt  triplet_charge  \\\n",
       "0      2.445312 -1.507812  1.992188  ...   23.594595            -1.0   \n",
       "1      0.392578  2.882812  1.203125  ...    5.577529             1.0   \n",
       "2     -0.218262  0.445312  1.097656  ...   13.216339            -1.0   \n",
       "3     -2.539062 -0.619141  2.679688  ...   32.253708            -1.0   \n",
       "4     -0.257812 -1.148438 -2.054688  ...   10.846830             1.0   \n",
       "...         ...       ...       ...  ...         ...             ...   \n",
       "44814  2.625000 -0.798828 -0.300781  ...    9.074035            -1.0   \n",
       "44815  2.765625  0.925781 -1.851562  ...    2.811338            -3.0   \n",
       "44816 -3.101562  0.056763  0.270508  ...    1.951677            -1.0   \n",
       "44817  0.065430 -1.789062 -1.996094  ...    7.547030            -3.0   \n",
       "44818  2.960938  2.945312  0.548828  ...   12.575434            -1.0   \n",
       "\n",
       "       triplet_maxdEta  triplet_mindEta  triplet_maxdPhi  triplet_mindPhi  \\\n",
       "0             1.690430        -0.521484         3.953125        -3.500000   \n",
       "1             1.106445         0.444336         1.679688        -2.490234   \n",
       "2             2.490234         0.527344        -0.652344        -1.315918   \n",
       "3             2.351562         0.226562        -1.919922        -5.218750   \n",
       "4             0.164062        -2.186768         1.796875         0.890625   \n",
       "...                ...              ...              ...              ...   \n",
       "44814         1.488281         0.652344         3.423828        -0.498047   \n",
       "44815         1.615234        -0.326172         4.617188         1.839844   \n",
       "44816        -0.289062        -3.480469        -0.213745        -3.372070   \n",
       "44817         0.702148        -0.169922         2.061523         0.207031   \n",
       "44818         0.025391        -2.882812         2.412109         0.015625   \n",
       "\n",
       "       triplet_maxdR  triplet_mindR  triplet_maxdVz  triplet_mindVz  \n",
       "0           2.878669       1.253697        0.062500       -0.062500  \n",
       "1           2.576753       1.371571        0.250000       -0.100098  \n",
       "2           2.816542       0.838835        0.390625       -1.000000  \n",
       "3           3.663607       1.933244        0.101562       -0.050781  \n",
       "4           2.705568       0.920981        0.449219        0.199219  \n",
       "...              ...            ...             ...             ...  \n",
       "44814       3.282557       0.820733        1.402344        0.351562  \n",
       "44815       2.796431       2.106473        0.343750       -0.046875  \n",
       "44816       4.537428       3.138201        0.093750       -0.546875  \n",
       "44817       2.129118       0.732034        0.201172       -0.351562  \n",
       "44818       3.748832       0.029813       -0.101562       -0.500000  \n",
       "\n",
       "[44819 rows x 60 columns]"
      ]
     },
     "execution_count": 35,
     "metadata": {},
     "output_type": "execute_result"
    }
   ],
   "source": [
    "X_train"
   ]
  },
  {
   "cell_type": "markdown",
   "id": "70582154",
   "metadata": {},
   "source": [
    "We define our model using an *XGBClassifier* object and train it with the *fit* method.  \n",
    "We provide three key parameters to *xgboost.XGBClassifier()*:\n",
    "- *n_estimators*: number of trees in the model\n",
    "- *max_depth*: maximum depth of each tree\n",
    "- *learning_rate*: controls how much each tree contributes to the final prediction\n",
    "\n",
    "The *fit* method takes two arguments: the feature matrix *X* and the target vector *y* (both are pandas dataframes in this case).  \n",
    "For further details, see the [xgboost documentation](https://xgboost.readthedocs.io/en/latest/)."
   ]
  },
  {
   "cell_type": "code",
   "execution_count": 36,
   "id": "b6036388-f505-4a0a-acf7-a04daef7f99f",
   "metadata": {},
   "outputs": [],
   "source": [
    "clf = xgb.XGBClassifier(n_estimators=20, max_depth=3, learning_rate=1.0).fit(X_train, y_train)"
   ]
  },
  {
   "cell_type": "markdown",
   "id": "9bfa96ce",
   "metadata": {},
   "source": [
    "We use the trained classifier to predict the class labels for the test set features (**X_test**).  \n",
    "The predicted labels (**y_pred**) represent the model's classification for each event in the test set.  \n",
    "To ensure compatibility with subsequent calculations, we convert the true test labels (**y_test**) to a NumPy array.  \n",
    "This allows for efficient comparison and evaluation of the model's performance.\n",
    "\n",
    "The `.predict` method of an `XGBClassifier` returns a vector of 0s and 1s, where each value corresponds to the predicted class for an event.  \n",
    "These values have the same meaning as those in **y_test**:  \n",
    "- **0** indicates the event is not predicted to be a W→3π decay  \n",
    "- **1** otherwise\n"
   ]
  },
  {
   "cell_type": "code",
   "execution_count": 37,
   "id": "ab0fc889-10bf-405a-95b4-11bc7477dff9",
   "metadata": {},
   "outputs": [],
   "source": [
    "y_pred = clf.predict(X_test)\n",
    "y_test = y_test.to_numpy()"
   ]
  },
  {
   "cell_type": "markdown",
   "id": "da3da480-2366-47a9-bda4-545b47388165",
   "metadata": {},
   "source": [
    "## Test the model"
   ]
  },
  {
   "cell_type": "markdown",
   "id": "bbec5229",
   "metadata": {},
   "source": [
    "We now test the performance of the model on the test set.\n",
    "Initially, with the logic xor operator, we can check how many times `y_pred` differs from `y_test`: that is, `control` is an array containing 1 when the prediction is wrong."
   ]
  },
  {
   "cell_type": "code",
   "execution_count": 38,
   "id": "d2ff0648-1ec0-4bb6-bd0b-204f58722d51",
   "metadata": {},
   "outputs": [
    {
     "name": "stdout",
     "output_type": "stream",
     "text": [
      "Ratio of wrong predictions: 0.02\n"
     ]
    }
   ],
   "source": [
    "control = (y_pred ^ y_test)\n",
    "print(f'Ratio of wrong predictions: {sum(control)/len(control):.2f}')"
   ]
  },
  {
   "cell_type": "markdown",
   "id": "45c60f68-0b35-48ec-b079-f27b6382c38a",
   "metadata": {},
   "source": [
    "### False negatives"
   ]
  },
  {
   "cell_type": "markdown",
   "id": "4f83cfa2",
   "metadata": {},
   "source": [
    "Now we check how many false negatives the model predicts: that is how many \"true signals\" are not considered as such by the model"
   ]
  },
  {
   "cell_type": "code",
   "execution_count": 39,
   "id": "5f81545e-daca-45ff-b1f6-c3de7f1712a7",
   "metadata": {},
   "outputs": [
    {
     "name": "stdout",
     "output_type": "stream",
     "text": [
      "Ratio of false negatives: 0.08\n"
     ]
    }
   ],
   "source": [
    "signal_indexes = np.where(y_test==1)\n",
    "control = (y_pred[signal_indexes] ^ y_test[signal_indexes])\n",
    "print(f'Ratio of false negatives: {sum(control)/len(control):.2f}')"
   ]
  },
  {
   "cell_type": "markdown",
   "id": "41018359-a2fd-4545-9f5d-2a8380ab446f",
   "metadata": {},
   "source": [
    "### False positives"
   ]
  },
  {
   "cell_type": "markdown",
   "id": "5a25d9f4",
   "metadata": {},
   "source": [
    "We also check the ratio of false positives (events that get predicted as sinals but in reality are not)"
   ]
  },
  {
   "cell_type": "code",
   "execution_count": 40,
   "id": "cd151ee1-19f6-4913-acaf-de80a17398d3",
   "metadata": {},
   "outputs": [
    {
     "name": "stdout",
     "output_type": "stream",
     "text": [
      "Ratio of false positives: 0.06\n"
     ]
    }
   ],
   "source": [
    "signal_indexes = np.where(y_pred==1)\n",
    "control = y_pred[signal_indexes] ^ y_test[signal_indexes]\n",
    "print(f'Ratio of false positives: {sum(control)/len(control):.2f}')"
   ]
  },
  {
   "cell_type": "markdown",
   "id": "71c17435-fc49-4c70-a9c3-956cadfddf28",
   "metadata": {},
   "source": [
    "### ROC curve"
   ]
  },
  {
   "cell_type": "markdown",
   "id": "d97e73ce",
   "metadata": {},
   "source": [
    "A **ROC curve** (Receiver Operating Characteristic curve) is a graphical representation used to evaluate the performance of a binary classification model. It plots the **True Positive Rate** (TPR, also known as sensitivity or recall) against the **False Positive Rate** (FPR, which is 1 - specificity) at various threshold settings.\n",
    "\n",
    "- **True Positive Rate (TPR):** The proportion of actual positives correctly identified by the model.\n",
    "- **False Positive Rate (FPR):** The proportion of actual negatives incorrectly identified as positives.\n",
    "\n",
    "The ROC curve illustrates how well the model distinguishes between the two classes as the decision threshold changes. A model with perfect discrimination will have a curve that passes through the top-left corner (TPR=1, FPR=0). The **Area Under the Curve (AUC)** quantifies the overall ability of the model to discriminate between positive and negative classes; an AUC of 1.0 indicates perfect classification, while an AUC of 0.5 suggests no discriminative power (equivalent to random guessing).\n",
    "\n",
    "ROC curves are especially useful for comparing different models and understanding the trade-off between sensitivity and specificity."
   ]
  },
  {
   "cell_type": "code",
   "execution_count": 41,
   "id": "334a0697-46c4-4db5-b32e-33b76c492144",
   "metadata": {},
   "outputs": [
    {
     "data": {
      "image/png": "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",
      "text/plain": [
       "<Figure size 640x480 with 1 Axes>"
      ]
     },
     "metadata": {},
     "output_type": "display_data"
    }
   ],
   "source": [
    "y_prob = clf.predict_proba(X_test)[:, 1]\n",
    "fpr_all, tpr_all, _ = metrics.roc_curve(y_test, y_prob)\n",
    "plt.plot(fpr_all, tpr_all)\n",
    "plt.xlabel('False Positive Rate')\n",
    "plt.ylabel('True Positive Rate')\n",
    "plt.title('ROC curve for XGBoost classifier')\n",
    "plt.legend(['AUC = {:.2f}'.format(metrics.roc_auc_score(y_test, y_prob))])\n",
    "plt.show()"
   ]
  },
  {
   "cell_type": "markdown",
   "id": "4876faf1-a511-43bd-b6e8-9de05acceb83",
   "metadata": {},
   "source": [
    "# Rate Importance"
   ]
  },
  {
   "cell_type": "markdown",
   "id": "0b457252",
   "metadata": {},
   "source": [
    "XGBoost evaluates feature importance based on how often and how effectively each feature is used to split the data across all trees in the model. It calculates metrics such as:\n",
    "\n",
    "- **Gain:** Measures the improvement in accuracy brought by a feature to the branches it splits.\n",
    "- **Weight:** Counts the number of times a feature is used to split the data.\n",
    "- **Cover:** Reflects the number of samples affected by splits on a feature.\n",
    "\n",
    "These metrics are aggregated during training, allowing XGBoost to rank features by their contribution to the model’s predictive power. This ranking helps identify which features are most influential in distinguishing between signal and non-signal events.  \n",
    "We will now choose the ten most important features, train a new model that only uses them and compare its performance with the old model.  \n",
    "\n",
    "Notice that a more in-depth feature analysis can be conducted; for instance, certain features may be excluded due to physics-based considerations."
   ]
  },
  {
   "cell_type": "code",
   "execution_count": 42,
   "id": "7b9a2edb-e0e7-4bfd-aa65-557b35dc3923",
   "metadata": {},
   "outputs": [
    {
     "data": {
      "text/html": [
       "<div>\n",
       "<style scoped>\n",
       "    .dataframe tbody tr th:only-of-type {\n",
       "        vertical-align: middle;\n",
       "    }\n",
       "\n",
       "    .dataframe tbody tr th {\n",
       "        vertical-align: top;\n",
       "    }\n",
       "\n",
       "    .dataframe thead th {\n",
       "        text-align: right;\n",
       "    }\n",
       "</style>\n",
       "<table border=\"1\" class=\"dataframe\">\n",
       "  <thead>\n",
       "    <tr style=\"text-align: right;\">\n",
       "      <th></th>\n",
       "      <th>3</th>\n",
       "      <th>37</th>\n",
       "      <th>49</th>\n",
       "      <th>24</th>\n",
       "      <th>59</th>\n",
       "      <th>50</th>\n",
       "      <th>1</th>\n",
       "      <th>47</th>\n",
       "      <th>51</th>\n",
       "      <th>2</th>\n",
       "      <th>...</th>\n",
       "      <th>42</th>\n",
       "      <th>41</th>\n",
       "      <th>29</th>\n",
       "      <th>28</th>\n",
       "      <th>40</th>\n",
       "      <th>39</th>\n",
       "      <th>36</th>\n",
       "      <th>32</th>\n",
       "      <th>34</th>\n",
       "      <th>35</th>\n",
       "    </tr>\n",
       "  </thead>\n",
       "  <tbody>\n",
       "    <tr>\n",
       "      <th>feature</th>\n",
       "      <td>pi2_pt</td>\n",
       "      <td>m_01</td>\n",
       "      <td>triplet_mass</td>\n",
       "      <td>pi2_iso</td>\n",
       "      <td>triplet_mindVz</td>\n",
       "      <td>triplet_pt</td>\n",
       "      <td>pi0_pt</td>\n",
       "      <td>dVz_02</td>\n",
       "      <td>triplet_charge</td>\n",
       "      <td>pi1_pt</td>\n",
       "      <td>...</td>\n",
       "      <td>m2_12</td>\n",
       "      <td>m2_02</td>\n",
       "      <td>dPhi_02</td>\n",
       "      <td>dPhi_01</td>\n",
       "      <td>m2_01</td>\n",
       "      <td>m_12</td>\n",
       "      <td>dR2_12</td>\n",
       "      <td>dR_02</td>\n",
       "      <td>dR2_01</td>\n",
       "      <td>dR2_02</td>\n",
       "    </tr>\n",
       "    <tr>\n",
       "      <th>importance</th>\n",
       "      <td>0.532292</td>\n",
       "      <td>0.100773</td>\n",
       "      <td>0.065096</td>\n",
       "      <td>0.043319</td>\n",
       "      <td>0.02657</td>\n",
       "      <td>0.023183</td>\n",
       "      <td>0.020771</td>\n",
       "      <td>0.020342</td>\n",
       "      <td>0.017386</td>\n",
       "      <td>0.017019</td>\n",
       "      <td>...</td>\n",
       "      <td>0.0</td>\n",
       "      <td>0.0</td>\n",
       "      <td>0.0</td>\n",
       "      <td>0.0</td>\n",
       "      <td>0.0</td>\n",
       "      <td>0.0</td>\n",
       "      <td>0.0</td>\n",
       "      <td>0.0</td>\n",
       "      <td>0.0</td>\n",
       "      <td>0.0</td>\n",
       "    </tr>\n",
       "  </tbody>\n",
       "</table>\n",
       "<p>2 rows × 60 columns</p>\n",
       "</div>"
      ],
      "text/plain": [
       "                  3         37            49        24              59  \\\n",
       "feature       pi2_pt      m_01  triplet_mass   pi2_iso  triplet_mindVz   \n",
       "importance  0.532292  0.100773      0.065096  0.043319         0.02657   \n",
       "\n",
       "                    50        1         47              51        2   ...  \\\n",
       "feature     triplet_pt    pi0_pt    dVz_02  triplet_charge    pi1_pt  ...   \n",
       "importance    0.023183  0.020771  0.020342        0.017386  0.017019  ...   \n",
       "\n",
       "               42     41       29       28     40    39      36     32  \\\n",
       "feature     m2_12  m2_02  dPhi_02  dPhi_01  m2_01  m_12  dR2_12  dR_02   \n",
       "importance    0.0    0.0      0.0      0.0    0.0   0.0     0.0    0.0   \n",
       "\n",
       "                34      35  \n",
       "feature     dR2_01  dR2_02  \n",
       "importance     0.0     0.0  \n",
       "\n",
       "[2 rows x 60 columns]"
      ]
     },
     "execution_count": 42,
     "metadata": {},
     "output_type": "execute_result"
    }
   ],
   "source": [
    "# Obtain feature importances\n",
    "feature_importances = clf.feature_importances_\n",
    "feature_names = X_train.columns\n",
    "\n",
    "# Create a DataFrame for clearer visualization\n",
    "importance_df = pd.DataFrame({'feature': feature_names, 'importance': feature_importances})\n",
    "importance_df = importance_df.sort_values(by='importance', ascending=False)\n",
    "\n",
    "importance_df.T"
   ]
  },
  {
   "cell_type": "code",
   "execution_count": 43,
   "id": "eb3615a1-32c3-4828-be71-e9171e89dd8d",
   "metadata": {},
   "outputs": [],
   "source": [
    "# Select the ten most important features\n",
    "importance_df = importance_df.sort_values(by='importance', ascending=False)\n",
    "most_important=[]\n",
    "for i in range(10):\n",
    "    most_important.append(importance_df.iloc[i].name)\n",
    "most_important = np.array(most_important)"
   ]
  },
  {
   "cell_type": "code",
   "execution_count": 44,
   "id": "07f76d57-ef03-4700-badf-3f5f93c9d254",
   "metadata": {},
   "outputs": [
    {
     "name": "stdout",
     "output_type": "stream",
     "text": [
      "[ 3 37 49 24 59 50  1 47 51  2]\n"
     ]
    }
   ],
   "source": [
    "print(most_important)"
   ]
  },
  {
   "cell_type": "markdown",
   "id": "4bb52927-800b-4e25-a008-081db8dfce12",
   "metadata": {},
   "source": [
    "# Train with most important features"
   ]
  },
  {
   "cell_type": "code",
   "execution_count": 45,
   "id": "bb888fd0-5ae8-46ac-ab7f-52d0181fbc45",
   "metadata": {},
   "outputs": [],
   "source": [
    "X_train = train_data.iloc[:, most_important+3]\n",
    "y_train = train_data['class']\n",
    "\n",
    "X_test = test_data.iloc[:, most_important+3]\n",
    "y_test = test_data['class']"
   ]
  },
  {
   "cell_type": "code",
   "execution_count": 46,
   "id": "15b8b5c8-bd13-4be1-b0c6-ccb5152ac42e",
   "metadata": {},
   "outputs": [],
   "source": [
    "clf = xgb.XGBClassifier(n_estimators=20, max_depth=3, learning_rate=1.0).fit(X_train, y_train)"
   ]
  },
  {
   "cell_type": "code",
   "execution_count": 47,
   "id": "adafcc75-88c3-4c5c-9b42-e6bc50a5987c",
   "metadata": {},
   "outputs": [],
   "source": [
    "y_pred = clf.predict(X_test)\n",
    "y_test = y_test.to_numpy()"
   ]
  },
  {
   "cell_type": "markdown",
   "id": "1e2d3481-02cb-49ee-a1a6-3dce9a0c9859",
   "metadata": {},
   "source": [
    "## Test the new model"
   ]
  },
  {
   "cell_type": "code",
   "execution_count": 48,
   "id": "58ba49b4-0220-4c98-807c-bc07f5e9b893",
   "metadata": {},
   "outputs": [
    {
     "name": "stdout",
     "output_type": "stream",
     "text": [
      "Ratio of wrong predictions: 0.02\n",
      "Ratio of false negatives: 0.08\n",
      "Ratio of false positives: 0.06\n"
     ]
    }
   ],
   "source": [
    "control = (y_pred ^ y_test)\n",
    "print(f'Ratio of wrong predictions: {sum(control)/len(control):.2f}')\n",
    "# false negatives\n",
    "signal_indexes = np.where(y_test==1)\n",
    "control = (y_pred[signal_indexes] ^ y_test[signal_indexes])\n",
    "print(f'Ratio of false negatives: {sum(control)/len(control):.2f}')\n",
    "# false positives\n",
    "signal_indexes = np.where(y_pred==1)\n",
    "control = y_pred[signal_indexes] ^ y_test[signal_indexes]\n",
    "print(f'Ratio of false positives: {sum(control)/len(control):.2f}')\n"
   ]
  },
  {
   "cell_type": "markdown",
   "id": "90a9fd3f-958c-4d83-9da3-7d6ced2f3a53",
   "metadata": {},
   "source": [
    "### ROC curve"
   ]
  },
  {
   "cell_type": "code",
   "execution_count": 49,
   "id": "78c7b349-7d83-40f2-a155-462f351bcd28",
   "metadata": {},
   "outputs": [
    {
     "data": {
      "image/png": "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",
      "text/plain": [
       "<Figure size 640x480 with 1 Axes>"
      ]
     },
     "metadata": {},
     "output_type": "display_data"
    }
   ],
   "source": [
    "y_prob = clf.predict_proba(X_test)[:, 1]\n",
    "fpr, tpr, _ = metrics.roc_curve(y_test, y_prob)\n",
    "plt.plot(fpr, tpr)\n",
    "plt.xlabel('False Positive Rate')\n",
    "plt.ylabel('True Positive Rate')\n",
    "plt.title('ROC curve for XGBoost classifier with 10 features')\n",
    "plt.legend(['AUC = {:.2f}'.format(metrics.roc_auc_score(y_test, y_prob))])\n",
    "plt.show()"
   ]
  },
  {
   "cell_type": "markdown",
   "id": "dad6edc6-52a3-4db4-8b2f-9568497fd51d",
   "metadata": {},
   "source": [
    "# Train with least important features"
   ]
  },
  {
   "cell_type": "markdown",
   "id": "fa2c1ad4",
   "metadata": {},
   "source": [
    "For demonstative porpuses, we now train a third model using 5 of the least important features"
   ]
  },
  {
   "cell_type": "code",
   "execution_count": 50,
   "id": "43d42a01-ca1c-47e8-90b3-cb503b56e950",
   "metadata": {},
   "outputs": [
    {
     "name": "stdout",
     "output_type": "stream",
     "text": [
      "[16 17 42 41 15]\n"
     ]
    }
   ],
   "source": [
    "importance_df = importance_df.sort_values(by='importance', ascending=True)\n",
    "most_important=[]\n",
    "for i in range(5):\n",
    "    most_important.append(importance_df.iloc[i].name)\n",
    "most_important = np.array(most_important)\n",
    "print(most_important)"
   ]
  },
  {
   "cell_type": "code",
   "execution_count": 51,
   "id": "220b757d-375a-4295-879d-d644088e367c",
   "metadata": {},
   "outputs": [],
   "source": [
    "X_train = train_data.iloc[:, most_important+3]\n",
    "y_train = train_data['class']\n",
    "\n",
    "X_test = test_data.iloc[:, most_important+3]\n",
    "y_test = test_data['class']"
   ]
  },
  {
   "cell_type": "code",
   "execution_count": 52,
   "id": "99424f0e-2206-49ae-a3a9-e926d24d166e",
   "metadata": {},
   "outputs": [],
   "source": [
    "clf = xgb.XGBClassifier(n_estimators=20, max_depth=3, learning_rate=1.0).fit(X_train, y_train)"
   ]
  },
  {
   "cell_type": "code",
   "execution_count": 53,
   "id": "2336388a-1b15-41f4-a2aa-e1d42f17680d",
   "metadata": {},
   "outputs": [],
   "source": [
    "y_pred = clf.predict(X_test)\n",
    "y_test = y_test.to_numpy()"
   ]
  },
  {
   "cell_type": "markdown",
   "id": "a0fe9bb9-c7a3-43cc-b52b-e0a7f4665552",
   "metadata": {},
   "source": [
    "## Test the model"
   ]
  },
  {
   "cell_type": "code",
   "execution_count": 54,
   "id": "12bf9c71-3d89-48aa-b0ee-e08f97a62044",
   "metadata": {},
   "outputs": [
    {
     "name": "stdout",
     "output_type": "stream",
     "text": [
      "Ratio of wrong predictions: 0.11\n",
      "Ratio of false negatives: 0.35\n",
      "Ratio of false positives: 0.32\n"
     ]
    }
   ],
   "source": [
    "control = (y_pred ^ y_test)\n",
    "print(f'Ratio of wrong predictions: {sum(control)/len(control):.2f}')\n",
    "# false negatives\n",
    "signal_indexes = np.where(y_test==1)\n",
    "control = (y_pred[signal_indexes] ^ y_test[signal_indexes])\n",
    "print(f'Ratio of false negatives: {sum(control)/len(control):.2f}')\n",
    "# false positives\n",
    "signal_indexes = np.where(y_pred==1)\n",
    "control = y_pred[signal_indexes] ^ y_test[signal_indexes]\n",
    "print(f'Ratio of false positives: {sum(control)/len(control):.2f}')\n"
   ]
  },
  {
   "cell_type": "markdown",
   "id": "bacbbb22-06e9-4c9b-953f-09b94a27c6a1",
   "metadata": {},
   "source": [
    "### ROC curve"
   ]
  },
  {
   "cell_type": "markdown",
   "id": "36eb0276",
   "metadata": {},
   "source": [
    "We now compare all three ROC curves. We can see how there is basically no diffecerence in accuracy between the model that uses every single feature and the one that only uses the 10 most important. We thus do not need to use them all, as more features means more computational cost."
   ]
  },
  {
   "cell_type": "code",
   "execution_count": 55,
   "id": "272b154e-3e6e-4c6c-b67d-2cb6d2443f9f",
   "metadata": {},
   "outputs": [
    {
     "data": {
      "image/png": "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",
      "text/plain": [
       "<Figure size 640x480 with 1 Axes>"
      ]
     },
     "metadata": {},
     "output_type": "display_data"
    }
   ],
   "source": [
    "y_prob = clf.predict_proba(X_test)[:, 1]\n",
    "fpr2, tpr2, _ = metrics.roc_curve(y_test, y_prob)\n",
    "plt.clf()\n",
    "plt.fill_between(fpr2, 0, tpr2, label='5 Worst Features', color='dimgray')\n",
    "plt.fill_between(fpr, 0, tpr, label='10 Best Features', hatch='///', facecolor='None')\n",
    "plt.plot(fpr_all, tpr_all, label='All Features', color='red')\n",
    "plt.xlabel('False Positive Rate')\n",
    "plt.ylabel('True Positive Rate')\n",
    "plt.title('ROC Curves Comparison')\n",
    "plt.legend()\n",
    "plt.savefig('rocs.png')"
   ]
  },
  {
   "cell_type": "markdown",
   "id": "f0d82780",
   "metadata": {},
   "source": [
    "We print their area unde curve:"
   ]
  },
  {
   "cell_type": "code",
   "execution_count": 56,
   "id": "eeb5e220-ec3f-4bc4-acfe-3ef95d4c4af5",
   "metadata": {},
   "outputs": [
    {
     "name": "stdout",
     "output_type": "stream",
     "text": [
      "Best Features: 0.9934636076129456\n",
      "Worst Features: 0.9240969874752343\n",
      "All Features: 0.9940133253899455\n"
     ]
    }
   ],
   "source": [
    "print(f'Best Features: {metrics.auc(fpr, tpr)}\\nWorst Features: {metrics.auc(fpr2, tpr2)}')\n",
    "print(f'All Features: {metrics.auc(fpr_all, tpr_all)}')"
   ]
  },
  {
   "cell_type": "code",
   "execution_count": 57,
   "id": "838337a5-b30a-45c7-93af-a333f3a61fce",
   "metadata": {},
   "outputs": [
    {
     "name": "stdout",
     "output_type": "stream",
     "text": [
      "[0.03957142 0.00024628 0.00062399 ... 0.01796478 0.10222328 0.01862697]\n"
     ]
    }
   ],
   "source": [
    "print(y_prob)"
   ]
  },
  {
   "cell_type": "markdown",
   "id": "130b48e4-1fe3-437e-b80e-4a9461384328",
   "metadata": {},
   "source": [
    "# Hyperparameters optimization"
   ]
  },
  {
   "cell_type": "markdown",
   "id": "1276a1fb",
   "metadata": {},
   "source": [
    "We now lock ourselves into the hyperparameter optimization process, seeking the ideal hyperparameters for the model. That is we look for the combination of hyperparameters (`max_depth`, `n_estimators`, `learning_rate`, etc.) which maximize the accuracy."
   ]
  },
  {
   "cell_type": "markdown",
   "id": "6cedc14d",
   "metadata": {},
   "source": [
    "The parameters for the `XGBClassifier` class control how the model is trained and how it learns from the data:\n",
    "\n",
    "- **n_estimators**: The number of trees (boosting rounds) to build. More trees can improve accuracy but may increase computation time and risk overfitting.\n",
    "- **max_depth**: The maximum depth of each tree. Deeper trees can capture more complex patterns but may also overfit.\n",
    "- **learning_rate**: How much each tree contributes to the overall prediction. Lower values make learning slower but can improve generalization.\n",
    "- **grow_policy**: The strategy for growing trees. `'depthwise'` grows trees level by level, while `'lossguide'` splits nodes based on the loss reduction, which can be more efficient for large datasets.\n",
    "- **subsample**: The fraction of the training data used to grow each tree. Values less than 1.0 help prevent overfitting by introducing randomness.\n",
    "- **colsample_bytree**: The fraction of features (columns) used to grow each tree. Like subsample, this adds randomness and can improve generalization."
   ]
  },
  {
   "cell_type": "code",
   "execution_count": 58,
   "id": "dcbd486b-6e7b-47df-8403-fd78a86b3c18",
   "metadata": {},
   "outputs": [
    {
     "name": "stdout",
     "output_type": "stream",
     "text": [
      "[ 3 37 49 24 59 50  1 47 51  2]\n"
     ]
    }
   ],
   "source": [
    "# we work only with the 10 most important features\n",
    "importance_df = importance_df.sort_values(by='importance', ascending=False)\n",
    "most_important=[]\n",
    "for i in range(10):\n",
    "    most_important.append(importance_df.iloc[i].name)\n",
    "most_important = np.array(most_important)\n",
    "print(most_important)"
   ]
  },
  {
   "cell_type": "code",
   "execution_count": 59,
   "id": "8a618b6a-8f30-41ea-a773-3dfe726fadad",
   "metadata": {},
   "outputs": [],
   "source": [
    "X_train = train_data.iloc[:, most_important+3]\n",
    "y_train = train_data['class']\n",
    "\n",
    "X_test = test_data.iloc[:, most_important+3]\n",
    "y_test = test_data['class']"
   ]
  },
  {
   "cell_type": "markdown",
   "id": "d0bedcbf",
   "metadata": {},
   "source": [
    "We manually perform a grid search on the parameters `n_estimators` and `max_depth`: we train a model for every combination of these parameters from 1 to 50to compare the accuracy of each model"
   ]
  },
  {
   "cell_type": "code",
   "execution_count": 60,
   "id": "da3ff9b8-596b-4000-923d-da588199d793",
   "metadata": {},
   "outputs": [],
   "source": [
    "performances=[]\n",
    "xs=[]\n",
    "ys=[]\n",
    "fprs=[]\n",
    "tprs=[]\n",
    "for n_estimators in range(1, 50):\n",
    "    for max_depth in range(1, 10):\n",
    "        clf = xgb.XGBClassifier(n_estimators=n_estimators, max_depth=max_depth, learning_rate=1.0).fit(X_train, y_train)\n",
    "        y_prob = clf.predict(X_test)\n",
    "        y_prob = clf.predict_proba(X_test)[:, 1]\n",
    "        fpr, tpr, _ = metrics.roc_curve(y_test, y_prob)\n",
    "        fprs.append(fpr)\n",
    "        tprs.append(tpr)\n",
    "        performance=metrics.auc(fpr, tpr)\n",
    "        performances.append(performance)\n",
    "        xs.append(n_estimators)\n",
    "        ys.append(max_depth)"
   ]
  },
  {
   "cell_type": "code",
   "execution_count": 61,
   "id": "5eca1391-d9af-47e2-b417-85152b0fad05",
   "metadata": {},
   "outputs": [
    {
     "data": {
      "text/plain": [
       "Text(0, 0.5, 'tpr')"
      ]
     },
     "execution_count": 61,
     "metadata": {},
     "output_type": "execute_result"
    },
    {
     "data": {
      "image/png": "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",
      "text/plain": [
       "<Figure size 640x480 with 1 Axes>"
      ]
     },
     "metadata": {},
     "output_type": "display_data"
    }
   ],
   "source": [
    "# we plot all the ROC curves\n",
    "for i in range(len(fprs)):\n",
    "    plt.plot(fprs[i], tprs[i], alpha=0.5)\n",
    "\n",
    "plt.xlabel('fpr')\n",
    "plt.ylabel('tpr')\n"
   ]
  },
  {
   "cell_type": "code",
   "execution_count": 62,
   "id": "bec2451d-62ef-4a39-aa40-415fdcb42bbd",
   "metadata": {},
   "outputs": [
    {
     "data": {
      "text/plain": [
       "[Text(0, 0, '1'),\n",
       " Text(0, 1, '2'),\n",
       " Text(0, 2, '3'),\n",
       " Text(0, 3, '4'),\n",
       " Text(0, 4, '5'),\n",
       " Text(0, 5, '6'),\n",
       " Text(0, 6, '7'),\n",
       " Text(0, 7, '8'),\n",
       " Text(0, 8, '9')]"
      ]
     },
     "execution_count": 62,
     "metadata": {},
     "output_type": "execute_result"
    },
    {
     "data": {
      "image/png": "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",
      "text/plain": [
       "<Figure size 640x480 with 2 Axes>"
      ]
     },
     "metadata": {},
     "output_type": "display_data"
    }
   ],
   "source": [
    "# Reshape performances to (max_depth, n_estimators)\n",
    "perf_matrix = np.array(performances).reshape(9, 49)  # 9 max_depths, 49 n_estimators\n",
    "\n",
    "fig, ax = plt.subplots()\n",
    "im = ax.imshow(perf_matrix, aspect='auto', origin='lower', cmap='viridis')\n",
    "fig.colorbar(im)\n",
    "ax.set_xlabel('number of trees')\n",
    "ax.set_ylabel('max_depth')\n",
    "ax.set_xticks(np.arange(0, 49, 5))\n",
    "ax.set_yticks(np.arange(0, 9, 1))\n",
    "ax.set_xticklabels(np.arange(1, 50, 5))\n",
    "ax.set_yticklabels(np.arange(1, 10, 1))"
   ]
  },
  {
   "cell_type": "markdown",
   "id": "5efd503a",
   "metadata": {},
   "source": [
    "We observe that the accuracy rapidly approaches an asymptote: as with feature selection, it is unnecessary to allocate excessive resources to increasingly complex models."
   ]
  },
  {
   "cell_type": "markdown",
   "id": "994f4a68-de47-4e70-89cd-5ebf76e93cf7",
   "metadata": {},
   "source": [
    "## Scikit-learn GridSearchCV"
   ]
  },
  {
   "cell_type": "markdown",
   "id": "8e636e84",
   "metadata": {},
   "source": [
    "`GridSearchCV` is a tool from scikit-learn that automates the process of hyperparameter tuning for machine learning models. It systematically tests all possible combinations of specified hyperparameter values to find the set that yields the best model performance, typically measured by cross-validation accuracy.\n",
    "\n",
    "### How It Works\n",
    "\n",
    "1. **Parameter Grid**: You define a dictionary of hyperparameters and their possible values.\n",
    "2. **Model Training**: For each combination of hyperparameters, the model is trained and evaluated using cross-validation.\n",
    "3. **Performance Evaluation**: The average score (e.g., accuracy, AUC) across the cross-validation folds is computed for each combination.\n",
    "4. **Best Model Selection**: The combination with the highest score is selected, and the model is refit on the entire training set using these optimal parameters.\n",
    "\n",
    "**Cross-validation** is a statistical technique used to evaluate the performance and generalizability of a machine learning model. Instead of training and testing the model on a single split of the data, cross-validation divides the dataset into multiple subsets (called \"folds\"). The model is trained on some folds and tested on the remaining fold, repeating this process so that each fold serves as the test set once. The results are then averaged to provide a more robust estimate of model performance.\n",
    "\n",
    "\n",
    "We use `GridSearchCV` to optimize the hyperparameters of the `XGBClassifier`. Specifically:\n",
    "\n",
    "- We define a grid of possible values for parameters like `n_estimators`, `max_depth`, `learning_rate`, `grow_policy`, `subsample`, and `colsample_bytree`.\n",
    "- We create a `GridSearchCV` object with the classifier and the parameter grid.\n",
    "- We fit the grid search to our training data (`X_train`, `y_train`), which automatically tests all combinations and performs cross-validation.\n",
    "- After fitting, we extract the best hyperparameters and the best model, which we then use to predict and evaluate performance on the test set.\n"
   ]
  },
  {
   "cell_type": "code",
   "execution_count": null,
   "id": "b29c4a2a-7e82-48f8-b43f-1085cd5ae016",
   "metadata": {},
   "outputs": [],
   "source": [
    "# We first define the parameter grid\n",
    "parameters = {\n",
    "    'n_estimators': range(1, 20),\n",
    "    'max_depth': range(1, 7),\n",
    "    'learning_rate': np.linspace(0.01, 1, 10),\n",
    "    'grow_policy': ['depthwise', 'lossguide'],\n",
    "    'subsample': [0.8, 1.0],\n",
    "    'colsample_bytree': [0.8, 1.0]\n",
    "}"
   ]
  },
  {
   "cell_type": "code",
   "execution_count": null,
   "id": "4b2adab7-4d72-49d9-b9e5-043ffa96b79e",
   "metadata": {},
   "outputs": [],
   "source": [
    "# We create the GridSearchCV object\n",
    "clf = GridSearchCV(xgb.XGBClassifier(), parameters)"
   ]
  },
  {
   "cell_type": "code",
   "execution_count": 75,
   "id": "4d216da9-d817-4c57-bded-4efebe5b5d6d",
   "metadata": {},
   "outputs": [
    {
     "data": {
      "text/html": [
       "<style>#sk-container-id-1 {\n",
       "  /* Definition of color scheme common for light and dark mode */\n",
       "  --sklearn-color-text: #000;\n",
       "  --sklearn-color-text-muted: #666;\n",
       "  --sklearn-color-line: gray;\n",
       "  /* Definition of color scheme for unfitted estimators */\n",
       "  --sklearn-color-unfitted-level-0: #fff5e6;\n",
       "  --sklearn-color-unfitted-level-1: #f6e4d2;\n",
       "  --sklearn-color-unfitted-level-2: #ffe0b3;\n",
       "  --sklearn-color-unfitted-level-3: chocolate;\n",
       "  /* Definition of color scheme for fitted estimators */\n",
       "  --sklearn-color-fitted-level-0: #f0f8ff;\n",
       "  --sklearn-color-fitted-level-1: #d4ebff;\n",
       "  --sklearn-color-fitted-level-2: #b3dbfd;\n",
       "  --sklearn-color-fitted-level-3: cornflowerblue;\n",
       "\n",
       "  /* Specific color for light theme */\n",
       "  --sklearn-color-text-on-default-background: var(--sg-text-color, var(--theme-code-foreground, var(--jp-content-font-color1, black)));\n",
       "  --sklearn-color-background: var(--sg-background-color, var(--theme-background, var(--jp-layout-color0, white)));\n",
       "  --sklearn-color-border-box: var(--sg-text-color, var(--theme-code-foreground, var(--jp-content-font-color1, black)));\n",
       "  --sklearn-color-icon: #696969;\n",
       "\n",
       "  @media (prefers-color-scheme: dark) {\n",
       "    /* Redefinition of color scheme for dark theme */\n",
       "    --sklearn-color-text-on-default-background: var(--sg-text-color, var(--theme-code-foreground, var(--jp-content-font-color1, white)));\n",
       "    --sklearn-color-background: var(--sg-background-color, var(--theme-background, var(--jp-layout-color0, #111)));\n",
       "    --sklearn-color-border-box: var(--sg-text-color, var(--theme-code-foreground, var(--jp-content-font-color1, white)));\n",
       "    --sklearn-color-icon: #878787;\n",
       "  }\n",
       "}\n",
       "\n",
       "#sk-container-id-1 {\n",
       "  color: var(--sklearn-color-text);\n",
       "}\n",
       "\n",
       "#sk-container-id-1 pre {\n",
       "  padding: 0;\n",
       "}\n",
       "\n",
       "#sk-container-id-1 input.sk-hidden--visually {\n",
       "  border: 0;\n",
       "  clip: rect(1px 1px 1px 1px);\n",
       "  clip: rect(1px, 1px, 1px, 1px);\n",
       "  height: 1px;\n",
       "  margin: -1px;\n",
       "  overflow: hidden;\n",
       "  padding: 0;\n",
       "  position: absolute;\n",
       "  width: 1px;\n",
       "}\n",
       "\n",
       "#sk-container-id-1 div.sk-dashed-wrapped {\n",
       "  border: 1px dashed var(--sklearn-color-line);\n",
       "  margin: 0 0.4em 0.5em 0.4em;\n",
       "  box-sizing: border-box;\n",
       "  padding-bottom: 0.4em;\n",
       "  background-color: var(--sklearn-color-background);\n",
       "}\n",
       "\n",
       "#sk-container-id-1 div.sk-container {\n",
       "  /* jupyter's `normalize.less` sets `[hidden] { display: none; }`\n",
       "     but bootstrap.min.css set `[hidden] { display: none !important; }`\n",
       "     so we also need the `!important` here to be able to override the\n",
       "     default hidden behavior on the sphinx rendered scikit-learn.org.\n",
       "     See: https://github.com/scikit-learn/scikit-learn/issues/21755 */\n",
       "  display: inline-block !important;\n",
       "  position: relative;\n",
       "}\n",
       "\n",
       "#sk-container-id-1 div.sk-text-repr-fallback {\n",
       "  display: none;\n",
       "}\n",
       "\n",
       "div.sk-parallel-item,\n",
       "div.sk-serial,\n",
       "div.sk-item {\n",
       "  /* draw centered vertical line to link estimators */\n",
       "  background-image: linear-gradient(var(--sklearn-color-text-on-default-background), var(--sklearn-color-text-on-default-background));\n",
       "  background-size: 2px 100%;\n",
       "  background-repeat: no-repeat;\n",
       "  background-position: center center;\n",
       "}\n",
       "\n",
       "/* Parallel-specific style estimator block */\n",
       "\n",
       "#sk-container-id-1 div.sk-parallel-item::after {\n",
       "  content: \"\";\n",
       "  width: 100%;\n",
       "  border-bottom: 2px solid var(--sklearn-color-text-on-default-background);\n",
       "  flex-grow: 1;\n",
       "}\n",
       "\n",
       "#sk-container-id-1 div.sk-parallel {\n",
       "  display: flex;\n",
       "  align-items: stretch;\n",
       "  justify-content: center;\n",
       "  background-color: var(--sklearn-color-background);\n",
       "  position: relative;\n",
       "}\n",
       "\n",
       "#sk-container-id-1 div.sk-parallel-item {\n",
       "  display: flex;\n",
       "  flex-direction: column;\n",
       "}\n",
       "\n",
       "#sk-container-id-1 div.sk-parallel-item:first-child::after {\n",
       "  align-self: flex-end;\n",
       "  width: 50%;\n",
       "}\n",
       "\n",
       "#sk-container-id-1 div.sk-parallel-item:last-child::after {\n",
       "  align-self: flex-start;\n",
       "  width: 50%;\n",
       "}\n",
       "\n",
       "#sk-container-id-1 div.sk-parallel-item:only-child::after {\n",
       "  width: 0;\n",
       "}\n",
       "\n",
       "/* Serial-specific style estimator block */\n",
       "\n",
       "#sk-container-id-1 div.sk-serial {\n",
       "  display: flex;\n",
       "  flex-direction: column;\n",
       "  align-items: center;\n",
       "  background-color: var(--sklearn-color-background);\n",
       "  padding-right: 1em;\n",
       "  padding-left: 1em;\n",
       "}\n",
       "\n",
       "\n",
       "/* Toggleable style: style used for estimator/Pipeline/ColumnTransformer box that is\n",
       "clickable and can be expanded/collapsed.\n",
       "- Pipeline and ColumnTransformer use this feature and define the default style\n",
       "- Estimators will overwrite some part of the style using the `sk-estimator` class\n",
       "*/\n",
       "\n",
       "/* Pipeline and ColumnTransformer style (default) */\n",
       "\n",
       "#sk-container-id-1 div.sk-toggleable {\n",
       "  /* Default theme specific background. It is overwritten whether we have a\n",
       "  specific estimator or a Pipeline/ColumnTransformer */\n",
       "  background-color: var(--sklearn-color-background);\n",
       "}\n",
       "\n",
       "/* Toggleable label */\n",
       "#sk-container-id-1 label.sk-toggleable__label {\n",
       "  cursor: pointer;\n",
       "  display: flex;\n",
       "  width: 100%;\n",
       "  margin-bottom: 0;\n",
       "  padding: 0.5em;\n",
       "  box-sizing: border-box;\n",
       "  text-align: center;\n",
       "  align-items: start;\n",
       "  justify-content: space-between;\n",
       "  gap: 0.5em;\n",
       "}\n",
       "\n",
       "#sk-container-id-1 label.sk-toggleable__label .caption {\n",
       "  font-size: 0.6rem;\n",
       "  font-weight: lighter;\n",
       "  color: var(--sklearn-color-text-muted);\n",
       "}\n",
       "\n",
       "#sk-container-id-1 label.sk-toggleable__label-arrow:before {\n",
       "  /* Arrow on the left of the label */\n",
       "  content: \"▸\";\n",
       "  float: left;\n",
       "  margin-right: 0.25em;\n",
       "  color: var(--sklearn-color-icon);\n",
       "}\n",
       "\n",
       "#sk-container-id-1 label.sk-toggleable__label-arrow:hover:before {\n",
       "  color: var(--sklearn-color-text);\n",
       "}\n",
       "\n",
       "/* Toggleable content - dropdown */\n",
       "\n",
       "#sk-container-id-1 div.sk-toggleable__content {\n",
       "  display: none;\n",
       "  text-align: left;\n",
       "  /* unfitted */\n",
       "  background-color: var(--sklearn-color-unfitted-level-0);\n",
       "}\n",
       "\n",
       "#sk-container-id-1 div.sk-toggleable__content.fitted {\n",
       "  /* fitted */\n",
       "  background-color: var(--sklearn-color-fitted-level-0);\n",
       "}\n",
       "\n",
       "#sk-container-id-1 div.sk-toggleable__content pre {\n",
       "  margin: 0.2em;\n",
       "  border-radius: 0.25em;\n",
       "  color: var(--sklearn-color-text);\n",
       "  /* unfitted */\n",
       "  background-color: var(--sklearn-color-unfitted-level-0);\n",
       "}\n",
       "\n",
       "#sk-container-id-1 div.sk-toggleable__content.fitted pre {\n",
       "  /* unfitted */\n",
       "  background-color: var(--sklearn-color-fitted-level-0);\n",
       "}\n",
       "\n",
       "#sk-container-id-1 input.sk-toggleable__control:checked~div.sk-toggleable__content {\n",
       "  /* Expand drop-down */\n",
       "  display: block;\n",
       "  width: 100%;\n",
       "  overflow: visible;\n",
       "}\n",
       "\n",
       "#sk-container-id-1 input.sk-toggleable__control:checked~label.sk-toggleable__label-arrow:before {\n",
       "  content: \"▾\";\n",
       "}\n",
       "\n",
       "/* Pipeline/ColumnTransformer-specific style */\n",
       "\n",
       "#sk-container-id-1 div.sk-label input.sk-toggleable__control:checked~label.sk-toggleable__label {\n",
       "  color: var(--sklearn-color-text);\n",
       "  background-color: var(--sklearn-color-unfitted-level-2);\n",
       "}\n",
       "\n",
       "#sk-container-id-1 div.sk-label.fitted input.sk-toggleable__control:checked~label.sk-toggleable__label {\n",
       "  background-color: var(--sklearn-color-fitted-level-2);\n",
       "}\n",
       "\n",
       "/* Estimator-specific style */\n",
       "\n",
       "/* Colorize estimator box */\n",
       "#sk-container-id-1 div.sk-estimator input.sk-toggleable__control:checked~label.sk-toggleable__label {\n",
       "  /* unfitted */\n",
       "  background-color: var(--sklearn-color-unfitted-level-2);\n",
       "}\n",
       "\n",
       "#sk-container-id-1 div.sk-estimator.fitted input.sk-toggleable__control:checked~label.sk-toggleable__label {\n",
       "  /* fitted */\n",
       "  background-color: var(--sklearn-color-fitted-level-2);\n",
       "}\n",
       "\n",
       "#sk-container-id-1 div.sk-label label.sk-toggleable__label,\n",
       "#sk-container-id-1 div.sk-label label {\n",
       "  /* The background is the default theme color */\n",
       "  color: var(--sklearn-color-text-on-default-background);\n",
       "}\n",
       "\n",
       "/* On hover, darken the color of the background */\n",
       "#sk-container-id-1 div.sk-label:hover label.sk-toggleable__label {\n",
       "  color: var(--sklearn-color-text);\n",
       "  background-color: var(--sklearn-color-unfitted-level-2);\n",
       "}\n",
       "\n",
       "/* Label box, darken color on hover, fitted */\n",
       "#sk-container-id-1 div.sk-label.fitted:hover label.sk-toggleable__label.fitted {\n",
       "  color: var(--sklearn-color-text);\n",
       "  background-color: var(--sklearn-color-fitted-level-2);\n",
       "}\n",
       "\n",
       "/* Estimator label */\n",
       "\n",
       "#sk-container-id-1 div.sk-label label {\n",
       "  font-family: monospace;\n",
       "  font-weight: bold;\n",
       "  display: inline-block;\n",
       "  line-height: 1.2em;\n",
       "}\n",
       "\n",
       "#sk-container-id-1 div.sk-label-container {\n",
       "  text-align: center;\n",
       "}\n",
       "\n",
       "/* Estimator-specific */\n",
       "#sk-container-id-1 div.sk-estimator {\n",
       "  font-family: monospace;\n",
       "  border: 1px dotted var(--sklearn-color-border-box);\n",
       "  border-radius: 0.25em;\n",
       "  box-sizing: border-box;\n",
       "  margin-bottom: 0.5em;\n",
       "  /* unfitted */\n",
       "  background-color: var(--sklearn-color-unfitted-level-0);\n",
       "}\n",
       "\n",
       "#sk-container-id-1 div.sk-estimator.fitted {\n",
       "  /* fitted */\n",
       "  background-color: var(--sklearn-color-fitted-level-0);\n",
       "}\n",
       "\n",
       "/* on hover */\n",
       "#sk-container-id-1 div.sk-estimator:hover {\n",
       "  /* unfitted */\n",
       "  background-color: var(--sklearn-color-unfitted-level-2);\n",
       "}\n",
       "\n",
       "#sk-container-id-1 div.sk-estimator.fitted:hover {\n",
       "  /* fitted */\n",
       "  background-color: var(--sklearn-color-fitted-level-2);\n",
       "}\n",
       "\n",
       "/* Specification for estimator info (e.g. \"i\" and \"?\") */\n",
       "\n",
       "/* Common style for \"i\" and \"?\" */\n",
       "\n",
       ".sk-estimator-doc-link,\n",
       "a:link.sk-estimator-doc-link,\n",
       "a:visited.sk-estimator-doc-link {\n",
       "  float: right;\n",
       "  font-size: smaller;\n",
       "  line-height: 1em;\n",
       "  font-family: monospace;\n",
       "  background-color: var(--sklearn-color-background);\n",
       "  border-radius: 1em;\n",
       "  height: 1em;\n",
       "  width: 1em;\n",
       "  text-decoration: none !important;\n",
       "  margin-left: 0.5em;\n",
       "  text-align: center;\n",
       "  /* unfitted */\n",
       "  border: var(--sklearn-color-unfitted-level-1) 1pt solid;\n",
       "  color: var(--sklearn-color-unfitted-level-1);\n",
       "}\n",
       "\n",
       ".sk-estimator-doc-link.fitted,\n",
       "a:link.sk-estimator-doc-link.fitted,\n",
       "a:visited.sk-estimator-doc-link.fitted {\n",
       "  /* fitted */\n",
       "  border: var(--sklearn-color-fitted-level-1) 1pt solid;\n",
       "  color: var(--sklearn-color-fitted-level-1);\n",
       "}\n",
       "\n",
       "/* On hover */\n",
       "div.sk-estimator:hover .sk-estimator-doc-link:hover,\n",
       ".sk-estimator-doc-link:hover,\n",
       "div.sk-label-container:hover .sk-estimator-doc-link:hover,\n",
       ".sk-estimator-doc-link:hover {\n",
       "  /* unfitted */\n",
       "  background-color: var(--sklearn-color-unfitted-level-3);\n",
       "  color: var(--sklearn-color-background);\n",
       "  text-decoration: none;\n",
       "}\n",
       "\n",
       "div.sk-estimator.fitted:hover .sk-estimator-doc-link.fitted:hover,\n",
       ".sk-estimator-doc-link.fitted:hover,\n",
       "div.sk-label-container:hover .sk-estimator-doc-link.fitted:hover,\n",
       ".sk-estimator-doc-link.fitted:hover {\n",
       "  /* fitted */\n",
       "  background-color: var(--sklearn-color-fitted-level-3);\n",
       "  color: var(--sklearn-color-background);\n",
       "  text-decoration: none;\n",
       "}\n",
       "\n",
       "/* Span, style for the box shown on hovering the info icon */\n",
       ".sk-estimator-doc-link span {\n",
       "  display: none;\n",
       "  z-index: 9999;\n",
       "  position: relative;\n",
       "  font-weight: normal;\n",
       "  right: .2ex;\n",
       "  padding: .5ex;\n",
       "  margin: .5ex;\n",
       "  width: min-content;\n",
       "  min-width: 20ex;\n",
       "  max-width: 50ex;\n",
       "  color: var(--sklearn-color-text);\n",
       "  box-shadow: 2pt 2pt 4pt #999;\n",
       "  /* unfitted */\n",
       "  background: var(--sklearn-color-unfitted-level-0);\n",
       "  border: .5pt solid var(--sklearn-color-unfitted-level-3);\n",
       "}\n",
       "\n",
       ".sk-estimator-doc-link.fitted span {\n",
       "  /* fitted */\n",
       "  background: var(--sklearn-color-fitted-level-0);\n",
       "  border: var(--sklearn-color-fitted-level-3);\n",
       "}\n",
       "\n",
       ".sk-estimator-doc-link:hover span {\n",
       "  display: block;\n",
       "}\n",
       "\n",
       "/* \"?\"-specific style due to the `<a>` HTML tag */\n",
       "\n",
       "#sk-container-id-1 a.estimator_doc_link {\n",
       "  float: right;\n",
       "  font-size: 1rem;\n",
       "  line-height: 1em;\n",
       "  font-family: monospace;\n",
       "  background-color: var(--sklearn-color-background);\n",
       "  border-radius: 1rem;\n",
       "  height: 1rem;\n",
       "  width: 1rem;\n",
       "  text-decoration: none;\n",
       "  /* unfitted */\n",
       "  color: var(--sklearn-color-unfitted-level-1);\n",
       "  border: var(--sklearn-color-unfitted-level-1) 1pt solid;\n",
       "}\n",
       "\n",
       "#sk-container-id-1 a.estimator_doc_link.fitted {\n",
       "  /* fitted */\n",
       "  border: var(--sklearn-color-fitted-level-1) 1pt solid;\n",
       "  color: var(--sklearn-color-fitted-level-1);\n",
       "}\n",
       "\n",
       "/* On hover */\n",
       "#sk-container-id-1 a.estimator_doc_link:hover {\n",
       "  /* unfitted */\n",
       "  background-color: var(--sklearn-color-unfitted-level-3);\n",
       "  color: var(--sklearn-color-background);\n",
       "  text-decoration: none;\n",
       "}\n",
       "\n",
       "#sk-container-id-1 a.estimator_doc_link.fitted:hover {\n",
       "  /* fitted */\n",
       "  background-color: var(--sklearn-color-fitted-level-3);\n",
       "}\n",
       "\n",
       ".estimator-table summary {\n",
       "    padding: .5rem;\n",
       "    font-family: monospace;\n",
       "    cursor: pointer;\n",
       "}\n",
       "\n",
       ".estimator-table details[open] {\n",
       "    padding-left: 0.1rem;\n",
       "    padding-right: 0.1rem;\n",
       "    padding-bottom: 0.3rem;\n",
       "}\n",
       "\n",
       ".estimator-table .parameters-table {\n",
       "    margin-left: auto !important;\n",
       "    margin-right: auto !important;\n",
       "}\n",
       "\n",
       ".estimator-table .parameters-table tr:nth-child(odd) {\n",
       "    background-color: #fff;\n",
       "}\n",
       "\n",
       ".estimator-table .parameters-table tr:nth-child(even) {\n",
       "    background-color: #f6f6f6;\n",
       "}\n",
       "\n",
       ".estimator-table .parameters-table tr:hover {\n",
       "    background-color: #e0e0e0;\n",
       "}\n",
       "\n",
       ".estimator-table table td {\n",
       "    border: 1px solid rgba(106, 105, 104, 0.232);\n",
       "}\n",
       "\n",
       ".user-set td {\n",
       "    color:rgb(255, 94, 0);\n",
       "    text-align: left;\n",
       "}\n",
       "\n",
       ".user-set td.value pre {\n",
       "    color:rgb(255, 94, 0) !important;\n",
       "    background-color: transparent !important;\n",
       "}\n",
       "\n",
       ".default td {\n",
       "    color: black;\n",
       "    text-align: left;\n",
       "}\n",
       "\n",
       ".user-set td i,\n",
       ".default td i {\n",
       "    color: black;\n",
       "}\n",
       "\n",
       ".copy-paste-icon {\n",
       "    background-image: url(data:image/svg+xml;base64,PHN2ZyB4bWxucz0iaHR0cDovL3d3dy53My5vcmcvMjAwMC9zdmciIHZpZXdCb3g9IjAgMCA0NDggNTEyIj48IS0tIUZvbnQgQXdlc29tZSBGcmVlIDYuNy4yIGJ5IEBmb250YXdlc29tZSAtIGh0dHBzOi8vZm9udGF3ZXNvbWUuY29tIExpY2Vuc2UgLSBodHRwczovL2ZvbnRhd2Vzb21lLmNvbS9saWNlbnNlL2ZyZWUgQ29weXJpZ2h0IDIwMjUgRm9udGljb25zLCBJbmMuLS0+PHBhdGggZD0iTTIwOCAwTDMzMi4xIDBjMTIuNyAwIDI0LjkgNS4xIDMzLjkgMTQuMWw2Ny45IDY3LjljOSA5IDE0LjEgMjEuMiAxNC4xIDMzLjlMNDQ4IDMzNmMwIDI2LjUtMjEuNSA0OC00OCA0OGwtMTkyIDBjLTI2LjUgMC00OC0yMS41LTQ4LTQ4bDAtMjg4YzAtMjYuNSAyMS41LTQ4IDQ4LTQ4ek00OCAxMjhsODAgMCAwIDY0LTY0IDAgMCAyNTYgMTkyIDAgMC0zMiA2NCAwIDAgNDhjMCAyNi41LTIxLjUgNDgtNDggNDhMNDggNTEyYy0yNi41IDAtNDgtMjEuNS00OC00OEwwIDE3NmMwLTI2LjUgMjEuNS00OCA0OC00OHoiLz48L3N2Zz4=);\n",
       "    background-repeat: no-repeat;\n",
       "    background-size: 14px 14px;\n",
       "    background-position: 0;\n",
       "    display: inline-block;\n",
       "    width: 14px;\n",
       "    height: 14px;\n",
       "    cursor: pointer;\n",
       "}\n",
       "</style><body><div id=\"sk-container-id-1\" class=\"sk-top-container\"><div class=\"sk-text-repr-fallback\"><pre>GridSearchCV(estimator=XGBClassifier(base_score=None, booster=None,\n",
       "                                     callbacks=None, colsample_bylevel=None,\n",
       "                                     colsample_bynode=None,\n",
       "                                     colsample_bytree=None, device=None,\n",
       "                                     early_stopping_rounds=None,\n",
       "                                     enable_categorical=False, eval_metric=None,\n",
       "                                     feature_types=None, feature_weights=None,\n",
       "                                     gamma=None, grow_policy=None,\n",
       "                                     importance_type=None,\n",
       "                                     interaction_constraints=None,\n",
       "                                     lea...\n",
       "                                     max_leaves=None, min_child_weight=None,\n",
       "                                     missing=nan, monotone_constraints=None,\n",
       "                                     multi_strategy=None, n_estimators=None,\n",
       "                                     n_jobs=None, num_parallel_tree=None, ...),\n",
       "             param_grid={&#x27;colsample_bytree&#x27;: [0.8, 1.0],\n",
       "                         &#x27;grow_policy&#x27;: [&#x27;depthwise&#x27;, &#x27;lossguide&#x27;],\n",
       "                         &#x27;learning_rate&#x27;: array([0.01, 0.12, 0.23, 0.34, 0.45, 0.56, 0.67, 0.78, 0.89, 1.  ]),\n",
       "                         &#x27;max_depth&#x27;: range(1, 7), &#x27;n_estimators&#x27;: range(1, 20),\n",
       "                         &#x27;subsample&#x27;: [0.8, 1.0]})</pre><b>In a Jupyter environment, please rerun this cell to show the HTML representation or trust the notebook. <br />On GitHub, the HTML representation is unable to render, please try loading this page with nbviewer.org.</b></div><div class=\"sk-container\" hidden><div class=\"sk-item sk-dashed-wrapped\"><div class=\"sk-label-container\"><div class=\"sk-label fitted sk-toggleable\"><input class=\"sk-toggleable__control sk-hidden--visually\" id=\"sk-estimator-id-1\" type=\"checkbox\" ><label for=\"sk-estimator-id-1\" class=\"sk-toggleable__label fitted sk-toggleable__label-arrow\"><div><div>GridSearchCV</div></div><div><a class=\"sk-estimator-doc-link fitted\" rel=\"noreferrer\" target=\"_blank\" href=\"https://scikit-learn.org/1.7/modules/generated/sklearn.model_selection.GridSearchCV.html\">?<span>Documentation for GridSearchCV</span></a><span class=\"sk-estimator-doc-link fitted\">i<span>Fitted</span></span></div></label><div class=\"sk-toggleable__content fitted\" data-param-prefix=\"\">\n",
       "        <div class=\"estimator-table\">\n",
       "            <details>\n",
       "                <summary>Parameters</summary>\n",
       "                <table class=\"parameters-table\">\n",
       "                  <tbody>\n",
       "                    \n",
       "        <tr class=\"user-set\">\n",
       "            <td><i class=\"copy-paste-icon\"\n",
       "                 onclick=\"copyToClipboard('estimator',\n",
       "                          this.parentElement.nextElementSibling)\"\n",
       "            ></i></td>\n",
       "            <td class=\"param\">estimator&nbsp;</td>\n",
       "            <td class=\"value\">XGBClassifier...ree=None, ...)</td>\n",
       "        </tr>\n",
       "    \n",
       "\n",
       "        <tr class=\"user-set\">\n",
       "            <td><i class=\"copy-paste-icon\"\n",
       "                 onclick=\"copyToClipboard('param_grid',\n",
       "                          this.parentElement.nextElementSibling)\"\n",
       "            ></i></td>\n",
       "            <td class=\"param\">param_grid&nbsp;</td>\n",
       "            <td class=\"value\">{&#x27;colsample_bytree&#x27;: [0.8, 1.0], &#x27;grow_policy&#x27;: [&#x27;depthwise&#x27;, &#x27;lossguide&#x27;], &#x27;learning_rate&#x27;: array([0.01, ..., 0.89, 1.  ]), &#x27;max_depth&#x27;: range(1, 7), ...}</td>\n",
       "        </tr>\n",
       "    \n",
       "\n",
       "        <tr class=\"default\">\n",
       "            <td><i class=\"copy-paste-icon\"\n",
       "                 onclick=\"copyToClipboard('scoring',\n",
       "                          this.parentElement.nextElementSibling)\"\n",
       "            ></i></td>\n",
       "            <td class=\"param\">scoring&nbsp;</td>\n",
       "            <td class=\"value\">None</td>\n",
       "        </tr>\n",
       "    \n",
       "\n",
       "        <tr class=\"default\">\n",
       "            <td><i class=\"copy-paste-icon\"\n",
       "                 onclick=\"copyToClipboard('n_jobs',\n",
       "                          this.parentElement.nextElementSibling)\"\n",
       "            ></i></td>\n",
       "            <td class=\"param\">n_jobs&nbsp;</td>\n",
       "            <td class=\"value\">None</td>\n",
       "        </tr>\n",
       "    \n",
       "\n",
       "        <tr class=\"default\">\n",
       "            <td><i class=\"copy-paste-icon\"\n",
       "                 onclick=\"copyToClipboard('refit',\n",
       "                          this.parentElement.nextElementSibling)\"\n",
       "            ></i></td>\n",
       "            <td class=\"param\">refit&nbsp;</td>\n",
       "            <td class=\"value\">True</td>\n",
       "        </tr>\n",
       "    \n",
       "\n",
       "        <tr class=\"default\">\n",
       "            <td><i class=\"copy-paste-icon\"\n",
       "                 onclick=\"copyToClipboard('cv',\n",
       "                          this.parentElement.nextElementSibling)\"\n",
       "            ></i></td>\n",
       "            <td class=\"param\">cv&nbsp;</td>\n",
       "            <td class=\"value\">None</td>\n",
       "        </tr>\n",
       "    \n",
       "\n",
       "        <tr class=\"default\">\n",
       "            <td><i class=\"copy-paste-icon\"\n",
       "                 onclick=\"copyToClipboard('verbose',\n",
       "                          this.parentElement.nextElementSibling)\"\n",
       "            ></i></td>\n",
       "            <td class=\"param\">verbose&nbsp;</td>\n",
       "            <td class=\"value\">0</td>\n",
       "        </tr>\n",
       "    \n",
       "\n",
       "        <tr class=\"default\">\n",
       "            <td><i class=\"copy-paste-icon\"\n",
       "                 onclick=\"copyToClipboard('pre_dispatch',\n",
       "                          this.parentElement.nextElementSibling)\"\n",
       "            ></i></td>\n",
       "            <td class=\"param\">pre_dispatch&nbsp;</td>\n",
       "            <td class=\"value\">&#x27;2*n_jobs&#x27;</td>\n",
       "        </tr>\n",
       "    \n",
       "\n",
       "        <tr class=\"default\">\n",
       "            <td><i class=\"copy-paste-icon\"\n",
       "                 onclick=\"copyToClipboard('error_score',\n",
       "                          this.parentElement.nextElementSibling)\"\n",
       "            ></i></td>\n",
       "            <td class=\"param\">error_score&nbsp;</td>\n",
       "            <td class=\"value\">nan</td>\n",
       "        </tr>\n",
       "    \n",
       "\n",
       "        <tr class=\"default\">\n",
       "            <td><i class=\"copy-paste-icon\"\n",
       "                 onclick=\"copyToClipboard('return_train_score',\n",
       "                          this.parentElement.nextElementSibling)\"\n",
       "            ></i></td>\n",
       "            <td class=\"param\">return_train_score&nbsp;</td>\n",
       "            <td class=\"value\">False</td>\n",
       "        </tr>\n",
       "    \n",
       "                  </tbody>\n",
       "                </table>\n",
       "            </details>\n",
       "        </div>\n",
       "    </div></div></div><div class=\"sk-parallel\"><div class=\"sk-parallel-item\"><div class=\"sk-item\"><div class=\"sk-label-container\"><div class=\"sk-label fitted sk-toggleable\"><input class=\"sk-toggleable__control sk-hidden--visually\" id=\"sk-estimator-id-2\" type=\"checkbox\" ><label for=\"sk-estimator-id-2\" class=\"sk-toggleable__label fitted sk-toggleable__label-arrow\"><div><div>best_estimator_: XGBClassifier</div></div></label><div class=\"sk-toggleable__content fitted\" data-param-prefix=\"best_estimator___\"><pre>XGBClassifier(base_score=None, booster=None, callbacks=None,\n",
       "              colsample_bylevel=None, colsample_bynode=None,\n",
       "              colsample_bytree=1.0, device=None, early_stopping_rounds=None,\n",
       "              enable_categorical=False, eval_metric=None, feature_types=None,\n",
       "              feature_weights=None, gamma=None, grow_policy=&#x27;depthwise&#x27;,\n",
       "              importance_type=None, interaction_constraints=None,\n",
       "              learning_rate=np.float64(0.45), max_bin=None,\n",
       "              max_cat_threshold=None, max_cat_to_onehot=None,\n",
       "              max_delta_step=None, max_depth=5, max_leaves=None,\n",
       "              min_child_weight=None, missing=nan, monotone_constraints=None,\n",
       "              multi_strategy=None, n_estimators=19, n_jobs=None,\n",
       "              num_parallel_tree=None, ...)</pre></div></div></div><div class=\"sk-serial\"><div class=\"sk-item\"><div class=\"sk-estimator fitted sk-toggleable\"><input class=\"sk-toggleable__control sk-hidden--visually\" id=\"sk-estimator-id-3\" type=\"checkbox\" ><label for=\"sk-estimator-id-3\" class=\"sk-toggleable__label fitted sk-toggleable__label-arrow\"><div><div>XGBClassifier</div></div><div><a class=\"sk-estimator-doc-link fitted\" rel=\"noreferrer\" target=\"_blank\" href=\"https://xgboost.readthedocs.io/en/release_3.0.0/python/python_api.html#xgboost.XGBClassifier\">?<span>Documentation for XGBClassifier</span></a></div></label><div class=\"sk-toggleable__content fitted\" data-param-prefix=\"best_estimator___\">\n",
       "        <div class=\"estimator-table\">\n",
       "            <details>\n",
       "                <summary>Parameters</summary>\n",
       "                <table class=\"parameters-table\">\n",
       "                  <tbody>\n",
       "                    \n",
       "        <tr class=\"default\">\n",
       "            <td><i class=\"copy-paste-icon\"\n",
       "                 onclick=\"copyToClipboard('objective',\n",
       "                          this.parentElement.nextElementSibling)\"\n",
       "            ></i></td>\n",
       "            <td class=\"param\">objective&nbsp;</td>\n",
       "            <td class=\"value\">&#x27;binary:logistic&#x27;</td>\n",
       "        </tr>\n",
       "    \n",
       "\n",
       "        <tr class=\"user-set\">\n",
       "            <td><i class=\"copy-paste-icon\"\n",
       "                 onclick=\"copyToClipboard('base_score',\n",
       "                          this.parentElement.nextElementSibling)\"\n",
       "            ></i></td>\n",
       "            <td class=\"param\">base_score&nbsp;</td>\n",
       "            <td class=\"value\">None</td>\n",
       "        </tr>\n",
       "    \n",
       "\n",
       "        <tr class=\"user-set\">\n",
       "            <td><i class=\"copy-paste-icon\"\n",
       "                 onclick=\"copyToClipboard('booster',\n",
       "                          this.parentElement.nextElementSibling)\"\n",
       "            ></i></td>\n",
       "            <td class=\"param\">booster&nbsp;</td>\n",
       "            <td class=\"value\">None</td>\n",
       "        </tr>\n",
       "    \n",
       "\n",
       "        <tr class=\"user-set\">\n",
       "            <td><i class=\"copy-paste-icon\"\n",
       "                 onclick=\"copyToClipboard('callbacks',\n",
       "                          this.parentElement.nextElementSibling)\"\n",
       "            ></i></td>\n",
       "            <td class=\"param\">callbacks&nbsp;</td>\n",
       "            <td class=\"value\">None</td>\n",
       "        </tr>\n",
       "    \n",
       "\n",
       "        <tr class=\"user-set\">\n",
       "            <td><i class=\"copy-paste-icon\"\n",
       "                 onclick=\"copyToClipboard('colsample_bylevel',\n",
       "                          this.parentElement.nextElementSibling)\"\n",
       "            ></i></td>\n",
       "            <td class=\"param\">colsample_bylevel&nbsp;</td>\n",
       "            <td class=\"value\">None</td>\n",
       "        </tr>\n",
       "    \n",
       "\n",
       "        <tr class=\"user-set\">\n",
       "            <td><i class=\"copy-paste-icon\"\n",
       "                 onclick=\"copyToClipboard('colsample_bynode',\n",
       "                          this.parentElement.nextElementSibling)\"\n",
       "            ></i></td>\n",
       "            <td class=\"param\">colsample_bynode&nbsp;</td>\n",
       "            <td class=\"value\">None</td>\n",
       "        </tr>\n",
       "    \n",
       "\n",
       "        <tr class=\"user-set\">\n",
       "            <td><i class=\"copy-paste-icon\"\n",
       "                 onclick=\"copyToClipboard('colsample_bytree',\n",
       "                          this.parentElement.nextElementSibling)\"\n",
       "            ></i></td>\n",
       "            <td class=\"param\">colsample_bytree&nbsp;</td>\n",
       "            <td class=\"value\">1.0</td>\n",
       "        </tr>\n",
       "    \n",
       "\n",
       "        <tr class=\"user-set\">\n",
       "            <td><i class=\"copy-paste-icon\"\n",
       "                 onclick=\"copyToClipboard('device',\n",
       "                          this.parentElement.nextElementSibling)\"\n",
       "            ></i></td>\n",
       "            <td class=\"param\">device&nbsp;</td>\n",
       "            <td class=\"value\">None</td>\n",
       "        </tr>\n",
       "    \n",
       "\n",
       "        <tr class=\"user-set\">\n",
       "            <td><i class=\"copy-paste-icon\"\n",
       "                 onclick=\"copyToClipboard('early_stopping_rounds',\n",
       "                          this.parentElement.nextElementSibling)\"\n",
       "            ></i></td>\n",
       "            <td class=\"param\">early_stopping_rounds&nbsp;</td>\n",
       "            <td class=\"value\">None</td>\n",
       "        </tr>\n",
       "    \n",
       "\n",
       "        <tr class=\"user-set\">\n",
       "            <td><i class=\"copy-paste-icon\"\n",
       "                 onclick=\"copyToClipboard('enable_categorical',\n",
       "                          this.parentElement.nextElementSibling)\"\n",
       "            ></i></td>\n",
       "            <td class=\"param\">enable_categorical&nbsp;</td>\n",
       "            <td class=\"value\">False</td>\n",
       "        </tr>\n",
       "    \n",
       "\n",
       "        <tr class=\"user-set\">\n",
       "            <td><i class=\"copy-paste-icon\"\n",
       "                 onclick=\"copyToClipboard('eval_metric',\n",
       "                          this.parentElement.nextElementSibling)\"\n",
       "            ></i></td>\n",
       "            <td class=\"param\">eval_metric&nbsp;</td>\n",
       "            <td class=\"value\">None</td>\n",
       "        </tr>\n",
       "    \n",
       "\n",
       "        <tr class=\"user-set\">\n",
       "            <td><i class=\"copy-paste-icon\"\n",
       "                 onclick=\"copyToClipboard('feature_types',\n",
       "                          this.parentElement.nextElementSibling)\"\n",
       "            ></i></td>\n",
       "            <td class=\"param\">feature_types&nbsp;</td>\n",
       "            <td class=\"value\">None</td>\n",
       "        </tr>\n",
       "    \n",
       "\n",
       "        <tr class=\"user-set\">\n",
       "            <td><i class=\"copy-paste-icon\"\n",
       "                 onclick=\"copyToClipboard('feature_weights',\n",
       "                          this.parentElement.nextElementSibling)\"\n",
       "            ></i></td>\n",
       "            <td class=\"param\">feature_weights&nbsp;</td>\n",
       "            <td class=\"value\">None</td>\n",
       "        </tr>\n",
       "    \n",
       "\n",
       "        <tr class=\"user-set\">\n",
       "            <td><i class=\"copy-paste-icon\"\n",
       "                 onclick=\"copyToClipboard('gamma',\n",
       "                          this.parentElement.nextElementSibling)\"\n",
       "            ></i></td>\n",
       "            <td class=\"param\">gamma&nbsp;</td>\n",
       "            <td class=\"value\">None</td>\n",
       "        </tr>\n",
       "    \n",
       "\n",
       "        <tr class=\"user-set\">\n",
       "            <td><i class=\"copy-paste-icon\"\n",
       "                 onclick=\"copyToClipboard('grow_policy',\n",
       "                          this.parentElement.nextElementSibling)\"\n",
       "            ></i></td>\n",
       "            <td class=\"param\">grow_policy&nbsp;</td>\n",
       "            <td class=\"value\">&#x27;depthwise&#x27;</td>\n",
       "        </tr>\n",
       "    \n",
       "\n",
       "        <tr class=\"user-set\">\n",
       "            <td><i class=\"copy-paste-icon\"\n",
       "                 onclick=\"copyToClipboard('importance_type',\n",
       "                          this.parentElement.nextElementSibling)\"\n",
       "            ></i></td>\n",
       "            <td class=\"param\">importance_type&nbsp;</td>\n",
       "            <td class=\"value\">None</td>\n",
       "        </tr>\n",
       "    \n",
       "\n",
       "        <tr class=\"user-set\">\n",
       "            <td><i class=\"copy-paste-icon\"\n",
       "                 onclick=\"copyToClipboard('interaction_constraints',\n",
       "                          this.parentElement.nextElementSibling)\"\n",
       "            ></i></td>\n",
       "            <td class=\"param\">interaction_constraints&nbsp;</td>\n",
       "            <td class=\"value\">None</td>\n",
       "        </tr>\n",
       "    \n",
       "\n",
       "        <tr class=\"user-set\">\n",
       "            <td><i class=\"copy-paste-icon\"\n",
       "                 onclick=\"copyToClipboard('learning_rate',\n",
       "                          this.parentElement.nextElementSibling)\"\n",
       "            ></i></td>\n",
       "            <td class=\"param\">learning_rate&nbsp;</td>\n",
       "            <td class=\"value\">np.float64(0.45)</td>\n",
       "        </tr>\n",
       "    \n",
       "\n",
       "        <tr class=\"user-set\">\n",
       "            <td><i class=\"copy-paste-icon\"\n",
       "                 onclick=\"copyToClipboard('max_bin',\n",
       "                          this.parentElement.nextElementSibling)\"\n",
       "            ></i></td>\n",
       "            <td class=\"param\">max_bin&nbsp;</td>\n",
       "            <td class=\"value\">None</td>\n",
       "        </tr>\n",
       "    \n",
       "\n",
       "        <tr class=\"user-set\">\n",
       "            <td><i class=\"copy-paste-icon\"\n",
       "                 onclick=\"copyToClipboard('max_cat_threshold',\n",
       "                          this.parentElement.nextElementSibling)\"\n",
       "            ></i></td>\n",
       "            <td class=\"param\">max_cat_threshold&nbsp;</td>\n",
       "            <td class=\"value\">None</td>\n",
       "        </tr>\n",
       "    \n",
       "\n",
       "        <tr class=\"user-set\">\n",
       "            <td><i class=\"copy-paste-icon\"\n",
       "                 onclick=\"copyToClipboard('max_cat_to_onehot',\n",
       "                          this.parentElement.nextElementSibling)\"\n",
       "            ></i></td>\n",
       "            <td class=\"param\">max_cat_to_onehot&nbsp;</td>\n",
       "            <td class=\"value\">None</td>\n",
       "        </tr>\n",
       "    \n",
       "\n",
       "        <tr class=\"user-set\">\n",
       "            <td><i class=\"copy-paste-icon\"\n",
       "                 onclick=\"copyToClipboard('max_delta_step',\n",
       "                          this.parentElement.nextElementSibling)\"\n",
       "            ></i></td>\n",
       "            <td class=\"param\">max_delta_step&nbsp;</td>\n",
       "            <td class=\"value\">None</td>\n",
       "        </tr>\n",
       "    \n",
       "\n",
       "        <tr class=\"user-set\">\n",
       "            <td><i class=\"copy-paste-icon\"\n",
       "                 onclick=\"copyToClipboard('max_depth',\n",
       "                          this.parentElement.nextElementSibling)\"\n",
       "            ></i></td>\n",
       "            <td class=\"param\">max_depth&nbsp;</td>\n",
       "            <td class=\"value\">5</td>\n",
       "        </tr>\n",
       "    \n",
       "\n",
       "        <tr class=\"user-set\">\n",
       "            <td><i class=\"copy-paste-icon\"\n",
       "                 onclick=\"copyToClipboard('max_leaves',\n",
       "                          this.parentElement.nextElementSibling)\"\n",
       "            ></i></td>\n",
       "            <td class=\"param\">max_leaves&nbsp;</td>\n",
       "            <td class=\"value\">None</td>\n",
       "        </tr>\n",
       "    \n",
       "\n",
       "        <tr class=\"user-set\">\n",
       "            <td><i class=\"copy-paste-icon\"\n",
       "                 onclick=\"copyToClipboard('min_child_weight',\n",
       "                          this.parentElement.nextElementSibling)\"\n",
       "            ></i></td>\n",
       "            <td class=\"param\">min_child_weight&nbsp;</td>\n",
       "            <td class=\"value\">None</td>\n",
       "        </tr>\n",
       "    \n",
       "\n",
       "        <tr class=\"user-set\">\n",
       "            <td><i class=\"copy-paste-icon\"\n",
       "                 onclick=\"copyToClipboard('missing',\n",
       "                          this.parentElement.nextElementSibling)\"\n",
       "            ></i></td>\n",
       "            <td class=\"param\">missing&nbsp;</td>\n",
       "            <td class=\"value\">nan</td>\n",
       "        </tr>\n",
       "    \n",
       "\n",
       "        <tr class=\"user-set\">\n",
       "            <td><i class=\"copy-paste-icon\"\n",
       "                 onclick=\"copyToClipboard('monotone_constraints',\n",
       "                          this.parentElement.nextElementSibling)\"\n",
       "            ></i></td>\n",
       "            <td class=\"param\">monotone_constraints&nbsp;</td>\n",
       "            <td class=\"value\">None</td>\n",
       "        </tr>\n",
       "    \n",
       "\n",
       "        <tr class=\"user-set\">\n",
       "            <td><i class=\"copy-paste-icon\"\n",
       "                 onclick=\"copyToClipboard('multi_strategy',\n",
       "                          this.parentElement.nextElementSibling)\"\n",
       "            ></i></td>\n",
       "            <td class=\"param\">multi_strategy&nbsp;</td>\n",
       "            <td class=\"value\">None</td>\n",
       "        </tr>\n",
       "    \n",
       "\n",
       "        <tr class=\"user-set\">\n",
       "            <td><i class=\"copy-paste-icon\"\n",
       "                 onclick=\"copyToClipboard('n_estimators',\n",
       "                          this.parentElement.nextElementSibling)\"\n",
       "            ></i></td>\n",
       "            <td class=\"param\">n_estimators&nbsp;</td>\n",
       "            <td class=\"value\">19</td>\n",
       "        </tr>\n",
       "    \n",
       "\n",
       "        <tr class=\"user-set\">\n",
       "            <td><i class=\"copy-paste-icon\"\n",
       "                 onclick=\"copyToClipboard('n_jobs',\n",
       "                          this.parentElement.nextElementSibling)\"\n",
       "            ></i></td>\n",
       "            <td class=\"param\">n_jobs&nbsp;</td>\n",
       "            <td class=\"value\">None</td>\n",
       "        </tr>\n",
       "    \n",
       "\n",
       "        <tr class=\"user-set\">\n",
       "            <td><i class=\"copy-paste-icon\"\n",
       "                 onclick=\"copyToClipboard('num_parallel_tree',\n",
       "                          this.parentElement.nextElementSibling)\"\n",
       "            ></i></td>\n",
       "            <td class=\"param\">num_parallel_tree&nbsp;</td>\n",
       "            <td class=\"value\">None</td>\n",
       "        </tr>\n",
       "    \n",
       "\n",
       "        <tr class=\"user-set\">\n",
       "            <td><i class=\"copy-paste-icon\"\n",
       "                 onclick=\"copyToClipboard('random_state',\n",
       "                          this.parentElement.nextElementSibling)\"\n",
       "            ></i></td>\n",
       "            <td class=\"param\">random_state&nbsp;</td>\n",
       "            <td class=\"value\">None</td>\n",
       "        </tr>\n",
       "    \n",
       "\n",
       "        <tr class=\"user-set\">\n",
       "            <td><i class=\"copy-paste-icon\"\n",
       "                 onclick=\"copyToClipboard('reg_alpha',\n",
       "                          this.parentElement.nextElementSibling)\"\n",
       "            ></i></td>\n",
       "            <td class=\"param\">reg_alpha&nbsp;</td>\n",
       "            <td class=\"value\">None</td>\n",
       "        </tr>\n",
       "    \n",
       "\n",
       "        <tr class=\"user-set\">\n",
       "            <td><i class=\"copy-paste-icon\"\n",
       "                 onclick=\"copyToClipboard('reg_lambda',\n",
       "                          this.parentElement.nextElementSibling)\"\n",
       "            ></i></td>\n",
       "            <td class=\"param\">reg_lambda&nbsp;</td>\n",
       "            <td class=\"value\">None</td>\n",
       "        </tr>\n",
       "    \n",
       "\n",
       "        <tr class=\"user-set\">\n",
       "            <td><i class=\"copy-paste-icon\"\n",
       "                 onclick=\"copyToClipboard('sampling_method',\n",
       "                          this.parentElement.nextElementSibling)\"\n",
       "            ></i></td>\n",
       "            <td class=\"param\">sampling_method&nbsp;</td>\n",
       "            <td class=\"value\">None</td>\n",
       "        </tr>\n",
       "    \n",
       "\n",
       "        <tr class=\"user-set\">\n",
       "            <td><i class=\"copy-paste-icon\"\n",
       "                 onclick=\"copyToClipboard('scale_pos_weight',\n",
       "                          this.parentElement.nextElementSibling)\"\n",
       "            ></i></td>\n",
       "            <td class=\"param\">scale_pos_weight&nbsp;</td>\n",
       "            <td class=\"value\">None</td>\n",
       "        </tr>\n",
       "    \n",
       "\n",
       "        <tr class=\"user-set\">\n",
       "            <td><i class=\"copy-paste-icon\"\n",
       "                 onclick=\"copyToClipboard('subsample',\n",
       "                          this.parentElement.nextElementSibling)\"\n",
       "            ></i></td>\n",
       "            <td class=\"param\">subsample&nbsp;</td>\n",
       "            <td class=\"value\">1.0</td>\n",
       "        </tr>\n",
       "    \n",
       "\n",
       "        <tr class=\"user-set\">\n",
       "            <td><i class=\"copy-paste-icon\"\n",
       "                 onclick=\"copyToClipboard('tree_method',\n",
       "                          this.parentElement.nextElementSibling)\"\n",
       "            ></i></td>\n",
       "            <td class=\"param\">tree_method&nbsp;</td>\n",
       "            <td class=\"value\">None</td>\n",
       "        </tr>\n",
       "    \n",
       "\n",
       "        <tr class=\"user-set\">\n",
       "            <td><i class=\"copy-paste-icon\"\n",
       "                 onclick=\"copyToClipboard('validate_parameters',\n",
       "                          this.parentElement.nextElementSibling)\"\n",
       "            ></i></td>\n",
       "            <td class=\"param\">validate_parameters&nbsp;</td>\n",
       "            <td class=\"value\">None</td>\n",
       "        </tr>\n",
       "    \n",
       "\n",
       "        <tr class=\"user-set\">\n",
       "            <td><i class=\"copy-paste-icon\"\n",
       "                 onclick=\"copyToClipboard('verbosity',\n",
       "                          this.parentElement.nextElementSibling)\"\n",
       "            ></i></td>\n",
       "            <td class=\"param\">verbosity&nbsp;</td>\n",
       "            <td class=\"value\">None</td>\n",
       "        </tr>\n",
       "    \n",
       "                  </tbody>\n",
       "                </table>\n",
       "            </details>\n",
       "        </div>\n",
       "    </div></div></div></div></div></div></div></div></div></div><script>function copyToClipboard(text, element) {\n",
       "    // Get the parameter prefix from the closest toggleable content\n",
       "    const toggleableContent = element.closest('.sk-toggleable__content');\n",
       "    const paramPrefix = toggleableContent ? toggleableContent.dataset.paramPrefix : '';\n",
       "    const fullParamName = paramPrefix ? `${paramPrefix}${text}` : text;\n",
       "\n",
       "    const originalStyle = element.style;\n",
       "    const computedStyle = window.getComputedStyle(element);\n",
       "    const originalWidth = computedStyle.width;\n",
       "    const originalHTML = element.innerHTML.replace('Copied!', '');\n",
       "\n",
       "    navigator.clipboard.writeText(fullParamName)\n",
       "        .then(() => {\n",
       "            element.style.width = originalWidth;\n",
       "            element.style.color = 'green';\n",
       "            element.innerHTML = \"Copied!\";\n",
       "\n",
       "            setTimeout(() => {\n",
       "                element.innerHTML = originalHTML;\n",
       "                element.style = originalStyle;\n",
       "            }, 2000);\n",
       "        })\n",
       "        .catch(err => {\n",
       "            console.error('Failed to copy:', err);\n",
       "            element.style.color = 'red';\n",
       "            element.innerHTML = \"Failed!\";\n",
       "            setTimeout(() => {\n",
       "                element.innerHTML = originalHTML;\n",
       "                element.style = originalStyle;\n",
       "            }, 2000);\n",
       "        });\n",
       "    return false;\n",
       "}\n",
       "\n",
       "document.querySelectorAll('.fa-regular.fa-copy').forEach(function(element) {\n",
       "    const toggleableContent = element.closest('.sk-toggleable__content');\n",
       "    const paramPrefix = toggleableContent ? toggleableContent.dataset.paramPrefix : '';\n",
       "    const paramName = element.parentElement.nextElementSibling.textContent.trim();\n",
       "    const fullParamName = paramPrefix ? `${paramPrefix}${paramName}` : paramName;\n",
       "\n",
       "    element.setAttribute('title', fullParamName);\n",
       "});\n",
       "</script></body>"
      ],
      "text/plain": [
       "GridSearchCV(estimator=XGBClassifier(base_score=None, booster=None,\n",
       "                                     callbacks=None, colsample_bylevel=None,\n",
       "                                     colsample_bynode=None,\n",
       "                                     colsample_bytree=None, device=None,\n",
       "                                     early_stopping_rounds=None,\n",
       "                                     enable_categorical=False, eval_metric=None,\n",
       "                                     feature_types=None, feature_weights=None,\n",
       "                                     gamma=None, grow_policy=None,\n",
       "                                     importance_type=None,\n",
       "                                     interaction_constraints=None,\n",
       "                                     lea...\n",
       "                                     max_leaves=None, min_child_weight=None,\n",
       "                                     missing=nan, monotone_constraints=None,\n",
       "                                     multi_strategy=None, n_estimators=None,\n",
       "                                     n_jobs=None, num_parallel_tree=None, ...),\n",
       "             param_grid={'colsample_bytree': [0.8, 1.0],\n",
       "                         'grow_policy': ['depthwise', 'lossguide'],\n",
       "                         'learning_rate': array([0.01, 0.12, 0.23, 0.34, 0.45, 0.56, 0.67, 0.78, 0.89, 1.  ]),\n",
       "                         'max_depth': range(1, 7), 'n_estimators': range(1, 20),\n",
       "                         'subsample': [0.8, 1.0]})"
      ]
     },
     "execution_count": 75,
     "metadata": {},
     "output_type": "execute_result"
    }
   ],
   "source": [
    "clf.fit(X_train, y_train) #this might take a while ..."
   ]
  },
  {
   "cell_type": "code",
   "execution_count": null,
   "id": "9ca047a2-ad1f-48a1-b941-9cdc3ab59610",
   "metadata": {},
   "outputs": [
    {
     "name": "stdout",
     "output_type": "stream",
     "text": [
      "Best hyperparameters: {'colsample_bytree': 1.0, 'grow_policy': 'depthwise', 'learning_rate': np.float64(0.45), 'max_depth': 5, 'n_estimators': 19, 'subsample': 1.0}\n",
      "Best cross-validation score: 0.9787813532384588\n"
     ]
    }
   ],
   "source": [
    "print(\"Best hyperparameters:\", clf.best_params_)\n",
    "print(\"Best cross-validation score:\", clf.best_score_)"
   ]
  },
  {
   "cell_type": "markdown",
   "id": "47c9eeeb",
   "metadata": {},
   "source": [
    "We finally extrapolate and save our model as a `.json` file"
   ]
  },
  {
   "cell_type": "code",
   "execution_count": 77,
   "id": "fc16cf05-02d4-47d0-a900-0afff05e66e7",
   "metadata": {},
   "outputs": [],
   "source": [
    "model = clf.best_estimator_ # Extract the best model\n",
    "model.save_model('best_model.json')"
   ]
  },
  {
   "cell_type": "markdown",
   "id": "f487f9a1",
   "metadata": {},
   "source": [
    "## Test the \"best\" model"
   ]
  },
  {
   "cell_type": "code",
   "execution_count": 78,
   "id": "a5d8b626",
   "metadata": {},
   "outputs": [],
   "source": [
    "y_prob = model.predict_proba(X_test)[:, 1] # Extract probabilities for the positive class"
   ]
  },
  {
   "cell_type": "code",
   "execution_count": 79,
   "id": "c2807962",
   "metadata": {},
   "outputs": [
    {
     "name": "stdout",
     "output_type": "stream",
     "text": [
      "Ratio of wrong predictions: 0.03\n",
      "Ratio of false negatives: 0.09\n",
      "Ratio of false positives: 0.07\n"
     ]
    }
   ],
   "source": [
    "control = (y_pred ^ y_test)\n",
    "print(f'Ratio of wrong predictions: {sum(control)/len(control):.2f}')\n",
    "# false negatives\n",
    "signal_indexes = np.where(y_test==1)\n",
    "control = (y_pred[signal_indexes] ^ y_test[signal_indexes])\n",
    "print(f'Ratio of false negatives: {sum(control)/len(control):.2f}')\n",
    "# false positives\n",
    "signal_indexes = np.where(y_pred==1)\n",
    "control = y_pred[signal_indexes] ^ y_test[signal_indexes]\n",
    "print(f'Ratio of false positives: {sum(control)/len(control):.2f}')\n"
   ]
  },
  {
   "cell_type": "markdown",
   "id": "e90273dc",
   "metadata": {},
   "source": [
    "### ROC curve"
   ]
  },
  {
   "cell_type": "code",
   "execution_count": 80,
   "id": "c170b8c9",
   "metadata": {},
   "outputs": [
    {
     "data": {
      "image/png": "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",
      "text/plain": [
       "<Figure size 640x480 with 1 Axes>"
      ]
     },
     "metadata": {},
     "output_type": "display_data"
    }
   ],
   "source": [
    "y_prob = clf.predict_proba(X_test)[:, 1]\n",
    "fpr, tpr, _ = metrics.roc_curve(y_test, y_prob)\n",
    "plt.plot(fpr, tpr)\n",
    "plt.xlabel('False Positive Rate')\n",
    "plt.ylabel('True Positive Rate')\n",
    "plt.title('ROC curve for XGBoost classifier after parameters tuning')\n",
    "plt.legend(['AUC = {:.2f}'.format(metrics.roc_auc_score(y_test, y_prob))])\n",
    "plt.show()"
   ]
<<<<<<< HEAD
=======
  },
  {
   "cell_type": "markdown",
   "id": "5d9f545a-e8a2-4995-992d-67cec3b4a34e",
   "metadata": {},
   "source": [
    "# Confronto python e fpga"
   ]
  },
  {
   "cell_type": "markdown",
   "id": "ae014e20-70ae-4af6-9dbb-3301109170d7",
   "metadata": {},
   "source": [
    "## Confronto raw_scores"
   ]
  },
  {
   "cell_type": "code",
   "execution_count": null,
   "id": "a84ec9e5-4e66-4636-948f-025f059ff2c7",
   "metadata": {},
   "outputs": [
    {
     "data": {
      "text/plain": [
       "19208.0"
      ]
     },
     "execution_count": 51,
     "metadata": {},
     "output_type": "execute_result"
    }
   ],
   "source": [
    "model=xgb.XGBClassifier()\n",
    "model.load_model('best_model.json')\n",
    "np.sum(model.predict_proba(X_test))"
   ]
  },
  {
   "cell_type": "code",
   "execution_count": null,
   "id": "929a9f12-92be-4ebc-b7ce-35208c379329",
   "metadata": {},
   "outputs": [],
   "source": [
    "raw_scores_cpu = model.predict(X_test, output_margin=True)"
   ]
  },
  {
   "cell_type": "code",
   "execution_count": null,
   "id": "bc26d127-40d0-4710-a999-3863ccc623f6",
   "metadata": {},
   "outputs": [],
   "source": [
    "file = open('raw_scores.txt', 'r')\n",
    "raw_scores_fpga = []\n",
    "raw_scores_fpga=np.float32(file.read().split())\n",
    "file.close()"
   ]
  },
  {
   "cell_type": "code",
   "execution_count": null,
   "id": "b9a010d0-a7c3-4f4b-a4d5-95dff90f8a40",
   "metadata": {},
   "outputs": [],
   "source": [
    "from scipy.special import expit\n",
    "raw_scores_cpu = expit(raw_scores_cpu)\n",
    "raw_scores_fpga = expit(raw_scores_fpga)"
   ]
  },
  {
   "cell_type": "code",
   "execution_count": null,
   "id": "ae38a416-5bdc-4981-8ef5-186aafa9a15d",
   "metadata": {},
   "outputs": [],
   "source": [
    "relative_error = (raw_scores_fpga-raw_scores_cpu[:-1])\n",
    "#relative_error /= raw_scores_cpu[:-1]"
   ]
  },
  {
   "cell_type": "code",
   "execution_count": null,
   "id": "3c6eea22-7bf3-4818-985e-5156ecc0c523",
   "metadata": {},
   "outputs": [
    {
     "name": "stdout",
     "output_type": "stream",
     "text": [
      "0.5886346 -0.00025981382 0.019934615\n"
     ]
    }
   ],
   "source": [
    "print(max(relative_error), np.mean(relative_error), np.std(relative_error))"
   ]
  },
  {
   "cell_type": "code",
   "execution_count": null,
   "id": "3a28895d-dd0e-4660-b850-ab3d201b15f0",
   "metadata": {},
   "outputs": [
    {
     "name": "stdout",
     "output_type": "stream",
     "text": [
      "-0.013711817\n"
     ]
    },
    {
     "data": {
      "image/png": "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",
      "text/plain": [
       "<Figure size 640x480 with 1 Axes>"
      ]
     },
     "metadata": {},
     "output_type": "display_data"
    }
   ],
   "source": [
    "bin_edges = np.logspace(np.log10(min(np.abs(relative_error))), np.log10(max(np.abs(relative_error))), 30)\n",
    "print(np.log10(max(np.abs(relative_error))))\n",
    "plt.hist(np.abs(relative_error), bins=bin_edges)\n",
    "#plt.yscale('log')\n",
    "plt.xscale('log')"
   ]
  },
  {
   "cell_type": "code",
   "execution_count": null,
   "id": "2f8c90cc-3cab-4cb6-9b44-a5a14e130fb4",
   "metadata": {},
   "outputs": [
    {
     "data": {
      "image/png": "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",
      "text/plain": [
       "<Figure size 640x480 with 1 Axes>"
      ]
     },
     "metadata": {},
     "output_type": "display_data"
    }
   ],
   "source": [
    "plt.hist(np.abs(relative_error), bins=200)\n",
    "plt.yscale('log')\n",
    "#plt.xscale('log')"
   ]
  },
  {
   "cell_type": "code",
   "execution_count": null,
   "id": "a4ab63e1-70f6-47e7-aee0-2d1d160d7244",
   "metadata": {},
   "outputs": [],
   "source": [
    "p = 0.5\n",
    "ps = np.linspace(0+1e-2, 1-1e-2, 100)\n",
    "relative_differences = []\n",
    "for p in ps:\n",
    "    signal_cpu = raw_scores_cpu[:-1] > p\n",
    "    signal_fpga = raw_scores_fpga > p\n",
    "    different = signal_cpu ^ signal_fpga\n",
    "    relative_differences.append(np.sum(different)/different.size)\n",
    "    #print(np.sum(different)/different.size)"
   ]
  },
  {
   "cell_type": "code",
   "execution_count": null,
   "id": "2c55005c-3981-4b3a-9cd2-79742b0539b1",
   "metadata": {},
   "outputs": [
    {
     "data": {
      "text/plain": [
       "Text(0, 0.5, 'different prediction fraction')"
      ]
     },
     "execution_count": 60,
     "metadata": {},
     "output_type": "execute_result"
    },
    {
     "data": {
      "image/png": "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",
      "text/plain": [
       "<Figure size 640x480 with 1 Axes>"
      ]
     },
     "metadata": {},
     "output_type": "display_data"
    }
   ],
   "source": [
    "plt.plot(ps, relative_differences, 'o')\n",
    "plt.xlabel('treshold probability')\n",
    "plt.ylabel('different prediction fraction')"
   ]
  },
  {
   "cell_type": "markdown",
   "id": "0ce5b8ad-2923-47b7-998f-521b10b8a7bc",
   "metadata": {},
   "source": [
    "## Confronto tempi"
   ]
  },
  {
   "cell_type": "code",
   "execution_count": null,
   "id": "7cb71f76-5bab-46cf-8b76-f1822656ab74",
   "metadata": {},
   "outputs": [],
   "source": [
    "import time"
   ]
  },
  {
   "cell_type": "code",
   "execution_count": null,
   "id": "945ef00e-9950-4070-9e6c-e1b64fbc785c",
   "metadata": {},
   "outputs": [
    {
     "data": {
      "text/plain": [
       "125.553"
      ]
     },
     "execution_count": 62,
     "metadata": {},
     "output_type": "execute_result"
    }
   ],
   "source": [
    "dts = []\n",
    "for _ in range(1000):\n",
    "    time1 = time.time_ns()\n",
    "    time2 = time.time_ns()\n",
    "    dts.append(time2-time1)\n",
    "dt = np.mean(dts)\n",
    "dt"
   ]
  },
  {
   "cell_type": "code",
   "execution_count": null,
   "id": "0e2d9e0c-7810-4e8b-b277-b74bdeedb16a",
   "metadata": {},
   "outputs": [],
   "source": [
    "dtimes = []\n",
    "for x in X_test.to_numpy():\n",
    "    x = np.array([x])\n",
    "    time1 = time.time_ns()\n",
    "    raw_scores_cpu = model.predict(x, output_margin=True)\n",
    "    time2 = time.time_ns()\n",
    "    dtimes.append(time2-time1)"
   ]
  },
  {
   "cell_type": "code",
   "execution_count": null,
   "id": "6e11ba22-7e3f-40d3-86b1-038da284916a",
   "metadata": {},
   "outputs": [
    {
     "name": "stdout",
     "output_type": "stream",
     "text": [
      "427370.2252186589 1304905.2597360364 3.0533368558101985\n"
     ]
    }
   ],
   "source": [
    "print(np.mean(dtimes),np.std(dtimes), np.std(dtimes)/np.mean(dtimes))"
   ]
  },
  {
   "cell_type": "code",
   "execution_count": null,
   "id": "203b94ed-6d91-425c-95a8-ec90190395ff",
   "metadata": {},
   "outputs": [
    {
     "data": {
      "text/plain": [
       "0.36559344445296793"
      ]
     },
     "execution_count": 65,
     "metadata": {},
     "output_type": "execute_result"
    }
   ],
   "source": [
    "156243.75269433018/np.mean(dtimes)"
   ]
  },
  {
   "cell_type": "code",
   "execution_count": null,
   "id": "340c89bb-d2c0-47ab-aa7f-509af3323694",
   "metadata": {},
   "outputs": [
    {
     "data": {
      "text/plain": [
       "17864.115095743302"
      ]
     },
     "execution_count": 66,
     "metadata": {},
     "output_type": "execute_result"
    }
   ],
   "source": [
    "1/55978.143593481545/1e-9"
   ]
  },
  {
   "cell_type": "code",
   "execution_count": null,
   "id": "ca2185a1-5594-443f-8966-8018da7b7dfa",
   "metadata": {},
   "outputs": [
    {
     "data": {
      "image/png": "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",
      "text/plain": [
       "<Figure size 640x480 with 1 Axes>"
      ]
     },
     "metadata": {},
     "output_type": "display_data"
    }
   ],
   "source": [
    "bin_edges = np.logspace(np.log10(min(dtimes)), np.log10(max(dtimes)), 30)\n",
    "plt.hist(dtimes, bins=bin_edges)\n",
    "plt.vlines(np.mean(dtimes), 0, 17500, color='red') \n",
    "#plt.vlines(55978.143593481545, 0, 17500, color='green') \n",
    "plt.vlines(156243.75269433018, 0, 17500, color='orange')\n",
    "#plt.yscale('log')\n",
    "plt.xscale('log')"
   ]
  },
  {
   "cell_type": "code",
   "execution_count": null,
   "id": "a535a63f-39cb-484a-9888-fdc2d2820e05",
   "metadata": {},
   "outputs": [],
   "source": [
    "n_samples, n_features = X_test.shape\n",
    " \n",
    "dtimes = []\n",
    "for butch_size in range(1, 1000000, 30000):\n",
    "    x = np.zeros((butch_size, n_features), dtype=np.float32)\n",
    "    time1 = time.time_ns()\n",
    "    raw = model.predict(x, output_margin=True)\n",
    "    time2 = time.time_ns()\n",
    "    dtimes.append(time2 - time1 - dt)"
   ]
  },
  {
   "cell_type": "code",
   "execution_count": null,
   "id": "755484ea-d274-4ff9-b5da-c2500e94f9c5",
   "metadata": {},
   "outputs": [
    {
     "data": {
      "text/plain": [
       "[<matplotlib.lines.Line2D at 0x7f2217cc6470>]"
      ]
     },
     "execution_count": 69,
     "metadata": {},
     "output_type": "execute_result"
    },
    {
     "data": {
      "image/png": "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",
      "text/plain": [
       "<Figure size 640x480 with 1 Axes>"
      ]
     },
     "metadata": {},
     "output_type": "display_data"
    }
   ],
   "source": [
    "plt.plot(range(1, 1000000, 30000), dtimes)"
   ]
  },
  {
   "cell_type": "code",
   "execution_count": null,
   "id": "4fd07f95-f310-41cf-9d0c-73f9c99320b0",
   "metadata": {},
   "outputs": [],
   "source": [
    "file = open('tempi.txt', 'r')\n",
    "raw_times_fpga = file.read().split()\n",
    "times_fpga = []\n",
    "for line in raw_times_fpga:\n",
    "    x, y = line.split(';')\n",
    "    \n",
    "    times_fpga.append([np.float32(x), np.float32(y)])\n",
    "file.close()\n",
    "times_fpga = np.array(times_fpga).T"
   ]
  },
  {
   "cell_type": "code",
   "execution_count": null,
   "id": "4a76d7a4-9ec9-48bf-848c-803124003c9c",
   "metadata": {},
   "outputs": [
    {
     "name": "stdout",
     "output_type": "stream",
     "text": [
      "[2.9426716e+05 2.4690188e+07 4.9111376e+07 7.3514360e+07 9.8041144e+07\n",
      " 1.2239975e+08 1.4686282e+08 1.7134323e+08 1.9599950e+08 2.2022746e+08\n",
      " 2.4472491e+08 2.6907936e+08 2.9415741e+08 3.1918493e+08 3.4246019e+08\n",
      " 3.6699760e+08 3.9138403e+08 4.1581219e+08 4.4029792e+08 4.6466230e+08\n",
      " 4.8918381e+08 5.1359741e+08 5.3805222e+08 5.6243213e+08 5.8691264e+08\n",
      " 6.1137440e+08 6.3592026e+08 6.6024371e+08 6.8471117e+08 7.0915450e+08\n",
      " 7.3925030e+08 7.5813235e+08 7.8251629e+08 8.0702010e+08]\n"
     ]
    }
   ],
   "source": [
    "print(times_fpga[1])"
   ]
  },
  {
   "cell_type": "code",
   "execution_count": null,
   "id": "055bb896-15ff-4cfa-ae1b-367932f295ca",
   "metadata": {},
   "outputs": [
    {
     "data": {
      "text/plain": [
       "<matplotlib.legend.Legend at 0x7f2217a19120>"
      ]
     },
     "execution_count": 72,
     "metadata": {},
     "output_type": "execute_result"
    },
    {
     "data": {
      "image/png": "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",
      "text/plain": [
       "<Figure size 640x480 with 1 Axes>"
      ]
     },
     "metadata": {},
     "output_type": "display_data"
    }
   ],
   "source": [
    "plt.plot(range(1, 1000000, 30000), times_fpga[1], label='fpga', linewidth=0.9, color='red')\n",
    "plt.plot(range(1, 1000000, 30000), dtimes, label='cpu', linewidth=0.9, color='black')\n",
    "plt.vlines(140e3/40, min(times_fpga[1]), max(times_fpga[1]), color='gray', label='Massima memoria FPGA', linestyle='dashed', linewidth=1)\n",
    "#plt.vlines(30000, min(times_fpga[1]), max(times_fpga[1]), color='green')\n",
    "plt.yscale('log')\n",
    "plt.xscale('log')\n",
    "plt.xlabel('batch size')\n",
    "plt.ylabel('tempo di esecuzione (ns)')\n",
    "plt.legend()"
   ]
  },
  {
   "cell_type": "code",
   "execution_count": null,
   "id": "4150e011-94de-46ad-97c3-ca6d233b4f12",
   "metadata": {},
   "outputs": [
    {
     "name": "stdout",
     "output_type": "stream",
     "text": [
      "[ True False False False False False False False False False False False\n",
      " False False False False False False False False False False False False\n",
      " False False False False False False False False False False]\n"
     ]
    }
   ],
   "source": [
    "print(times_fpga[1] < dtimes)"
   ]
  },
  {
   "cell_type": "code",
   "execution_count": null,
   "id": "22e5b82b-8fea-4d81-914a-c1908e4ad556",
   "metadata": {},
   "outputs": [
    {
     "name": "stdout",
     "output_type": "stream",
     "text": [
      "[2.9426716e+05 2.4690188e+07 4.9111376e+07 7.3514360e+07 9.8041144e+07\n",
      " 1.2239975e+08 1.4686282e+08 1.7134323e+08 1.9599950e+08 2.2022746e+08\n",
      " 2.4472491e+08 2.6907936e+08 2.9415741e+08 3.1918493e+08 3.4246019e+08\n",
      " 3.6699760e+08 3.9138403e+08 4.1581219e+08 4.4029792e+08 4.6466230e+08\n",
      " 4.8918381e+08 5.1359741e+08 5.3805222e+08 5.6243213e+08 5.8691264e+08\n",
      " 6.1137440e+08 6.3592026e+08 6.6024371e+08 6.8471117e+08 7.0915450e+08\n",
      " 7.3925030e+08 7.5813235e+08 7.8251629e+08 8.0702010e+08]\n",
      "[1719564.447, 2139173.447, 3753015.447, 7029040.447, 6746075.447, 11639577.447, 8934379.447, 10516713.447, 12019267.447, 13274000.447, 14283184.447, 15507420.447, 17859109.447, 16985989.447, 20965039.447, 23762105.447, 25041885.447, 25837339.447, 26869757.447, 24566482.447, 30180865.447, 27191250.447, 31100275.447, 30021757.447, 34253857.447, 32447256.447, 36455270.447, 34927287.447, 35898754.447, 37297182.447, 38531675.447, 40251786.447, 41242591.447, 42483414.447]\n"
     ]
    }
   ],
   "source": [
    "print(times_fpga[1])\n",
    "print(dtimes)"
   ]
  },
  {
   "cell_type": "code",
   "execution_count": null,
   "id": "a29a4e68-5726-48d6-9645-2d911e6a4d75",
   "metadata": {},
   "outputs": [
    {
     "data": {
      "text/plain": [
       "60001.0"
      ]
     },
     "execution_count": 75,
     "metadata": {},
     "output_type": "execute_result"
    }
   ],
   "source": [
    "times_fpga[0, 2]"
   ]
  },
  {
   "cell_type": "code",
   "execution_count": null,
   "id": "5408cae3-6624-4786-90a8-9411521052b1",
   "metadata": {},
   "outputs": [],
   "source": [
    "n = 100000\n",
    "X = np.zeros((n, n_features))"
   ]
  },
  {
   "cell_type": "code",
   "execution_count": null,
   "id": "f9344069-12fd-4b76-ad0f-e683d7a9c3ec",
   "metadata": {},
   "outputs": [
    {
     "name": "stdout",
     "output_type": "stream",
     "text": [
      "2.64 ms ± 1.27 ms per loop (mean ± std. dev. of 7 runs, 100 loops each)\n"
     ]
    }
   ],
   "source": [
    "%timeit model.predict(X_test, output_margin=True)"
   ]
  },
  {
   "cell_type": "markdown",
   "id": "80fb231c-01e8-4c83-ac7e-fbaadd6d7e63",
   "metadata": {},
   "source": [
    "## Confronto tempi prima della saturazione della memoria"
   ]
  },
  {
   "cell_type": "code",
   "execution_count": null,
   "id": "b50a3269-5f1d-430b-b00a-d39ee05982b2",
   "metadata": {},
   "outputs": [],
   "source": [
    "file = open('tempi (1).txt', 'r')\n",
    "raw_times_fpga = file.read().split()\n",
    "times_fpga = []\n",
    "for line in raw_times_fpga:\n",
    "    x, y = line.split(';')\n",
    "    \n",
    "    times_fpga.append([np.float32(x), np.float32(y)])\n",
    "file.close()\n",
    "times_fpga = np.array(times_fpga).T\n",
    "xs = np.int_(times_fpga[0, :])"
   ]
  },
  {
   "cell_type": "code",
   "execution_count": null,
   "id": "6d78ce62-35fe-4b87-b66e-050cdedc04bc",
   "metadata": {},
   "outputs": [
    {
     "data": {
      "text/plain": [
       "array([   1,   31,   61,   91,  122,  152,  182,  213,  243,  273,  303,\n",
       "        334,  364,  394,  425,  455,  485,  515,  546,  576,  606,  637,\n",
       "        667,  697,  728,  758,  788,  818,  849,  879,  909,  940,  970,\n",
       "       1000, 1030, 1061, 1091, 1121, 1152, 1182, 1212, 1243, 1273, 1303,\n",
       "       1333, 1364, 1394, 1424, 1455, 1485, 1515, 1545, 1576, 1606, 1636,\n",
       "       1667, 1697, 1727, 1757, 1788, 1818, 1848, 1879, 1909, 1939, 1970,\n",
       "       2000, 2030, 2060, 2091, 2121, 2151, 2182, 2212, 2242, 2272, 2303,\n",
       "       2333, 2363, 2394, 2424, 2454, 2485, 2515, 2545, 2575, 2606, 2636,\n",
       "       2666, 2697, 2727, 2757, 2787, 2818, 2848, 2878, 2909, 2939, 2969,\n",
       "       3000])"
      ]
     },
     "execution_count": 80,
     "metadata": {},
     "output_type": "execute_result"
    }
   ],
   "source": [
    "xs"
   ]
  },
  {
   "cell_type": "code",
   "execution_count": null,
   "id": "d06f0f12-ab7a-4bc7-bfab-af7c47bb4451",
   "metadata": {},
   "outputs": [],
   "source": [
    "n_samples, n_features = X_test.shape\n",
    " \n",
    "dtimes = []\n",
    "for butch_size in xs:\n",
    "    x = np.zeros((butch_size, n_features), dtype=np.float32)\n",
    "    time1 = time.time_ns()\n",
    "    raw = model.predict(x, output_margin=True)\n",
    "    time2 = time.time_ns()\n",
    "    dtimes.append(time2 - time1)"
   ]
  },
  {
   "cell_type": "code",
   "execution_count": null,
   "id": "c1da99f5-1617-4806-8f3a-b349fa56bc24",
   "metadata": {},
   "outputs": [
    {
     "data": {
      "image/png": "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",
      "text/plain": [
       "<Figure size 640x480 with 1 Axes>"
      ]
     },
     "metadata": {},
     "output_type": "display_data"
    }
   ],
   "source": [
    "plt.plot(xs, times_fpga[1], label='fpga', linewidth=0.9, color='red')\n",
    "plt.plot(xs, dtimes, label='cpu', linewidth=0.9, color='black')\n",
    "#plt.vlines(140e3/40, min(times_fpga[1]), max(times_fpga[1]), color='gray', label='Massima memoria FPGA', linestyle='dashed', linewidth=1)\n",
    "#plt.vlines(30000, min(times_fpga[1]), max(times_fpga[1]), color='green')\n",
    "#plt.yscale('log')\n",
    "#plt.xscale('log')\n",
    "plt.xlabel('batch size')\n",
    "plt.ylabel('tempo di esecuzione (ns)')\n",
    "plt.legend()\n",
    "plt.savefig('cpuvfpga.png')"
   ]
  },
  {
   "cell_type": "code",
   "execution_count": null,
   "id": "82d86305-5378-4084-ad34-7d0977d3d56e",
   "metadata": {},
   "outputs": [
    {
     "data": {
      "text/plain": [
       "<Figure size 640x480 with 0 Axes>"
      ]
     },
     "metadata": {},
     "output_type": "display_data"
    }
   ],
   "source": []
  },
  {
   "cell_type": "code",
   "execution_count": null,
   "id": "9cf5205f-a976-41c7-8e0c-504a7b2b9159",
   "metadata": {},
   "outputs": [],
   "source": []
>>>>>>> fbfb54b (first commit)
  }
 ],
 "metadata": {
  "kernelspec": {
   "display_name": ".venv",
   "language": "python",
   "name": "python3"
  },
  "language_info": {
   "codemirror_mode": {
    "name": "ipython",
    "version": 3
   },
   "file_extension": ".py",
   "mimetype": "text/x-python",
   "name": "python",
   "nbconvert_exporter": "python",
   "pygments_lexer": "ipython3",
   "version": "3.11.2"
  }
 },
 "nbformat": 4,
 "nbformat_minor": 5
}
